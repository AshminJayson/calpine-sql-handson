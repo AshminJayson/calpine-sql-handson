{
 "cells": [
  {
   "cell_type": "markdown",
   "id": "cc2ca6d9",
   "metadata": {
    "vscode": {
     "languageId": "groovy"
    }
   },
   "source": [
    "# EXPLORATORY DATA ANALYSIS (EDA) - OVERVIEW & PANDAS FUNCTIONS\n",
    "\n",
    "EDA is a critical step in the data science process that helps us understand our dataset \n",
    "before applying machine learning algorithms or statistical models.\n",
    "\n",
    "KEY OBJECTIVES OF EDA:\n",
    "1. Understand the structure and characteristics of the data\n",
    "2. Identify missing values, outliers, and data quality issues\n",
    "3. Discover patterns, trends, and relationships in the data\n",
    "4. Generate hypotheses for further analysis\n",
    "5. Inform data preprocessing and feature engineering decisions\n",
    "\n",
    "ESSENTIAL PANDAS FUNCTIONS FOR EDA:\n",
    "\n",
    "1. DATA OVERVIEW:\n",
    "    - df.head() / df.head(n)     → View first n rows (default 5)\n",
    "    - df.tail() / df.tail(n)     → View last n rows (default 5)\n",
    "    - df.sample(n)               → View n random rows\n",
    "    - df.shape                   → Get dimensions (rows, columns)\n",
    "    - df.columns                 → List all column names\n",
    "    - df.info()                  → Data types, memory usage, non-null counts\n",
    "    - df.dtypes                  → Data types of each column\n",
    "\n",
    "2. STATISTICAL SUMMARY:\n",
    "    - df.describe()              → Summary statistics for numerical columns\n",
    "    - df.describe(include='all') → Summary statistics for all columns\n",
    "    - df.nunique()               → Count unique values per column\n",
    "    - df.value_counts()          → Frequency count of unique values\n",
    "\n",
    "3. DATA QUALITY ASSESSMENT:\n",
    "    - df.isnull().sum()          → Count missing values per column\n",
    "    - df.isna().sum()            → Alternative to isnull()\n",
    "    - df.duplicated().sum()      → Count duplicate rows\n",
    "    - df.drop_duplicates()       → Remove duplicate rows\n",
    "\n",
    "4. DATA EXPLORATION:\n",
    "    - df.groupby().agg()         → Group data and apply aggregations\n",
    "    - df.corr()                  → Correlation matrix for numerical columns\n",
    "    - df.crosstab()              → Cross-tabulation for categorical variables\n",
    "    - df.pivot_table()           → Create pivot tables\n",
    "\n",
    "5. DATA VISUALIZATION (with pandas plotting):\n",
    "    - df.plot()                  → Basic line plot\n",
    "    - df.hist()                  → Histograms for all numerical columns\n",
    "    - df.boxplot()               → Box plots for outlier detection\n",
    "    - df.plot.scatter()          → Scatter plots for relationships\n",
    "\n",
    "CURRENT DATASET INSIGHTS:\n",
    "- Dataset contains 525 rows and 18 columns\n",
    "- Multiple data types: numerical (Age, Purchase Amount, etc.) and categorical (Gender, Category, etc.)\n",
    "- Significant missing values across most columns (ranging from 8-48 missing values per column)\n",
    "- Mixed case inconsistencies in Gender column ('Male', 'female', 'Female')\n",
    "- Some critical columns like Customer ID have missing values (39 missing)\n",
    "\"\"\""
   ]
  },
  {
   "cell_type": "code",
   "execution_count": 1,
   "id": "35edd7a5",
   "metadata": {},
   "outputs": [],
   "source": [
    "import pandas as pd\n",
    "import numpy as np\n",
    "\n",
    "# Load the dataset\n",
    "df: pd.DataFrame = pd.read_csv('customer_purchase_dataset.csv')"
   ]
  },
  {
   "cell_type": "code",
   "execution_count": 2,
   "id": "b3cb9f6a",
   "metadata": {},
   "outputs": [
    {
     "data": {
      "text/html": [
       "<div>\n",
       "<style scoped>\n",
       "    .dataframe tbody tr th:only-of-type {\n",
       "        vertical-align: middle;\n",
       "    }\n",
       "\n",
       "    .dataframe tbody tr th {\n",
       "        vertical-align: top;\n",
       "    }\n",
       "\n",
       "    .dataframe thead th {\n",
       "        text-align: right;\n",
       "    }\n",
       "</style>\n",
       "<table border=\"1\" class=\"dataframe\">\n",
       "  <thead>\n",
       "    <tr style=\"text-align: right;\">\n",
       "      <th></th>\n",
       "      <th>Customer ID</th>\n",
       "      <th>Age</th>\n",
       "      <th>Gender</th>\n",
       "      <th>Item Purchased</th>\n",
       "      <th>Category</th>\n",
       "      <th>Purchase Amount (USD)</th>\n",
       "      <th>Location</th>\n",
       "      <th>Size</th>\n",
       "      <th>Color</th>\n",
       "      <th>Season</th>\n",
       "      <th>Review Rating</th>\n",
       "      <th>Subscription Status</th>\n",
       "      <th>Shipping Type</th>\n",
       "      <th>Discount Applied</th>\n",
       "      <th>Promo Code Used</th>\n",
       "      <th>Previous Purchases</th>\n",
       "      <th>Payment Method</th>\n",
       "      <th>Frequency of Purchases</th>\n",
       "    </tr>\n",
       "  </thead>\n",
       "  <tbody>\n",
       "    <tr>\n",
       "      <th>0</th>\n",
       "      <td>CUST0001</td>\n",
       "      <td>40.0</td>\n",
       "      <td>female</td>\n",
       "      <td>Pants</td>\n",
       "      <td>Clothing</td>\n",
       "      <td>220.66</td>\n",
       "      <td>New York</td>\n",
       "      <td>XL</td>\n",
       "      <td>Red</td>\n",
       "      <td>Fall</td>\n",
       "      <td>3.0</td>\n",
       "      <td>Yes</td>\n",
       "      <td>Same-Day</td>\n",
       "      <td>Yes</td>\n",
       "      <td>Yes</td>\n",
       "      <td>2.0</td>\n",
       "      <td>Credit Card</td>\n",
       "      <td>Weekly</td>\n",
       "    </tr>\n",
       "    <tr>\n",
       "      <th>1</th>\n",
       "      <td>CUST0002</td>\n",
       "      <td>33.0</td>\n",
       "      <td>Female</td>\n",
       "      <td>Pants</td>\n",
       "      <td>Clothing</td>\n",
       "      <td>214.51</td>\n",
       "      <td>Houston</td>\n",
       "      <td>XL</td>\n",
       "      <td>Black</td>\n",
       "      <td>Spring</td>\n",
       "      <td>3.0</td>\n",
       "      <td>No</td>\n",
       "      <td>Same-Day</td>\n",
       "      <td>No</td>\n",
       "      <td>No</td>\n",
       "      <td>0.0</td>\n",
       "      <td>Apple Pay</td>\n",
       "      <td>Monthly</td>\n",
       "    </tr>\n",
       "    <tr>\n",
       "      <th>2</th>\n",
       "      <td>CUST0003</td>\n",
       "      <td>42.0</td>\n",
       "      <td>Female</td>\n",
       "      <td>Shoes</td>\n",
       "      <td>Footwear</td>\n",
       "      <td>176.53</td>\n",
       "      <td>New York</td>\n",
       "      <td>S</td>\n",
       "      <td>White</td>\n",
       "      <td>Winter</td>\n",
       "      <td>2.0</td>\n",
       "      <td>Yes</td>\n",
       "      <td>Standard</td>\n",
       "      <td>No</td>\n",
       "      <td>Yes</td>\n",
       "      <td>6.0</td>\n",
       "      <td>Debit Card</td>\n",
       "      <td>Fortnightly</td>\n",
       "    </tr>\n",
       "    <tr>\n",
       "      <th>3</th>\n",
       "      <td>CUST0004</td>\n",
       "      <td>53.0</td>\n",
       "      <td>Male</td>\n",
       "      <td>Dress</td>\n",
       "      <td>Clothing</td>\n",
       "      <td>128.40</td>\n",
       "      <td>Los Angeles</td>\n",
       "      <td>XL</td>\n",
       "      <td>Red</td>\n",
       "      <td>Spring</td>\n",
       "      <td>4.0</td>\n",
       "      <td>Yes</td>\n",
       "      <td>Standard</td>\n",
       "      <td>Yes</td>\n",
       "      <td>No</td>\n",
       "      <td>10.0</td>\n",
       "      <td>Google Pay</td>\n",
       "      <td>Weekly</td>\n",
       "    </tr>\n",
       "    <tr>\n",
       "      <th>4</th>\n",
       "      <td>CUST0005</td>\n",
       "      <td>32.0</td>\n",
       "      <td>Female</td>\n",
       "      <td>Dress</td>\n",
       "      <td>Clothing</td>\n",
       "      <td>187.68</td>\n",
       "      <td>Miami</td>\n",
       "      <td>S</td>\n",
       "      <td>Red</td>\n",
       "      <td>Spring</td>\n",
       "      <td>4.0</td>\n",
       "      <td>Yes</td>\n",
       "      <td>Express</td>\n",
       "      <td>Yes</td>\n",
       "      <td>No</td>\n",
       "      <td>4.0</td>\n",
       "      <td>Apple Pay</td>\n",
       "      <td>Weekly</td>\n",
       "    </tr>\n",
       "  </tbody>\n",
       "</table>\n",
       "</div>"
      ],
      "text/plain": [
       "  Customer ID   Age  Gender Item Purchased  Category  Purchase Amount (USD)  \\\n",
       "0    CUST0001  40.0  female          Pants  Clothing                 220.66   \n",
       "1    CUST0002  33.0  Female          Pants  Clothing                 214.51   \n",
       "2    CUST0003  42.0  Female          Shoes  Footwear                 176.53   \n",
       "3    CUST0004  53.0    Male          Dress  Clothing                 128.40   \n",
       "4    CUST0005  32.0  Female          Dress  Clothing                 187.68   \n",
       "\n",
       "      Location Size  Color  Season Review Rating Subscription Status  \\\n",
       "0     New York   XL    Red    Fall           3.0                 Yes   \n",
       "1      Houston   XL  Black  Spring           3.0                  No   \n",
       "2     New York    S  White  Winter           2.0                 Yes   \n",
       "3  Los Angeles   XL    Red  Spring           4.0                 Yes   \n",
       "4        Miami    S    Red  Spring           4.0                 Yes   \n",
       "\n",
       "  Shipping Type Discount Applied Promo Code Used  Previous Purchases  \\\n",
       "0      Same-Day              Yes             Yes                 2.0   \n",
       "1      Same-Day               No              No                 0.0   \n",
       "2      Standard               No             Yes                 6.0   \n",
       "3      Standard              Yes              No                10.0   \n",
       "4       Express              Yes              No                 4.0   \n",
       "\n",
       "  Payment Method Frequency of Purchases  \n",
       "0    Credit Card                 Weekly  \n",
       "1      Apple Pay                Monthly  \n",
       "2     Debit Card            Fortnightly  \n",
       "3     Google Pay                 Weekly  \n",
       "4      Apple Pay                 Weekly  "
      ]
     },
     "execution_count": 2,
     "metadata": {},
     "output_type": "execute_result"
    }
   ],
   "source": [
    "# View first 5 rows\n",
    "df.head()"
   ]
  },
  {
   "cell_type": "code",
   "execution_count": 3,
   "id": "54e2a571",
   "metadata": {},
   "outputs": [
    {
     "data": {
      "text/html": [
       "<div>\n",
       "<style scoped>\n",
       "    .dataframe tbody tr th:only-of-type {\n",
       "        vertical-align: middle;\n",
       "    }\n",
       "\n",
       "    .dataframe tbody tr th {\n",
       "        vertical-align: top;\n",
       "    }\n",
       "\n",
       "    .dataframe thead th {\n",
       "        text-align: right;\n",
       "    }\n",
       "</style>\n",
       "<table border=\"1\" class=\"dataframe\">\n",
       "  <thead>\n",
       "    <tr style=\"text-align: right;\">\n",
       "      <th></th>\n",
       "      <th>Customer ID</th>\n",
       "      <th>Age</th>\n",
       "      <th>Gender</th>\n",
       "      <th>Item Purchased</th>\n",
       "      <th>Category</th>\n",
       "      <th>Purchase Amount (USD)</th>\n",
       "      <th>Location</th>\n",
       "      <th>Size</th>\n",
       "      <th>Color</th>\n",
       "      <th>Season</th>\n",
       "      <th>Review Rating</th>\n",
       "      <th>Subscription Status</th>\n",
       "      <th>Shipping Type</th>\n",
       "      <th>Discount Applied</th>\n",
       "      <th>Promo Code Used</th>\n",
       "      <th>Previous Purchases</th>\n",
       "      <th>Payment Method</th>\n",
       "      <th>Frequency of Purchases</th>\n",
       "    </tr>\n",
       "  </thead>\n",
       "  <tbody>\n",
       "    <tr>\n",
       "      <th>274</th>\n",
       "      <td>CUST0275</td>\n",
       "      <td>23.0</td>\n",
       "      <td>Female</td>\n",
       "      <td>Jacket</td>\n",
       "      <td>Clothing</td>\n",
       "      <td>116.46</td>\n",
       "      <td>Miami</td>\n",
       "      <td>XL</td>\n",
       "      <td>Green</td>\n",
       "      <td>Winter</td>\n",
       "      <td>5.0</td>\n",
       "      <td>Yes</td>\n",
       "      <td>Same-Day</td>\n",
       "      <td>No</td>\n",
       "      <td>No</td>\n",
       "      <td>6.0</td>\n",
       "      <td>Apple Pay</td>\n",
       "      <td>Monthly</td>\n",
       "    </tr>\n",
       "    <tr>\n",
       "      <th>492</th>\n",
       "      <td>CUST0493</td>\n",
       "      <td>35.0</td>\n",
       "      <td>Female</td>\n",
       "      <td>Shoes</td>\n",
       "      <td>Footwear</td>\n",
       "      <td>66.41</td>\n",
       "      <td>Miami</td>\n",
       "      <td>L</td>\n",
       "      <td>White</td>\n",
       "      <td>Fall</td>\n",
       "      <td>4.0</td>\n",
       "      <td>Yes</td>\n",
       "      <td>Standard</td>\n",
       "      <td>No</td>\n",
       "      <td>Yes</td>\n",
       "      <td>4.0</td>\n",
       "      <td>Google Pay</td>\n",
       "      <td>Weekly</td>\n",
       "    </tr>\n",
       "    <tr>\n",
       "      <th>88</th>\n",
       "      <td>CUST0089</td>\n",
       "      <td>28.0</td>\n",
       "      <td>Female</td>\n",
       "      <td>Dress</td>\n",
       "      <td>Clothing</td>\n",
       "      <td>215.53</td>\n",
       "      <td>New York</td>\n",
       "      <td>XL</td>\n",
       "      <td>Yellow</td>\n",
       "      <td>Fall</td>\n",
       "      <td>4.0</td>\n",
       "      <td>No</td>\n",
       "      <td>Same-Day</td>\n",
       "      <td>No</td>\n",
       "      <td>No</td>\n",
       "      <td>6.0</td>\n",
       "      <td>Apple Pay</td>\n",
       "      <td>Fortnightly</td>\n",
       "    </tr>\n",
       "    <tr>\n",
       "      <th>264</th>\n",
       "      <td>CUST0265</td>\n",
       "      <td>31.0</td>\n",
       "      <td>Female</td>\n",
       "      <td>Pants</td>\n",
       "      <td>Clothing</td>\n",
       "      <td>28.63</td>\n",
       "      <td>New York</td>\n",
       "      <td>M</td>\n",
       "      <td>White</td>\n",
       "      <td>Fall</td>\n",
       "      <td>4.0</td>\n",
       "      <td>Yes</td>\n",
       "      <td>Same-Day</td>\n",
       "      <td>No</td>\n",
       "      <td>Yes</td>\n",
       "      <td>1.0</td>\n",
       "      <td>Credit Card</td>\n",
       "      <td>Fortnightly</td>\n",
       "    </tr>\n",
       "    <tr>\n",
       "      <th>250</th>\n",
       "      <td>CUST0251</td>\n",
       "      <td>19.0</td>\n",
       "      <td>Male</td>\n",
       "      <td>Dress</td>\n",
       "      <td>NaN</td>\n",
       "      <td>88.30</td>\n",
       "      <td>Miami</td>\n",
       "      <td>M</td>\n",
       "      <td>Green</td>\n",
       "      <td>Spring</td>\n",
       "      <td>4.0</td>\n",
       "      <td>No</td>\n",
       "      <td>Express</td>\n",
       "      <td>No</td>\n",
       "      <td>Yes</td>\n",
       "      <td>9.0</td>\n",
       "      <td>Debit Card</td>\n",
       "      <td>Weekly</td>\n",
       "    </tr>\n",
       "  </tbody>\n",
       "</table>\n",
       "</div>"
      ],
      "text/plain": [
       "    Customer ID   Age  Gender Item Purchased  Category  Purchase Amount (USD)  \\\n",
       "274    CUST0275  23.0  Female         Jacket  Clothing                 116.46   \n",
       "492    CUST0493  35.0  Female          Shoes  Footwear                  66.41   \n",
       "88     CUST0089  28.0  Female          Dress  Clothing                 215.53   \n",
       "264    CUST0265  31.0  Female          Pants  Clothing                  28.63   \n",
       "250    CUST0251  19.0    Male          Dress       NaN                  88.30   \n",
       "\n",
       "     Location Size   Color  Season Review Rating Subscription Status  \\\n",
       "274     Miami   XL   Green  Winter           5.0                 Yes   \n",
       "492     Miami    L   White    Fall           4.0                 Yes   \n",
       "88   New York   XL  Yellow    Fall           4.0                  No   \n",
       "264  New York    M   White    Fall           4.0                 Yes   \n",
       "250     Miami    M   Green  Spring           4.0                  No   \n",
       "\n",
       "    Shipping Type Discount Applied Promo Code Used  Previous Purchases  \\\n",
       "274      Same-Day               No              No                 6.0   \n",
       "492      Standard               No             Yes                 4.0   \n",
       "88       Same-Day               No              No                 6.0   \n",
       "264      Same-Day               No             Yes                 1.0   \n",
       "250       Express               No             Yes                 9.0   \n",
       "\n",
       "    Payment Method Frequency of Purchases  \n",
       "274      Apple Pay                Monthly  \n",
       "492     Google Pay                 Weekly  \n",
       "88       Apple Pay            Fortnightly  \n",
       "264    Credit Card            Fortnightly  \n",
       "250     Debit Card                 Weekly  "
      ]
     },
     "execution_count": 3,
     "metadata": {},
     "output_type": "execute_result"
    }
   ],
   "source": [
    "# View random 5 rows\n",
    "df.sample(5)"
   ]
  },
  {
   "cell_type": "code",
   "execution_count": 4,
   "id": "dcc00bf5",
   "metadata": {},
   "outputs": [
    {
     "data": {
      "text/html": [
       "<div>\n",
       "<style scoped>\n",
       "    .dataframe tbody tr th:only-of-type {\n",
       "        vertical-align: middle;\n",
       "    }\n",
       "\n",
       "    .dataframe tbody tr th {\n",
       "        vertical-align: top;\n",
       "    }\n",
       "\n",
       "    .dataframe thead th {\n",
       "        text-align: right;\n",
       "    }\n",
       "</style>\n",
       "<table border=\"1\" class=\"dataframe\">\n",
       "  <thead>\n",
       "    <tr style=\"text-align: right;\">\n",
       "      <th></th>\n",
       "      <th>Customer ID</th>\n",
       "      <th>Age</th>\n",
       "      <th>Gender</th>\n",
       "      <th>Item Purchased</th>\n",
       "      <th>Category</th>\n",
       "      <th>Purchase Amount (USD)</th>\n",
       "      <th>Location</th>\n",
       "      <th>Size</th>\n",
       "      <th>Color</th>\n",
       "      <th>Season</th>\n",
       "      <th>Review Rating</th>\n",
       "      <th>Subscription Status</th>\n",
       "      <th>Shipping Type</th>\n",
       "      <th>Discount Applied</th>\n",
       "      <th>Promo Code Used</th>\n",
       "      <th>Previous Purchases</th>\n",
       "      <th>Payment Method</th>\n",
       "      <th>Frequency of Purchases</th>\n",
       "    </tr>\n",
       "  </thead>\n",
       "  <tbody>\n",
       "    <tr>\n",
       "      <th>520</th>\n",
       "      <td>CUST0043</td>\n",
       "      <td>33.0</td>\n",
       "      <td>Female</td>\n",
       "      <td>Pants</td>\n",
       "      <td>NaN</td>\n",
       "      <td>114.67</td>\n",
       "      <td>Chicago</td>\n",
       "      <td>M</td>\n",
       "      <td>Red</td>\n",
       "      <td>Spring</td>\n",
       "      <td>4.0</td>\n",
       "      <td>No</td>\n",
       "      <td>Express</td>\n",
       "      <td>No</td>\n",
       "      <td>Yes</td>\n",
       "      <td>5.0</td>\n",
       "      <td>Debit Card</td>\n",
       "      <td>Fortnightly</td>\n",
       "    </tr>\n",
       "    <tr>\n",
       "      <th>521</th>\n",
       "      <td>CUST0323</td>\n",
       "      <td>25.0</td>\n",
       "      <td>Male</td>\n",
       "      <td>Bag</td>\n",
       "      <td>Accessories</td>\n",
       "      <td>125.49</td>\n",
       "      <td>Houston</td>\n",
       "      <td>L</td>\n",
       "      <td>Red</td>\n",
       "      <td>Winter</td>\n",
       "      <td>1.0</td>\n",
       "      <td>Yes</td>\n",
       "      <td>Same-Day</td>\n",
       "      <td>No</td>\n",
       "      <td>Yes</td>\n",
       "      <td>0.0</td>\n",
       "      <td>Credit Card</td>\n",
       "      <td>Monthly</td>\n",
       "    </tr>\n",
       "    <tr>\n",
       "      <th>522</th>\n",
       "      <td>CUST0206</td>\n",
       "      <td>23.0</td>\n",
       "      <td>Male</td>\n",
       "      <td>Bag</td>\n",
       "      <td>Accessories</td>\n",
       "      <td>233.40</td>\n",
       "      <td>Houston</td>\n",
       "      <td>S</td>\n",
       "      <td>Yellow</td>\n",
       "      <td>Winter</td>\n",
       "      <td>4.0</td>\n",
       "      <td>No</td>\n",
       "      <td>Express</td>\n",
       "      <td>Yes</td>\n",
       "      <td>No</td>\n",
       "      <td>9.0</td>\n",
       "      <td>Credit Card</td>\n",
       "      <td>Weekly</td>\n",
       "    </tr>\n",
       "    <tr>\n",
       "      <th>523</th>\n",
       "      <td>CUST0399</td>\n",
       "      <td>33.0</td>\n",
       "      <td>Female</td>\n",
       "      <td>Dress</td>\n",
       "      <td>Clothing</td>\n",
       "      <td>92.27</td>\n",
       "      <td>Chicago</td>\n",
       "      <td>L</td>\n",
       "      <td>Yellow</td>\n",
       "      <td>Summer</td>\n",
       "      <td>Five</td>\n",
       "      <td>Yes</td>\n",
       "      <td>Same-Day</td>\n",
       "      <td>No</td>\n",
       "      <td>Yes</td>\n",
       "      <td>0.0</td>\n",
       "      <td>Apple Pay</td>\n",
       "      <td>Fortnightly</td>\n",
       "    </tr>\n",
       "    <tr>\n",
       "      <th>524</th>\n",
       "      <td>CUST0385</td>\n",
       "      <td>25.0</td>\n",
       "      <td>Male</td>\n",
       "      <td>Bag</td>\n",
       "      <td>Accessories</td>\n",
       "      <td>204.43</td>\n",
       "      <td>Los Angeles</td>\n",
       "      <td>XL</td>\n",
       "      <td>Green</td>\n",
       "      <td>Summer</td>\n",
       "      <td>3.0</td>\n",
       "      <td>Yes</td>\n",
       "      <td>Same-Day</td>\n",
       "      <td>No</td>\n",
       "      <td>No</td>\n",
       "      <td>7.0</td>\n",
       "      <td>Debit Card</td>\n",
       "      <td>Weekly</td>\n",
       "    </tr>\n",
       "  </tbody>\n",
       "</table>\n",
       "</div>"
      ],
      "text/plain": [
       "    Customer ID   Age  Gender Item Purchased     Category  \\\n",
       "520    CUST0043  33.0  Female          Pants          NaN   \n",
       "521    CUST0323  25.0    Male            Bag  Accessories   \n",
       "522    CUST0206  23.0    Male            Bag  Accessories   \n",
       "523    CUST0399  33.0  Female          Dress     Clothing   \n",
       "524    CUST0385  25.0    Male            Bag  Accessories   \n",
       "\n",
       "     Purchase Amount (USD)     Location Size   Color  Season Review Rating  \\\n",
       "520                 114.67      Chicago    M     Red  Spring           4.0   \n",
       "521                 125.49      Houston    L     Red  Winter           1.0   \n",
       "522                 233.40      Houston    S  Yellow  Winter           4.0   \n",
       "523                  92.27      Chicago    L  Yellow  Summer          Five   \n",
       "524                 204.43  Los Angeles   XL   Green  Summer           3.0   \n",
       "\n",
       "    Subscription Status Shipping Type Discount Applied Promo Code Used  \\\n",
       "520                  No       Express               No             Yes   \n",
       "521                 Yes      Same-Day               No             Yes   \n",
       "522                  No       Express              Yes              No   \n",
       "523                 Yes      Same-Day               No             Yes   \n",
       "524                 Yes      Same-Day               No              No   \n",
       "\n",
       "     Previous Purchases Payment Method Frequency of Purchases  \n",
       "520                 5.0     Debit Card            Fortnightly  \n",
       "521                 0.0    Credit Card                Monthly  \n",
       "522                 9.0    Credit Card                 Weekly  \n",
       "523                 0.0      Apple Pay            Fortnightly  \n",
       "524                 7.0     Debit Card                 Weekly  "
      ]
     },
     "execution_count": 4,
     "metadata": {},
     "output_type": "execute_result"
    }
   ],
   "source": [
    "# View last 5 rows\n",
    "df.tail(5) "
   ]
  },
  {
   "cell_type": "code",
   "execution_count": 5,
   "id": "579ab30c",
   "metadata": {},
   "outputs": [
    {
     "data": {
      "text/plain": [
       "(525, 18)"
      ]
     },
     "execution_count": 5,
     "metadata": {},
     "output_type": "execute_result"
    }
   ],
   "source": [
    "# Row and column count\n",
    "df.shape"
   ]
  },
  {
   "cell_type": "code",
   "execution_count": 6,
   "id": "1545d974",
   "metadata": {},
   "outputs": [
    {
     "data": {
      "text/plain": [
       "Index(['Customer ID', 'Age', 'Gender', 'Item Purchased', 'Category',\n",
       "       'Purchase Amount (USD)', 'Location', 'Size', 'Color', 'Season',\n",
       "       'Review Rating', 'Subscription Status', 'Shipping Type',\n",
       "       'Discount Applied', 'Promo Code Used', 'Previous Purchases',\n",
       "       'Payment Method', 'Frequency of Purchases'],\n",
       "      dtype='object')"
      ]
     },
     "execution_count": 6,
     "metadata": {},
     "output_type": "execute_result"
    }
   ],
   "source": [
    "# Show columns\n",
    "df.columns"
   ]
  },
  {
   "cell_type": "code",
   "execution_count": 7,
   "id": "2d693105",
   "metadata": {},
   "outputs": [
    {
     "name": "stdout",
     "output_type": "stream",
     "text": [
      "<class 'pandas.core.frame.DataFrame'>\n",
      "RangeIndex: 525 entries, 0 to 524\n",
      "Data columns (total 18 columns):\n",
      " #   Column                  Non-Null Count  Dtype  \n",
      "---  ------                  --------------  -----  \n",
      " 0   Customer ID             517 non-null    object \n",
      " 1   Age                     516 non-null    float64\n",
      " 2   Gender                  522 non-null    object \n",
      " 3   Item Purchased          523 non-null    object \n",
      " 4   Category                515 non-null    object \n",
      " 5   Purchase Amount (USD)   518 non-null    float64\n",
      " 6   Location                524 non-null    object \n",
      " 7   Size                    522 non-null    object \n",
      " 8   Color                   524 non-null    object \n",
      " 9   Season                  518 non-null    object \n",
      " 10  Review Rating           519 non-null    object \n",
      " 11  Subscription Status     520 non-null    object \n",
      " 12  Shipping Type           517 non-null    object \n",
      " 13  Discount Applied        516 non-null    object \n",
      " 14  Promo Code Used         518 non-null    object \n",
      " 15  Previous Purchases      521 non-null    float64\n",
      " 16  Payment Method          515 non-null    object \n",
      " 17  Frequency of Purchases  523 non-null    object \n",
      "dtypes: float64(3), object(15)\n",
      "memory usage: 74.0+ KB\n"
     ]
    }
   ],
   "source": [
    "# Information about the dataset\n",
    "df.info()"
   ]
  },
  {
   "cell_type": "code",
   "execution_count": 8,
   "id": "5183036e",
   "metadata": {},
   "outputs": [
    {
     "data": {
      "text/html": [
       "<div>\n",
       "<style scoped>\n",
       "    .dataframe tbody tr th:only-of-type {\n",
       "        vertical-align: middle;\n",
       "    }\n",
       "\n",
       "    .dataframe tbody tr th {\n",
       "        vertical-align: top;\n",
       "    }\n",
       "\n",
       "    .dataframe thead th {\n",
       "        text-align: right;\n",
       "    }\n",
       "</style>\n",
       "<table border=\"1\" class=\"dataframe\">\n",
       "  <thead>\n",
       "    <tr style=\"text-align: right;\">\n",
       "      <th></th>\n",
       "      <th>Age</th>\n",
       "      <th>Purchase Amount (USD)</th>\n",
       "      <th>Previous Purchases</th>\n",
       "    </tr>\n",
       "  </thead>\n",
       "  <tbody>\n",
       "    <tr>\n",
       "      <th>count</th>\n",
       "      <td>516.000000</td>\n",
       "      <td>518.000000</td>\n",
       "      <td>521.000000</td>\n",
       "    </tr>\n",
       "    <tr>\n",
       "      <th>mean</th>\n",
       "      <td>34.813953</td>\n",
       "      <td>150.769459</td>\n",
       "      <td>5.040307</td>\n",
       "    </tr>\n",
       "    <tr>\n",
       "      <th>std</th>\n",
       "      <td>10.981373</td>\n",
       "      <td>88.616482</td>\n",
       "      <td>2.947670</td>\n",
       "    </tr>\n",
       "    <tr>\n",
       "      <th>min</th>\n",
       "      <td>18.000000</td>\n",
       "      <td>-241.380000</td>\n",
       "      <td>0.000000</td>\n",
       "    </tr>\n",
       "    <tr>\n",
       "      <th>25%</th>\n",
       "      <td>26.000000</td>\n",
       "      <td>98.610000</td>\n",
       "      <td>3.000000</td>\n",
       "    </tr>\n",
       "    <tr>\n",
       "      <th>50%</th>\n",
       "      <td>35.000000</td>\n",
       "      <td>153.100000</td>\n",
       "      <td>5.000000</td>\n",
       "    </tr>\n",
       "    <tr>\n",
       "      <th>75%</th>\n",
       "      <td>42.000000</td>\n",
       "      <td>210.312500</td>\n",
       "      <td>7.000000</td>\n",
       "    </tr>\n",
       "    <tr>\n",
       "      <th>max</th>\n",
       "      <td>65.000000</td>\n",
       "      <td>382.870000</td>\n",
       "      <td>14.000000</td>\n",
       "    </tr>\n",
       "  </tbody>\n",
       "</table>\n",
       "</div>"
      ],
      "text/plain": [
       "              Age  Purchase Amount (USD)  Previous Purchases\n",
       "count  516.000000             518.000000          521.000000\n",
       "mean    34.813953             150.769459            5.040307\n",
       "std     10.981373              88.616482            2.947670\n",
       "min     18.000000            -241.380000            0.000000\n",
       "25%     26.000000              98.610000            3.000000\n",
       "50%     35.000000             153.100000            5.000000\n",
       "75%     42.000000             210.312500            7.000000\n",
       "max     65.000000             382.870000           14.000000"
      ]
     },
     "execution_count": 8,
     "metadata": {},
     "output_type": "execute_result"
    }
   ],
   "source": [
    "# Summary statistics\n",
    "df.describe()\n",
    "# df.describe(include='all')\n",
    "\n",
    "# include = 'all' to include categorical columns as well otherwise only numerical columns are considered"
   ]
  },
  {
   "cell_type": "code",
   "execution_count": 9,
   "id": "b3e243be",
   "metadata": {},
   "outputs": [
    {
     "data": {
      "text/plain": [
       "Customer ID                8\n",
       "Age                        9\n",
       "Gender                     3\n",
       "Item Purchased             2\n",
       "Category                  10\n",
       "Purchase Amount (USD)      7\n",
       "Location                   1\n",
       "Size                       3\n",
       "Color                      1\n",
       "Season                     7\n",
       "Review Rating              6\n",
       "Subscription Status        5\n",
       "Shipping Type              8\n",
       "Discount Applied           9\n",
       "Promo Code Used            7\n",
       "Previous Purchases         4\n",
       "Payment Method            10\n",
       "Frequency of Purchases     2\n",
       "dtype: int64"
      ]
     },
     "execution_count": 9,
     "metadata": {},
     "output_type": "execute_result"
    }
   ],
   "source": [
    "# Checking for null values\n",
    "df.isnull().sum()"
   ]
  },
  {
   "cell_type": "code",
   "execution_count": 10,
   "id": "baaf1080",
   "metadata": {},
   "outputs": [
    {
     "data": {
      "text/plain": [
       "np.int64(25)"
      ]
     },
     "execution_count": 10,
     "metadata": {},
     "output_type": "execute_result"
    }
   ],
   "source": [
    "# Checking for duplicate rows\n",
    "df.duplicated().sum()"
   ]
  },
  {
   "cell_type": "markdown",
   "id": "fa1bb864",
   "metadata": {},
   "source": [
    "# Data Cleaning"
   ]
  },
  {
   "cell_type": "code",
   "execution_count": 11,
   "id": "bb8efa7d",
   "metadata": {},
   "outputs": [],
   "source": [
    "# Drop duplicate rows\n",
    "df.drop_duplicates(inplace=True)"
   ]
  },
  {
   "cell_type": "code",
   "execution_count": 12,
   "id": "50418aba",
   "metadata": {},
   "outputs": [
    {
     "data": {
      "text/plain": [
       "np.int64(0)"
      ]
     },
     "execution_count": 12,
     "metadata": {},
     "output_type": "execute_result"
    }
   ],
   "source": [
    "df.duplicated().sum()"
   ]
  },
  {
   "cell_type": "code",
   "execution_count": 13,
   "id": "fbb1e2c1",
   "metadata": {},
   "outputs": [
    {
     "data": {
      "text/plain": [
       "(421, 18)"
      ]
     },
     "execution_count": 13,
     "metadata": {},
     "output_type": "execute_result"
    }
   ],
   "source": [
    "# Remove all records with any column having null values\n",
    "df.dropna(inplace=True)\n",
    "df.isnull().sum()\n",
    "df.shape"
   ]
  },
  {
   "cell_type": "code",
   "execution_count": 14,
   "id": "b2f6bc4e",
   "metadata": {},
   "outputs": [
    {
     "name": "stdout",
     "output_type": "stream",
     "text": [
      "Column: Customer ID\n",
      "Customer ID\n",
      "CUST0001    1\n",
      "CUST0002    1\n",
      "CUST0003    1\n",
      "CUST0004    1\n",
      "CUST0005    1\n",
      "           ..\n",
      "CUST0495    1\n",
      "CUST0496    1\n",
      "CUST0498    1\n",
      "CUST0499    1\n",
      "CUST0500    1\n",
      "Name: count, Length: 421, dtype: int64\n",
      "\n",
      "\n",
      "Column: Gender\n",
      "Gender\n",
      "Male      215\n",
      "Female    193\n",
      "female      8\n",
      "male        5\n",
      "Name: count, dtype: int64\n",
      "\n",
      "\n",
      "Column: Item Purchased\n",
      "Item Purchased\n",
      "Pants     78\n",
      "Jacket    77\n",
      "Shoes     76\n",
      "Bag       67\n",
      "Shirt     67\n",
      "Dress     56\n",
      "Name: count, dtype: int64\n",
      "\n",
      "\n",
      "Column: Category\n",
      "Category\n",
      "Clothing       273\n",
      "Footwear        76\n",
      "Accessories     65\n",
      "Unknown          7\n",
      "Name: count, dtype: int64\n",
      "\n",
      "\n",
      "Column: Location\n",
      "Location\n",
      "Houston          93\n",
      "New York         88\n",
      "Chicago          78\n",
      "Miami            76\n",
      "Los Angeles      74\n",
      "Chicago           3\n",
      "Los Angeles       3\n",
      "Houston           2\n",
      "New York          2\n",
      "Miami             2\n",
      "Name: count, dtype: int64\n",
      "\n",
      "\n",
      "Column: Size\n",
      "Size\n",
      "S     117\n",
      "L     113\n",
      "XL    102\n",
      "M      89\n",
      "Name: count, dtype: int64\n",
      "\n",
      "\n",
      "Column: Color\n",
      "Color\n",
      "Blue      72\n",
      "Yellow    71\n",
      "Black     70\n",
      "Red       70\n",
      "Green     69\n",
      "White     69\n",
      "Name: count, dtype: int64\n",
      "\n",
      "\n",
      "Column: Season\n",
      "Season\n",
      "Spring    121\n",
      "Fall      105\n",
      "Summer     99\n",
      "Winter     96\n",
      "Name: count, dtype: int64\n",
      "\n",
      "\n",
      "Column: Review Rating\n",
      "Review Rating\n",
      "3.0     150\n",
      "4.0     141\n",
      "5.0      59\n",
      "2.0      52\n",
      "1.0      10\n",
      "Five      9\n",
      "Name: count, dtype: int64\n",
      "\n",
      "\n",
      "Column: Subscription Status\n",
      "Subscription Status\n",
      "No      211\n",
      "Yes     202\n",
      "Yess      8\n",
      "Name: count, dtype: int64\n",
      "\n",
      "\n",
      "Column: Shipping Type\n",
      "Shipping Type\n",
      "Same-Day    147\n",
      "Express     144\n",
      "Standard    130\n",
      "Name: count, dtype: int64\n",
      "\n",
      "\n",
      "Column: Discount Applied\n",
      "Discount Applied\n",
      "Yes    223\n",
      "No     198\n",
      "Name: count, dtype: int64\n",
      "\n",
      "\n",
      "Column: Promo Code Used\n",
      "Promo Code Used\n",
      "Yes    215\n",
      "No     206\n",
      "Name: count, dtype: int64\n",
      "\n",
      "\n",
      "Column: Payment Method\n",
      "Payment Method\n",
      "Debit Card     101\n",
      "Google Pay      93\n",
      "Apple Pay       77\n",
      "Credit Card     75\n",
      "PayPal          75\n",
      "Name: count, dtype: int64\n",
      "\n",
      "\n",
      "Column: Frequency of Purchases\n",
      "Frequency of Purchases\n",
      "Weekly         149\n",
      "Fortnightly    142\n",
      "Monthly        130\n",
      "Name: count, dtype: int64\n",
      "\n",
      "\n"
     ]
    }
   ],
   "source": [
    "# Categorical Data Analysis\n",
    "for col in df.select_dtypes(include='object').columns:\n",
    "    print(f\"Column: {col}\")\n",
    "    print(df[col].value_counts())\n",
    "    print(\"\\n\")"
   ]
  },
  {
   "cell_type": "code",
   "execution_count": 15,
   "id": "46a51ffb",
   "metadata": {},
   "outputs": [],
   "source": [
    "# Ensure same casing for all categorical columns\n",
    "for col in df.select_dtypes(include='object').columns:\n",
    "    df[col] = df[col].str.title()\n",
    "    # print(df[col].value_counts())"
   ]
  },
  {
   "cell_type": "code",
   "execution_count": 16,
   "id": "cda5d4d7",
   "metadata": {},
   "outputs": [],
   "source": [
    "# Strip leading/trailing spaces\n",
    "for col in df.select_dtypes(include='object').columns:\n",
    "    df[col] = df[col].str.strip()\n",
    "    # print(df[col].value_counts())"
   ]
  },
  {
   "cell_type": "code",
   "execution_count": 17,
   "id": "4b9ee4bf",
   "metadata": {},
   "outputs": [
    {
     "data": {
      "text/plain": [
       "Subscription Status\n",
       "No     211\n",
       "Yes    210\n",
       "Name: count, dtype: int64"
      ]
     },
     "execution_count": 17,
     "metadata": {},
     "output_type": "execute_result"
    }
   ],
   "source": [
    "# Remove typo in Yess for Yes in 'Subscription Status' column\n",
    "df['Subscription Status'] = df['Subscription Status'].replace(\"Yess\", \"Yes\")\n",
    "df['Subscription Status'].value_counts()"
   ]
  },
  {
   "cell_type": "code",
   "execution_count": 18,
   "id": "1a7cdc40",
   "metadata": {},
   "outputs": [
    {
     "data": {
      "text/plain": [
       "dtype('O')"
      ]
     },
     "execution_count": 18,
     "metadata": {},
     "output_type": "execute_result"
    }
   ],
   "source": [
    "df['Review Rating'].dtype"
   ]
  },
  {
   "cell_type": "code",
   "execution_count": 19,
   "id": "5df69356",
   "metadata": {},
   "outputs": [
    {
     "data": {
      "text/plain": [
       "dtype('float64')"
      ]
     },
     "execution_count": 19,
     "metadata": {},
     "output_type": "execute_result"
    }
   ],
   "source": [
    "df['Review Rating'] = df['Review Rating'].replace(\"Five\", 5)\n",
    "\n",
    "# Convert to float\n",
    "df['Review Rating'] = pd.to_numeric(df['Review Rating'], errors='coerce')\n",
    "df['Review Rating'].dtype"
   ]
  },
  {
   "cell_type": "code",
   "execution_count": 20,
   "id": "70074b91",
   "metadata": {},
   "outputs": [
    {
     "data": {
      "text/plain": [
       "count    421.000000\n",
       "mean     148.247815\n",
       "std       89.212801\n",
       "min     -241.380000\n",
       "25%       96.100000\n",
       "50%      152.940000\n",
       "75%      207.590000\n",
       "max      382.870000\n",
       "Name: Purchase Amount (USD), dtype: float64"
      ]
     },
     "execution_count": 20,
     "metadata": {},
     "output_type": "execute_result"
    }
   ],
   "source": [
    "df['Purchase Amount (USD)'].describe()"
   ]
  },
  {
   "cell_type": "code",
   "execution_count": 21,
   "id": "9f069279",
   "metadata": {},
   "outputs": [
    {
     "data": {
      "text/plain": [
       "count    412.000000\n",
       "mean     154.784636\n",
       "std       77.723831\n",
       "min       10.000000\n",
       "25%      103.607500\n",
       "50%      155.110000\n",
       "75%      209.597500\n",
       "max      382.870000\n",
       "Name: Purchase Amount (USD), dtype: float64"
      ]
     },
     "execution_count": 21,
     "metadata": {},
     "output_type": "execute_result"
    }
   ],
   "source": [
    "# Remove purchase amounts with negative values\n",
    "df = df[df['Purchase Amount (USD)'] >= 0]\n",
    "df['Purchase Amount (USD)'].describe()"
   ]
  },
  {
   "cell_type": "markdown",
   "id": "2f72ad6d",
   "metadata": {},
   "source": [
    "# Descriptive statistics after cleaning"
   ]
  },
  {
   "cell_type": "code",
   "execution_count": 22,
   "id": "d16ec4c9",
   "metadata": {},
   "outputs": [
    {
     "name": "stdout",
     "output_type": "stream",
     "text": [
      "Mean: Age                       34.883495\n",
      "Purchase Amount (USD)    154.784636\n",
      "Review Rating              3.492718\n",
      "Previous Purchases         5.133495\n",
      "dtype: float64\n",
      "Median: Age                       35.00\n",
      "Purchase Amount (USD)    155.11\n",
      "Review Rating              4.00\n",
      "Previous Purchases         5.00\n",
      "dtype: float64\n",
      "Mode: Age                      18.0\n",
      "Purchase Amount (USD)    10.0\n",
      "Review Rating             3.0\n",
      "Previous Purchases        7.0\n",
      "Name: 0, dtype: float64\n"
     ]
    }
   ],
   "source": [
    "# Measures of Central Tendency\n",
    "mean_purchase = df.select_dtypes(include=['float64', 'int64']).mean()\n",
    "median_purchase = df.select_dtypes(include=['float64', 'int64']).median()\n",
    "mode_purchase = df.select_dtypes(include=['float64', 'int64']).mode().iloc[0]\n",
    "\n",
    "print(f\"Mean: {mean_purchase}\")\n",
    "print(f\"Median: {median_purchase}\")\n",
    "print(f\"Mode: {mode_purchase}\")"
   ]
  },
  {
   "cell_type": "code",
   "execution_count": 23,
   "id": "06e1c715",
   "metadata": {},
   "outputs": [
    {
     "name": "stdout",
     "output_type": "stream",
     "text": [
      "Standard Deviation: Age                      10.989091\n",
      "Purchase Amount (USD)    77.723831\n",
      "Review Rating             0.990193\n",
      "Previous Purchases        2.947083\n",
      "dtype: float64\n",
      "Variance: Age                       120.760116\n",
      "Purchase Amount (USD)    6040.993851\n",
      "Review Rating               0.980482\n",
      "Previous Purchases          8.685299\n",
      "dtype: float64\n",
      "Range: Age                       47.00\n",
      "Purchase Amount (USD)    372.87\n",
      "Review Rating              4.00\n",
      "Previous Purchases        14.00\n",
      "dtype: float64\n",
      "IQR: Age                       16.00\n",
      "Purchase Amount (USD)    105.99\n",
      "Review Rating              1.00\n",
      "Previous Purchases         4.00\n",
      "dtype: float64\n"
     ]
    }
   ],
   "source": [
    "# Measures of spread\n",
    "\n",
    "std_dev = df.select_dtypes(include=['float64', 'int64']).std()\n",
    "variance = df.select_dtypes(include=['float64', 'int64']).var()\n",
    "range_v = df.select_dtypes(include=['float64', 'int64']).max() - df.select_dtypes(include=['float64', 'int64']).min()\n",
    "Q1 = df.select_dtypes(include=['float64', 'int64']).quantile(0.25)\n",
    "Q3 = df.select_dtypes(include=['float64', 'int64']).quantile(0.75)\n",
    "IQR = Q3 - Q1\n",
    "\n",
    "print(f\"Standard Deviation: {std_dev}\")\n",
    "print(f\"Variance: {variance}\")\n",
    "print(f\"Range: {range_v}\")\n",
    "print(f\"IQR: {IQR}\")"
   ]
  },
  {
   "cell_type": "markdown",
   "id": "28e692b4",
   "metadata": {},
   "source": [
    "## Data Visualization and Plotting\n",
    "\n",
    "Data visualization is a crucial component of exploratory data analysis that helps us understand patterns, distributions, and relationships in our dataset through graphical representations.\n",
    "\n",
    "### Why Plotting is Important in EDA:\n",
    "1. **Pattern Recognition**: Visual patterns are easier to identify than numerical summaries\n",
    "2. **Outlier Detection**: Extreme values stand out clearly in plots\n",
    "3. **Distribution Understanding**: Shape, skewness, and spread become apparent\n",
    "4. **Relationship Discovery**: Correlations and associations between variables\n",
    "5. **Data Quality Assessment**: Missing values and inconsistencies are visible\n",
    "\n",
    "### Common Plot Types for Different Data Types:\n",
    "\n",
    "**Numerical Data:**\n",
    "- **Histograms**: Show distribution shape and frequency\n",
    "- **Box Plots**: Display quartiles, median, and outliers\n",
    "- **Density Plots (KDE)**: Smooth distribution curves\n",
    "- **Scatter Plots**: Relationships between two numerical variables\n",
    "- **Line Plots**: Time series or ordered data trends\n",
    "\n",
    "**Categorical Data:**\n",
    "- **Bar Charts**: Frequency of categories\n",
    "- **Pie Charts**: Proportions of categories\n",
    "- **Count Plots**: Similar to bar charts with seaborn\n",
    "\n",
    "**Mixed Data Types:**\n",
    "- **Violin Plots**: Combine box plots with density plots\n",
    "- **Heatmaps**: Correlation matrices or cross-tabulations\n",
    "- **Pair Plots**: Multiple scatter plots for all variable combinations\n",
    "\n",
    "### Key Plotting Libraries:\n",
    "- **Matplotlib**: Foundation plotting library with fine control\n",
    "- **Seaborn**: Statistical plotting with attractive defaults\n",
    "- **Pandas Plotting**: Quick plots directly from DataFrames\n",
    "- **Plotly**: Interactive visualizations\n",
    "\n",
    "### Statistical Information in Plots:\n",
    "Our current dataset analysis shows:\n",
    "- **Mean vs Median**: Close values suggest relatively normal distributions\n",
    "- **Skewness**: Most variables show slight right-skew (positive values)\n",
    "- **IQR**: Interquartile ranges help identify outliers in box plots\n",
    "- **Standard Deviation**: Indicates spread around the mean\n",
    "\n",
    "The following cells will demonstrate various plotting techniques to visualize our customer purchase dataset effectively."
   ]
  },
  {
   "cell_type": "code",
   "execution_count": 24,
   "id": "b9a0d377",
   "metadata": {},
   "outputs": [
    {
     "data": {
      "image/png": "[encoded data removed]",
      "text/plain": [
       "<Figure size 800x500 with 1 Axes>"
      ]
     },
     "metadata": {},
     "output_type": "display_data"
    }
   ],
   "source": [
    "# Simple bar chart for Gender column\n",
    "import matplotlib.pyplot as plt\n",
    "import seaborn as sns\n",
    "\n",
    "plt.figure(figsize=(8, 5))\n",
    "plt.bar(df['Gender'].value_counts().index, df['Gender'].value_counts().values)\n",
    "plt.title('Gender Distribution')\n",
    "plt.xlabel('Gender')\n",
    "plt.ylabel('Count')\n",
    "plt.show()\n"
   ]
  },
  {
   "cell_type": "code",
   "execution_count": 25,
   "id": "301097ee",
   "metadata": {},
   "outputs": [
    {
     "data": {
      "image/png": "[encoded data removed]",
      "text/plain": [
       "<Figure size 1200x500 with 2 Axes>"
      ]
     },
     "metadata": {},
     "output_type": "display_data"
    }
   ],
   "source": [
    "# Simple line graph - Age trend (sorted by age)\n",
    "plt.figure(figsize=(12, 5))\n",
    "\n",
    "# Subplot 1: Line graph\n",
    "plt.subplot(1, 2, 1)\n",
    "df_sorted = df.sort_values('Age')\n",
    "plt.plot(df_sorted['Age'], df_sorted['Purchase Amount (USD)'], linewidth=0.8, alpha=0.7)\n",
    "plt.title('Purchase Amount Trend by Age')\n",
    "plt.xlabel('Age')\n",
    "plt.ylabel('Purchase Amount (USD)')\n",
    "plt.grid(True, alpha=0.3)\n",
    "\n",
    "# Subplot 2: Scatter plot\n",
    "plt.subplot(1, 2, 2)\n",
    "plt.scatter(df['Age'], df['Purchase Amount (USD)'], alpha=0.6, s=30)\n",
    "plt.title('Age vs Purchase Amount (Scatter)')\n",
    "plt.xlabel('Age')\n",
    "plt.ylabel('Purchase Amount (USD)')\n",
    "plt.grid(True, alpha=0.3)\n",
    "\n",
    "plt.tight_layout()\n",
    "plt.show()"
   ]
  },
  {
   "cell_type": "code",
   "execution_count": 26,
   "id": "20478c76",
   "metadata": {},
   "outputs": [
    {
     "data": {
      "image/png": "[encoded data removed]",
      "text/plain": [
       "<Figure size 1200x800 with 4 Axes>"
      ]
     },
     "metadata": {},
     "output_type": "display_data"
    }
   ],
   "source": [
    "import matplotlib.pyplot as plt\n",
    "import seaborn as sns\n",
    "\n",
    "# Set basic style\n",
    "plt.style.use('default')\n",
    "\n",
    "# Create simple plots\n",
    "fig, axes = plt.subplots(2, 2, figsize=(12, 8))\n",
    "fig.suptitle('Simple Data Visualizations', fontsize=14)\n",
    "\n",
    "# 1. Age histogram\n",
    "axes[0, 0].hist(df['Age'], bins=15, alpha=0.7, color='skyblue')\n",
    "axes[0, 0].set_title('Age Distribution')\n",
    "axes[0, 0].set_xlabel('Age')\n",
    "axes[0, 0].set_ylabel('Count')\n",
    "\n",
    "# 2. Purchase amount by gender\n",
    "df.boxplot(column='Purchase Amount (USD)', by='Gender', ax=axes[0, 1])\n",
    "axes[0, 1].set_title('Purchase Amount by Gender')\n",
    "\n",
    "# 3. Category counts\n",
    "category_counts = df['Category'].value_counts()\n",
    "axes[1, 0].bar(category_counts.index, category_counts.values)\n",
    "axes[1, 0].set_title('Product Categories')\n",
    "axes[1, 0].set_xlabel('Category')\n",
    "axes[1, 0].set_ylabel('Count')\n",
    "\n",
    "# 4. Age vs Purchase Amount\n",
    "axes[1, 1].scatter(df['Age'], df['Purchase Amount (USD)'], alpha=0.6)\n",
    "axes[1, 1].set_title('Age vs Purchase Amount')\n",
    "axes[1, 1].set_xlabel('Age')\n",
    "axes[1, 1].set_ylabel('Purchase Amount (USD)')\n",
    "\n",
    "plt.tight_layout()\n",
    "plt.show()\n"
   ]
  },
  {
   "cell_type": "code",
   "execution_count": 30,
   "id": "90b43373",
   "metadata": {},
   "outputs": [
    {
     "data": {
      "application/vnd.plotly.v1+json": {
       "config": {
        "plotlyServerURL": "https://plot.ly"
       },
       "data": [
        {
         "bingroup": "x",
         "hovertemplate": "Age=%{x}<br>count=%{y}<extra></extra>",
         "legendgroup": "",
         "marker": {
          "color": "#636efa",
          "pattern": {
           "shape": ""
          }
         },
         "name": "",
         "nbinsx": 15,
         "orientation": "v",
         "showlegend": false,
         "type": "histogram",
         "x": {
          "bdata": "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",
          "dtype": "f8"
         },
         "xaxis": "x",
         "yaxis": "y"
        }
       ],
       "layout": {
        "barmode": "relative",
        "legend": {
         "tracegroupgap": 0
        },
        "template": {
         "data": {
          "bar": [
           {
            "error_x": {
             "color": "#2a3f5f"
            },
            "error_y": {
             "color": "#2a3f5f"
            },
            "marker": {
             "line": {
              "color": "#E5ECF6",
              "width": 0.5
             },
             "pattern": {
              "fillmode": "overlay",
              "size": 10,
              "solidity": 0.2
             }
            },
            "type": "bar"
           }
          ],
          "barpolar": [
           {
            "marker": {
             "line": {
              "color": "#E5ECF6",
              "width": 0.5
             },
             "pattern": {
              "fillmode": "overlay",
              "size": 10,
              "solidity": 0.2
             }
            },
            "type": "barpolar"
           }
          ],
          "carpet": [
           {
            "aaxis": {
             "endlinecolor": "#2a3f5f",
             "gridcolor": "white",
             "linecolor": "white",
             "minorgridcolor": "white",
             "startlinecolor": "#2a3f5f"
            },
            "baxis": {
             "endlinecolor": "#2a3f5f",
             "gridcolor": "white",
             "linecolor": "white",
             "minorgridcolor": "white",
             "startlinecolor": "#2a3f5f"
            },
            "type": "carpet"
           }
          ],
          "choropleth": [
           {
            "colorbar": {
             "outlinewidth": 0,
             "ticks": ""
            },
            "type": "choropleth"
           }
          ],
          "contour": [
           {
            "colorbar": {
             "outlinewidth": 0,
             "ticks": ""
            },
            "colorscale": [
             [
              0,
              "#0d0887"
             ],
             [
              0.1111111111111111,
              "#46039f"
             ],
             [
              0.2222222222222222,
              "#7201a8"
             ],
             [
              0.3333333333333333,
              "#9c179e"
             ],
             [
              0.4444444444444444,
              "#bd3786"
             ],
             [
              0.5555555555555556,
              "#d8576b"
             ],
             [
              0.6666666666666666,
              "#ed7953"
             ],
             [
              0.7777777777777778,
              "#fb9f3a"
             ],
             [
              0.8888888888888888,
              "#fdca26"
             ],
             [
              1,
              "#f0f921"
             ]
            ],
            "type": "contour"
           }
          ],
          "contourcarpet": [
           {
            "colorbar": {
             "outlinewidth": 0,
             "ticks": ""
            },
            "type": "contourcarpet"
           }
          ],
          "heatmap": [
           {
            "colorbar": {
             "outlinewidth": 0,
             "ticks": ""
            },
            "colorscale": [
             [
              0,
              "#0d0887"
             ],
             [
              0.1111111111111111,
              "#46039f"
             ],
             [
              0.2222222222222222,
              "#7201a8"
             ],
             [
              0.3333333333333333,
              "#9c179e"
             ],
             [
              0.4444444444444444,
              "#bd3786"
             ],
             [
              0.5555555555555556,
              "#d8576b"
             ],
             [
              0.6666666666666666,
              "#ed7953"
             ],
             [
              0.7777777777777778,
              "#fb9f3a"
             ],
             [
              0.8888888888888888,
              "#fdca26"
             ],
             [
              1,
              "#f0f921"
             ]
            ],
            "type": "heatmap"
           }
          ],
          "histogram": [
           {
            "marker": {
             "pattern": {
              "fillmode": "overlay",
              "size": 10,
              "solidity": 0.2
             }
            },
            "type": "histogram"
           }
          ],
          "histogram2d": [
           {
            "colorbar": {
             "outlinewidth": 0,
             "ticks": ""
            },
            "colorscale": [
             [
              0,
              "#0d0887"
             ],
             [
              0.1111111111111111,
              "#46039f"
             ],
             [
              0.2222222222222222,
              "#7201a8"
             ],
             [
              0.3333333333333333,
              "#9c179e"
             ],
             [
              0.4444444444444444,
              "#bd3786"
             ],
             [
              0.5555555555555556,
              "#d8576b"
             ],
             [
              0.6666666666666666,
              "#ed7953"
             ],
             [
              0.7777777777777778,
              "#fb9f3a"
             ],
             [
              0.8888888888888888,
              "#fdca26"
             ],
             [
              1,
              "#f0f921"
             ]
            ],
            "type": "histogram2d"
           }
          ],
          "histogram2dcontour": [
           {
            "colorbar": {
             "outlinewidth": 0,
             "ticks": ""
            },
            "colorscale": [
             [
              0,
              "#0d0887"
             ],
             [
              0.1111111111111111,
              "#46039f"
             ],
             [
              0.2222222222222222,
              "#7201a8"
             ],
             [
              0.3333333333333333,
              "#9c179e"
             ],
             [
              0.4444444444444444,
              "#bd3786"
             ],
             [
              0.5555555555555556,
              "#d8576b"
             ],
             [
              0.6666666666666666,
              "#ed7953"
             ],
             [
              0.7777777777777778,
              "#fb9f3a"
             ],
             [
              0.8888888888888888,
              "#fdca26"
             ],
             [
              1,
              "#f0f921"
             ]
            ],
            "type": "histogram2dcontour"
           }
          ],
          "mesh3d": [
           {
            "colorbar": {
             "outlinewidth": 0,
             "ticks": ""
            },
            "type": "mesh3d"
           }
          ],
          "parcoords": [
           {
            "line": {
             "colorbar": {
              "outlinewidth": 0,
              "ticks": ""
             }
            },
            "type": "parcoords"
           }
          ],
          "pie": [
           {
            "automargin": true,
            "type": "pie"
           }
          ],
          "scatter": [
           {
            "fillpattern": {
             "fillmode": "overlay",
             "size": 10,
             "solidity": 0.2
            },
            "type": "scatter"
           }
          ],
          "scatter3d": [
           {
            "line": {
             "colorbar": {
              "outlinewidth": 0,
              "ticks": ""
             }
            },
            "marker": {
             "colorbar": {
              "outlinewidth": 0,
              "ticks": ""
             }
            },
            "type": "scatter3d"
           }
          ],
          "scattercarpet": [
           {
            "marker": {
             "colorbar": {
              "outlinewidth": 0,
              "ticks": ""
             }
            },
            "type": "scattercarpet"
           }
          ],
          "scattergeo": [
           {
            "marker": {
             "colorbar": {
              "outlinewidth": 0,
              "ticks": ""
             }
            },
            "type": "scattergeo"
           }
          ],
          "scattergl": [
           {
            "marker": {
             "colorbar": {
              "outlinewidth": 0,
              "ticks": ""
             }
            },
            "type": "scattergl"
           }
          ],
          "scattermap": [
           {
            "marker": {
             "colorbar": {
              "outlinewidth": 0,
              "ticks": ""
             }
            },
            "type": "scattermap"
           }
          ],
          "scattermapbox": [
           {
            "marker": {
             "colorbar": {
              "outlinewidth": 0,
              "ticks": ""
             }
            },
            "type": "scattermapbox"
           }
          ],
          "scatterpolar": [
           {
            "marker": {
             "colorbar": {
              "outlinewidth": 0,
              "ticks": ""
             }
            },
            "type": "scatterpolar"
           }
          ],
          "scatterpolargl": [
           {
            "marker": {
             "colorbar": {
              "outlinewidth": 0,
              "ticks": ""
             }
            },
            "type": "scatterpolargl"
           }
          ],
          "scatterternary": [
           {
            "marker": {
             "colorbar": {
              "outlinewidth": 0,
              "ticks": ""
             }
            },
            "type": "scatterternary"
           }
          ],
          "surface": [
           {
            "colorbar": {
             "outlinewidth": 0,
             "ticks": ""
            },
            "colorscale": [
             [
              0,
              "#0d0887"
             ],
             [
              0.1111111111111111,
              "#46039f"
             ],
             [
              0.2222222222222222,
              "#7201a8"
             ],
             [
              0.3333333333333333,
              "#9c179e"
             ],
             [
              0.4444444444444444,
              "#bd3786"
             ],
             [
              0.5555555555555556,
              "#d8576b"
             ],
             [
              0.6666666666666666,
              "#ed7953"
             ],
             [
              0.7777777777777778,
              "#fb9f3a"
             ],
             [
              0.8888888888888888,
              "#fdca26"
             ],
             [
              1,
              "#f0f921"
             ]
            ],
            "type": "surface"
           }
          ],
          "table": [
           {
            "cells": {
             "fill": {
              "color": "#EBF0F8"
             },
             "line": {
              "color": "white"
             }
            },
            "header": {
             "fill": {
              "color": "#C8D4E3"
             },
             "line": {
              "color": "white"
             }
            },
            "type": "table"
           }
          ]
         },
         "layout": {
          "annotationdefaults": {
           "arrowcolor": "#2a3f5f",
           "arrowhead": 0,
           "arrowwidth": 1
          },
          "autotypenumbers": "strict",
          "coloraxis": {
           "colorbar": {
            "outlinewidth": 0,
            "ticks": ""
           }
          },
          "colorscale": {
           "diverging": [
            [
             0,
             "#8e0152"
            ],
            [
             0.1,
             "#c51b7d"
            ],
            [
             0.2,
             "#de77ae"
            ],
            [
             0.3,
             "#f1b6da"
            ],
            [
             0.4,
             "#fde0ef"
            ],
            [
             0.5,
             "#f7f7f7"
            ],
            [
             0.6,
             "#e6f5d0"
            ],
            [
             0.7,
             "#b8e186"
            ],
            [
             0.8,
             "#7fbc41"
            ],
            [
             0.9,
             "#4d9221"
            ],
            [
             1,
             "#276419"
            ]
           ],
           "sequential": [
            [
             0,
             "#0d0887"
            ],
            [
             0.1111111111111111,
             "#46039f"
            ],
            [
             0.2222222222222222,
             "#7201a8"
            ],
            [
             0.3333333333333333,
             "#9c179e"
            ],
            [
             0.4444444444444444,
             "#bd3786"
            ],
            [
             0.5555555555555556,
             "#d8576b"
            ],
            [
             0.6666666666666666,
             "#ed7953"
            ],
            [
             0.7777777777777778,
             "#fb9f3a"
            ],
            [
             0.8888888888888888,
             "#fdca26"
            ],
            [
             1,
             "#f0f921"
            ]
           ],
           "sequentialminus": [
            [
             0,
             "#0d0887"
            ],
            [
             0.1111111111111111,
             "#46039f"
            ],
            [
             0.2222222222222222,
             "#7201a8"
            ],
            [
             0.3333333333333333,
             "#9c179e"
            ],
            [
             0.4444444444444444,
             "#bd3786"
            ],
            [
             0.5555555555555556,
             "#d8576b"
            ],
            [
             0.6666666666666666,
             "#ed7953"
            ],
            [
             0.7777777777777778,
             "#fb9f3a"
            ],
            [
             0.8888888888888888,
             "#fdca26"
            ],
            [
             1,
             "#f0f921"
            ]
           ]
          },
          "colorway": [
           "#636efa",
           "#EF553B",
           "#00cc96",
           "#ab63fa",
           "#FFA15A",
           "#19d3f3",
           "#FF6692",
           "#B6E880",
           "#FF97FF",
           "#FECB52"
          ],
          "font": {
           "color": "#2a3f5f"
          },
          "geo": {
           "bgcolor": "white",
           "lakecolor": "white",
           "landcolor": "#E5ECF6",
           "showlakes": true,
           "showland": true,
           "subunitcolor": "white"
          },
          "hoverlabel": {
           "align": "left"
          },
          "hovermode": "closest",
          "mapbox": {
           "style": "light"
          },
          "paper_bgcolor": "white",
          "plot_bgcolor": "#E5ECF6",
          "polar": {
           "angularaxis": {
            "gridcolor": "white",
            "linecolor": "white",
            "ticks": ""
           },
           "bgcolor": "#E5ECF6",
           "radialaxis": {
            "gridcolor": "white",
            "linecolor": "white",
            "ticks": ""
           }
          },
          "scene": {
           "xaxis": {
            "backgroundcolor": "#E5ECF6",
            "gridcolor": "white",
            "gridwidth": 2,
            "linecolor": "white",
            "showbackground": true,
            "ticks": "",
            "zerolinecolor": "white"
           },
           "yaxis": {
            "backgroundcolor": "#E5ECF6",
            "gridcolor": "white",
            "gridwidth": 2,
            "linecolor": "white",
            "showbackground": true,
            "ticks": "",
            "zerolinecolor": "white"
           },
           "zaxis": {
            "backgroundcolor": "#E5ECF6",
            "gridcolor": "white",
            "gridwidth": 2,
            "linecolor": "white",
            "showbackground": true,
            "ticks": "",
            "zerolinecolor": "white"
           }
          },
          "shapedefaults": {
           "line": {
            "color": "#2a3f5f"
           }
          },
          "ternary": {
           "aaxis": {
            "gridcolor": "white",
            "linecolor": "white",
            "ticks": ""
           },
           "baxis": {
            "gridcolor": "white",
            "linecolor": "white",
            "ticks": ""
           },
           "bgcolor": "#E5ECF6",
           "caxis": {
            "gridcolor": "white",
            "linecolor": "white",
            "ticks": ""
           }
          },
          "title": {
           "x": 0.05
          },
          "xaxis": {
           "automargin": true,
           "gridcolor": "white",
           "linecolor": "white",
           "ticks": "",
           "title": {
            "standoff": 15
           },
           "zerolinecolor": "white",
           "zerolinewidth": 2
          },
          "yaxis": {
           "automargin": true,
           "gridcolor": "white",
           "linecolor": "white",
           "ticks": "",
           "title": {
            "standoff": 15
           },
           "zerolinecolor": "white",
           "zerolinewidth": 2
          }
         }
        },
        "title": {
         "text": "Age Distribution"
        },
        "xaxis": {
         "anchor": "y",
         "domain": [
          0,
          1
         ],
         "title": {
          "text": "Age"
         }
        },
        "yaxis": {
         "anchor": "x",
         "domain": [
          0,
          1
         ],
         "title": {
          "text": "count"
         }
        }
       }
      }
     },
     "metadata": {},
     "output_type": "display_data"
    },
    {
     "data": {
      "application/vnd.plotly.v1+json": {
       "config": {
        "plotlyServerURL": "https://plot.ly"
       },
       "data": [
        {
         "hovertemplate": "Age=%{x}<br>Purchase Amount (USD)=%{y}<extra></extra>",
         "legendgroup": "",
         "line": {
          "color": "#636efa",
          "dash": "solid"
         },
         "marker": {
          "symbol": "circle"
         },
         "mode": "lines",
         "name": "",
         "orientation": "v",
         "showlegend": false,
         "type": "scatter",
         "x": {
          "bdata": "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",
          "dtype": "f8"
         },
         "xaxis": "x",
         "y": {
          "bdata": "exSuR+EaS0BxPQrXo4BeQNejcD0KV11AMzMzMzPzSUCPwvUoXL9nQBSuR+F6PGxAhetRuB6taEBxPQrXo1BeQFyPwvUoHGdAAAAAAAAAJEDXo3A9CldhQAAAAAAAACRAAAAAAABgX0CuR+F6FB5jQJqZmZmZYXBAuB6F61EIb0BI4XoUrmdkQFK4HoXrYVRAw/UoXI8iaUAfhetRuK5YQEjhehSuZ2JAXI/C9SicXEBmZmZmZn5nQGZmZmZmlnJA9ihcj8INcUB7FK5H4cpcQIXrUbgeZW1A9ihcj8KlZ0CF61G4HkVLQOF6FK5HiWtAuB6F61HYTEAUrkfhegRlQBSuR+F6zGVAw/UoXI8SWkCPwvUoXA9xQBSuR+F6dE1AzczMzMwkaEB7FK5H4fJpQFyPwvUoRGZAw/UoXI9iY0BI4XoUrkdCQB+F61G4ZmpA7FG4HoWbY0CPwvUoXN9fQAAAAAAAYE5APQrXo3DVcUBI4XoUrmdUQOxRuB6Fq2BAKVyPwvUwb0AUrkfhetRlQMP1KFyPqm1AAAAAAADwUkBcj8L1KAxvQJqZmZmZaVpApHA9CtcDY0AAAAAAANhmQHE9CtejQGFAUrgehesJYkAK16NwPSpmQIXrUbgeLWZAmpmZmZlZZ0CF61G4Hj1lQB+F61G43lRAH4XrUbiePEDXo3A9CqdmQD0K16NwHV1AMzMzMzMjZEDNzMzMzCxtQFK4HoXr0VxArkfhehQuWEA9CtejcL1aQClcj8L1aD9AKVyPwvXoQ0DsUbgehdtoQIXrUbgelV5Aj8L1KFzPbEAzMzMzM/NaQClcj8L1iE1AexSuR+EqWkBmZmZmZuJxQOF6FK5HyWFAAAAAAAAAJEAK16NwPSJlQPYoXI/CjWlASOF6FK5/YkCPwvUoXF9fQD0K16NwXVpA16NwPQqXY0BI4XoUrsdRQEjhehSuo3NA9ihcj8J1N0AUrkfherxmQB+F61G4ZmlASOF6FK6PYUDD9Shcj6phQArXo3A9ImNAH4XrUbiGYUCkcD0K1+NhQGZmZmZmwnJAj8L1KFyfZkAUrkfhepxuQDMzMzMz83BAuB6F61GIdUBI4XoUrgd2QPYoXI/C9WRAAAAAAACATkCPwvUoXNdhQAAAAAAAkGRAhetRuB6tZEAzMzMzMytlQKRwPQrXQ3JAAAAAAAAAbUDNzMzMzHxdQBSuR+F6NGtAexSuR+HidEAfhetRuBZjQHE9CtejkGdAH4XrUbheUUCamZmZmYFwQMP1KFyPomxAAAAAAABoZkAzMzMzM59wQI/C9Shc/2xA4XoUrkdpcEDD9Shcj1JTQI/C9ShcP1dAw/UoXI8CTEApXI/C9fBqQAAAAAAAACRAXI/C9SgMZkCPwvUoXJNyQFK4HoXrOWxAw/UoXI/CV0CF61G4HgVrQOF6FK5HoVpAAAAAAAAAJEAAAAAAAFhhQEjhehSuN25AFK5H4XpkY0DsUbgehetAQBSuR+F6DGZAPQrXo3DVZkA9CtejcD1NQKRwPQrXw11ApHA9Ctf/cECF61G4HqVdQIXrUbgeHW9A4XoUrkf5YUDXo3A9Cm9uQArXo3A9GmRAw/UoXI8Sb0A9CtejcJ1mQOF6FK5HwUtAXI/C9SjUbEAK16NwPUozQJqZmZmZIWlA4XoUrkehPED2KFyPwpVoQD0K16Nw5WVAuB6F61HQY0CamZmZmXFkQBSuR+F6pGtApHA9CtejckCPwvUoXJ9iQAAAAAAA4GBAcT0K16NgbUAK16NwPWJxQDMzMzMzs05A7FG4HoXzckB7FK5H4fJtQD0K16Nw/TxAKVyPwvXYYUCuR+F6FIZiQClcj8L1cHFAexSuR+GSbUD2KFyPwnVnQJqZmZmZeWpASOF6FK7nXEBxPQrXoxBiQOxRuB6FC1pACtejcD06UkDhehSuRxFXQHsUrkfhKlpAuB6F61HQakCamZmZmZkuQHE9CtejAGlAZmZmZmbGaUAAAAAAAFBkQOxRuB6FK2hAhetRuB4lcEAK16NwPaZzQM3MzMzM3FlAKVyPwvU4UUDNzMzMzNxqQAAAAAAAACRAH4XrUbiuZEAAAAAAAKhhQMP1KFyPwmVAFK5H4XpMZkAfhetRuJpwQGZmZmZmtlNAmpmZmZkBYUBxPQrXo9BqQArXo3A9mlBAH4XrUbh+RECPwvUoXL9cQAAAAAAAWGtA9ihcj8I1S0AfhetRuJ5oQK5H4XoUbjtAexSuR+G6SECuR+F6FM5JQKRwPQrXm2RAcT0K16PgUUDhehSuR/FnQI/C9ShcX2hAZmZmZma+YUA9CtejcBVsQKRwPQrXI0lAAAAAAADgZ0AAAAAAAAAkQJqZmZmZKWdAPQrXo3Ada0AfhetRuB5XQArXo3A9ak9AUrgehevtd0Bcj8L1KLxgQKRwPQrXo1RAAAAAAACwVUAAAAAAAEA7QIXrUbgeJUZAj8L1KFz/YUBI4XoUridqQLgehetRsGRAXI/C9SiUYkAfhetRuJ5PQGZmZmZmBlhACtejcD26VEAK16NwPdpdQNejcD0Kd1JA4XoUrkeRZ0DD9Shcj2pkQHsUrkfhGmxAXI/C9Sg8QUBmZmZmZp5iQJqZmZmZkWNAcT0K16MAUEA9CtejcN1WQArXo3A9CkdAcT0K16MQcUBcj8L1KHxBQOxRuB6F42pACtejcD0iaEBcj8L1KORqQJqZmZmZmUxAXI/C9SicVUBI4XoUrnNwQI/C9ShcP2ZAexSuR+G6XEAzMzMzM2tsQAAAAAAAQGZAAAAAAAAAJEAK16NwPepZQHsUrkfh+lRA7FG4HoVrb0CF61G4HoU/QB+F61G4zltAzczMzMwMWECF61G4HjVkQHsUrkfhYmdAFK5H4Xq0W0DXo3A9CpdAQI/C9Shcj15APQrXo3BVakCuR+F6FKZoQOxRuB6FS29AKVyPwvUoXkD2KFyPwhVZQIXrUbgexTlAAAAAAAAAJECF61G4HpVrQLgehetROFpAuB6F61HAYEAK16NwPTpfQAAAAAAAQF1AMzMzMzODWkAfhetRuH5iQLgehetRmGlASOF6FK53XEDhehSuR1FYQOxRuB6F82lAcT0K16MwYUDhehSuR9FbQNejcD0Kt2VAw/UoXI/6ZkBI4XoUrs9wQAAAAAAAACRAXI/C9SgkY0BSuB6F66lxQM3MzMzMjEhAhetRuB6FQUB7FK5H4WpxQHE9CtejYFRAFK5H4Xr4cEC4HoXrUYBmQAAAAAAAoFdAhetRuB7lQEAUrkfhemB0QClcj8L1EGZAZmZmZmb+Z0BxPQrXo+hiQHsUrkfhGmBAw/UoXI9CaUBSuB6F69FAQKRwPQrXY11Aw/UoXI96a0CkcD0K18NqQM3MzMzMjHBAw/UoXI+iYkAAAAAAADBhQBSuR+F6pG1AXI/C9Si0YkBcj8L1KFxdQHE9Ctej2GhAH4XrUbhGZEAzMzMzM1NBQLgehetRcGBAcT0K16NYZkCuR+F6FG44QClcj8L1gGdAmpmZmZlZbUBcj8L1KExjQI/C9ShcT0lAhetRuB7FOUCF61G4HlVlQD0K16NwxXFAAAAAAABgaEDhehSuR2FKQGZmZmZmdldAAAAAAAAAJEBxPQrXo1hmQD0K16Nw7WtAcT0K16MgYkBcj8L1KKRkQHE9CtejiGdAUrgehesJbkDXo3A9CldhQGZmZmZmLmhAmpmZmZl5bUC4HoXrUYhgQAAAAAAAACRAXI/C9SiUZUBSuB6F6xlnQAAAAAAAsHRAMzMzMzPDV0DsUbgehctsQAAAAAAAACRAPQrXo3CNbUD2KFyPwjVfQArXo3A9mmFA4XoUrkfpakC4HoXrUZBjQAAAAAAAkGJAexSuR+HCZkAUrkfhetRRQJqZmZmZkWBASOF6FK7nQkDsUbgehbtbQPYoXI/CDW5AhetRuB5db0AzMzMzM091QNejcD0Kb2xA16NwPQpnaUDXo3A9Ck9gQM3MzMzMuHBAhetRuB7lb0AAAAAAAAAkQMP1KFyPQklAAAAAAAAwX0AAAAAAAEBoQClcj8L1UGBAj8L1KFxPUkBSuB6F67lmQFK4HoXr4V1AZmZmZmbWYEBcj8L1KLRlQJqZmZmZ0WZAUrgehesxXkAfhetRuIZsQM3MzMzMDGBApHA9Ctf7bECF61G4Hv1nQEjhehSux2xACtejcD2Sb0CamZmZmdFhQD0K16NwpWtAuB6F61EkcUCuR+F6FJ5yQI/C9Shch25AAAAAAAAAJEBxPQrXo2BmQMP1KFyPYk5AcT0K16NwZUC4HoXrUdhcQArXo3A9omlAXI/C9SgUZ0DXo3A9Ct9hQB+F61G4LmJA9ihcj8JVbEDXo3A9CrdfQArXo3A9kmBAXI/C9SjMaUA=",
          "dtype": "f8"
         },
         "yaxis": "y"
        }
       ],
       "layout": {
        "legend": {
         "tracegroupgap": 0
        },
        "template": {
         "data": {
          "bar": [
           {
            "error_x": {
             "color": "#2a3f5f"
            },
            "error_y": {
             "color": "#2a3f5f"
            },
            "marker": {
             "line": {
              "color": "#E5ECF6",
              "width": 0.5
             },
             "pattern": {
              "fillmode": "overlay",
              "size": 10,
              "solidity": 0.2
             }
            },
            "type": "bar"
           }
          ],
          "barpolar": [
           {
            "marker": {
             "line": {
              "color": "#E5ECF6",
              "width": 0.5
             },
             "pattern": {
              "fillmode": "overlay",
              "size": 10,
              "solidity": 0.2
             }
            },
            "type": "barpolar"
           }
          ],
          "carpet": [
           {
            "aaxis": {
             "endlinecolor": "#2a3f5f",
             "gridcolor": "white",
             "linecolor": "white",
             "minorgridcolor": "white",
             "startlinecolor": "#2a3f5f"
            },
            "baxis": {
             "endlinecolor": "#2a3f5f",
             "gridcolor": "white",
             "linecolor": "white",
             "minorgridcolor": "white",
             "startlinecolor": "#2a3f5f"
            },
            "type": "carpet"
           }
          ],
          "choropleth": [
           {
            "colorbar": {
             "outlinewidth": 0,
             "ticks": ""
            },
            "type": "choropleth"
           }
          ],
          "contour": [
           {
            "colorbar": {
             "outlinewidth": 0,
             "ticks": ""
            },
            "colorscale": [
             [
              0,
              "#0d0887"
             ],
             [
              0.1111111111111111,
              "#46039f"
             ],
             [
              0.2222222222222222,
              "#7201a8"
             ],
             [
              0.3333333333333333,
              "#9c179e"
             ],
             [
              0.4444444444444444,
              "#bd3786"
             ],
             [
              0.5555555555555556,
              "#d8576b"
             ],
             [
              0.6666666666666666,
              "#ed7953"
             ],
             [
              0.7777777777777778,
              "#fb9f3a"
             ],
             [
              0.8888888888888888,
              "#fdca26"
             ],
             [
              1,
              "#f0f921"
             ]
            ],
            "type": "contour"
           }
          ],
          "contourcarpet": [
           {
            "colorbar": {
             "outlinewidth": 0,
             "ticks": ""
            },
            "type": "contourcarpet"
           }
          ],
          "heatmap": [
           {
            "colorbar": {
             "outlinewidth": 0,
             "ticks": ""
            },
            "colorscale": [
             [
              0,
              "#0d0887"
             ],
             [
              0.1111111111111111,
              "#46039f"
             ],
             [
              0.2222222222222222,
              "#7201a8"
             ],
             [
              0.3333333333333333,
              "#9c179e"
             ],
             [
              0.4444444444444444,
              "#bd3786"
             ],
             [
              0.5555555555555556,
              "#d8576b"
             ],
             [
              0.6666666666666666,
              "#ed7953"
             ],
             [
              0.7777777777777778,
              "#fb9f3a"
             ],
             [
              0.8888888888888888,
              "#fdca26"
             ],
             [
              1,
              "#f0f921"
             ]
            ],
            "type": "heatmap"
           }
          ],
          "histogram": [
           {
            "marker": {
             "pattern": {
              "fillmode": "overlay",
              "size": 10,
              "solidity": 0.2
             }
            },
            "type": "histogram"
           }
          ],
          "histogram2d": [
           {
            "colorbar": {
             "outlinewidth": 0,
             "ticks": ""
            },
            "colorscale": [
             [
              0,
              "#0d0887"
             ],
             [
              0.1111111111111111,
              "#46039f"
             ],
             [
              0.2222222222222222,
              "#7201a8"
             ],
             [
              0.3333333333333333,
              "#9c179e"
             ],
             [
              0.4444444444444444,
              "#bd3786"
             ],
             [
              0.5555555555555556,
              "#d8576b"
             ],
             [
              0.6666666666666666,
              "#ed7953"
             ],
             [
              0.7777777777777778,
              "#fb9f3a"
             ],
             [
              0.8888888888888888,
              "#fdca26"
             ],
             [
              1,
              "#f0f921"
             ]
            ],
            "type": "histogram2d"
           }
          ],
          "histogram2dcontour": [
           {
            "colorbar": {
             "outlinewidth": 0,
             "ticks": ""
            },
            "colorscale": [
             [
              0,
              "#0d0887"
             ],
             [
              0.1111111111111111,
              "#46039f"
             ],
             [
              0.2222222222222222,
              "#7201a8"
             ],
             [
              0.3333333333333333,
              "#9c179e"
             ],
             [
              0.4444444444444444,
              "#bd3786"
             ],
             [
              0.5555555555555556,
              "#d8576b"
             ],
             [
              0.6666666666666666,
              "#ed7953"
             ],
             [
              0.7777777777777778,
              "#fb9f3a"
             ],
             [
              0.8888888888888888,
              "#fdca26"
             ],
             [
              1,
              "#f0f921"
             ]
            ],
            "type": "histogram2dcontour"
           }
          ],
          "mesh3d": [
           {
            "colorbar": {
             "outlinewidth": 0,
             "ticks": ""
            },
            "type": "mesh3d"
           }
          ],
          "parcoords": [
           {
            "line": {
             "colorbar": {
              "outlinewidth": 0,
              "ticks": ""
             }
            },
            "type": "parcoords"
           }
          ],
          "pie": [
           {
            "automargin": true,
            "type": "pie"
           }
          ],
          "scatter": [
           {
            "fillpattern": {
             "fillmode": "overlay",
             "size": 10,
             "solidity": 0.2
            },
            "type": "scatter"
           }
          ],
          "scatter3d": [
           {
            "line": {
             "colorbar": {
              "outlinewidth": 0,
              "ticks": ""
             }
            },
            "marker": {
             "colorbar": {
              "outlinewidth": 0,
              "ticks": ""
             }
            },
            "type": "scatter3d"
           }
          ],
          "scattercarpet": [
           {
            "marker": {
             "colorbar": {
              "outlinewidth": 0,
              "ticks": ""
             }
            },
            "type": "scattercarpet"
           }
          ],
          "scattergeo": [
           {
            "marker": {
             "colorbar": {
              "outlinewidth": 0,
              "ticks": ""
             }
            },
            "type": "scattergeo"
           }
          ],
          "scattergl": [
           {
            "marker": {
             "colorbar": {
              "outlinewidth": 0,
              "ticks": ""
             }
            },
            "type": "scattergl"
           }
          ],
          "scattermap": [
           {
            "marker": {
             "colorbar": {
              "outlinewidth": 0,
              "ticks": ""
             }
            },
            "type": "scattermap"
           }
          ],
          "scattermapbox": [
           {
            "marker": {
             "colorbar": {
              "outlinewidth": 0,
              "ticks": ""
             }
            },
            "type": "scattermapbox"
           }
          ],
          "scatterpolar": [
           {
            "marker": {
             "colorbar": {
              "outlinewidth": 0,
              "ticks": ""
             }
            },
            "type": "scatterpolar"
           }
          ],
          "scatterpolargl": [
           {
            "marker": {
             "colorbar": {
              "outlinewidth": 0,
              "ticks": ""
             }
            },
            "type": "scatterpolargl"
           }
          ],
          "scatterternary": [
           {
            "marker": {
             "colorbar": {
              "outlinewidth": 0,
              "ticks": ""
             }
            },
            "type": "scatterternary"
           }
          ],
          "surface": [
           {
            "colorbar": {
             "outlinewidth": 0,
             "ticks": ""
            },
            "colorscale": [
             [
              0,
              "#0d0887"
             ],
             [
              0.1111111111111111,
              "#46039f"
             ],
             [
              0.2222222222222222,
              "#7201a8"
             ],
             [
              0.3333333333333333,
              "#9c179e"
             ],
             [
              0.4444444444444444,
              "#bd3786"
             ],
             [
              0.5555555555555556,
              "#d8576b"
             ],
             [
              0.6666666666666666,
              "#ed7953"
             ],
             [
              0.7777777777777778,
              "#fb9f3a"
             ],
             [
              0.8888888888888888,
              "#fdca26"
             ],
             [
              1,
              "#f0f921"
             ]
            ],
            "type": "surface"
           }
          ],
          "table": [
           {
            "cells": {
             "fill": {
              "color": "#EBF0F8"
             },
             "line": {
              "color": "white"
             }
            },
            "header": {
             "fill": {
              "color": "#C8D4E3"
             },
             "line": {
              "color": "white"
             }
            },
            "type": "table"
           }
          ]
         },
         "layout": {
          "annotationdefaults": {
           "arrowcolor": "#2a3f5f",
           "arrowhead": 0,
           "arrowwidth": 1
          },
          "autotypenumbers": "strict",
          "coloraxis": {
           "colorbar": {
            "outlinewidth": 0,
            "ticks": ""
           }
          },
          "colorscale": {
           "diverging": [
            [
             0,
             "#8e0152"
            ],
            [
             0.1,
             "#c51b7d"
            ],
            [
             0.2,
             "#de77ae"
            ],
            [
             0.3,
             "#f1b6da"
            ],
            [
             0.4,
             "#fde0ef"
            ],
            [
             0.5,
             "#f7f7f7"
            ],
            [
             0.6,
             "#e6f5d0"
            ],
            [
             0.7,
             "#b8e186"
            ],
            [
             0.8,
             "#7fbc41"
            ],
            [
             0.9,
             "#4d9221"
            ],
            [
             1,
             "#276419"
            ]
           ],
           "sequential": [
            [
             0,
             "#0d0887"
            ],
            [
             0.1111111111111111,
             "#46039f"
            ],
            [
             0.2222222222222222,
             "#7201a8"
            ],
            [
             0.3333333333333333,
             "#9c179e"
            ],
            [
             0.4444444444444444,
             "#bd3786"
            ],
            [
             0.5555555555555556,
             "#d8576b"
            ],
            [
             0.6666666666666666,
             "#ed7953"
            ],
            [
             0.7777777777777778,
             "#fb9f3a"
            ],
            [
             0.8888888888888888,
             "#fdca26"
            ],
            [
             1,
             "#f0f921"
            ]
           ],
           "sequentialminus": [
            [
             0,
             "#0d0887"
            ],
            [
             0.1111111111111111,
             "#46039f"
            ],
            [
             0.2222222222222222,
             "#7201a8"
            ],
            [
             0.3333333333333333,
             "#9c179e"
            ],
            [
             0.4444444444444444,
             "#bd3786"
            ],
            [
             0.5555555555555556,
             "#d8576b"
            ],
            [
             0.6666666666666666,
             "#ed7953"
            ],
            [
             0.7777777777777778,
             "#fb9f3a"
            ],
            [
             0.8888888888888888,
             "#fdca26"
            ],
            [
             1,
             "#f0f921"
            ]
           ]
          },
          "colorway": [
           "#636efa",
           "#EF553B",
           "#00cc96",
           "#ab63fa",
           "#FFA15A",
           "#19d3f3",
           "#FF6692",
           "#B6E880",
           "#FF97FF",
           "#FECB52"
          ],
          "font": {
           "color": "#2a3f5f"
          },
          "geo": {
           "bgcolor": "white",
           "lakecolor": "white",
           "landcolor": "#E5ECF6",
           "showlakes": true,
           "showland": true,
           "subunitcolor": "white"
          },
          "hoverlabel": {
           "align": "left"
          },
          "hovermode": "closest",
          "mapbox": {
           "style": "light"
          },
          "paper_bgcolor": "white",
          "plot_bgcolor": "#E5ECF6",
          "polar": {
           "angularaxis": {
            "gridcolor": "white",
            "linecolor": "white",
            "ticks": ""
           },
           "bgcolor": "#E5ECF6",
           "radialaxis": {
            "gridcolor": "white",
            "linecolor": "white",
            "ticks": ""
           }
          },
          "scene": {
           "xaxis": {
            "backgroundcolor": "#E5ECF6",
            "gridcolor": "white",
            "gridwidth": 2,
            "linecolor": "white",
            "showbackground": true,
            "ticks": "",
            "zerolinecolor": "white"
           },
           "yaxis": {
            "backgroundcolor": "#E5ECF6",
            "gridcolor": "white",
            "gridwidth": 2,
            "linecolor": "white",
            "showbackground": true,
            "ticks": "",
            "zerolinecolor": "white"
           },
           "zaxis": {
            "backgroundcolor": "#E5ECF6",
            "gridcolor": "white",
            "gridwidth": 2,
            "linecolor": "white",
            "showbackground": true,
            "ticks": "",
            "zerolinecolor": "white"
           }
          },
          "shapedefaults": {
           "line": {
            "color": "#2a3f5f"
           }
          },
          "ternary": {
           "aaxis": {
            "gridcolor": "white",
            "linecolor": "white",
            "ticks": ""
           },
           "baxis": {
            "gridcolor": "white",
            "linecolor": "white",
            "ticks": ""
           },
           "bgcolor": "#E5ECF6",
           "caxis": {
            "gridcolor": "white",
            "linecolor": "white",
            "ticks": ""
           }
          },
          "title": {
           "x": 0.05
          },
          "xaxis": {
           "automargin": true,
           "gridcolor": "white",
           "linecolor": "white",
           "ticks": "",
           "title": {
            "standoff": 15
           },
           "zerolinecolor": "white",
           "zerolinewidth": 2
          },
          "yaxis": {
           "automargin": true,
           "gridcolor": "white",
           "linecolor": "white",
           "ticks": "",
           "title": {
            "standoff": 15
           },
           "zerolinecolor": "white",
           "zerolinewidth": 2
          }
         }
        },
        "title": {
         "text": "Purchase Amount Trend by Age"
        },
        "xaxis": {
         "anchor": "y",
         "domain": [
          0,
          1
         ],
         "title": {
          "text": "Age"
         }
        },
        "yaxis": {
         "anchor": "x",
         "domain": [
          0,
          1
         ],
         "title": {
          "text": "Purchase Amount (USD)"
         }
        }
       }
      }
     },
     "metadata": {},
     "output_type": "display_data"
    }
   ],
   "source": [
    "# Some plots using plotly\n",
    "\n",
    "import plotly.express as px\n",
    "import plotly.graph_objects as go\n",
    "# Histogram of Age\n",
    "fig = px.histogram(df, x='Age', nbins=15, title='Age Distribution')\n",
    "fig.show()\n",
    "\n",
    "# Line plot of Purchase Amount over Age\n",
    "fig = px.line(df.sort_values('Age'), x='Age', y='Purchase Amount (USD)', title='Purchase Amount Trend by Age')\n",
    "fig.show()\n"
   ]
  },
  {
   "cell_type": "code",
   "execution_count": 28,
   "id": "bf1e4203",
   "metadata": {},
   "outputs": [
    {
     "name": "stdout",
     "output_type": "stream",
     "text": [
      "Skewness: Age                      0.378972\n",
      "Purchase Amount (USD)    0.070217\n",
      "Review Rating           -0.236589\n",
      "Previous Purchases       0.187833\n",
      "dtype: float64\n",
      "Kurtosis: Age                     -0.406935\n",
      "Purchase Amount (USD)   -0.487584\n",
      "Review Rating           -0.420790\n",
      "Previous Purchases      -0.433930\n",
      "dtype: float64\n"
     ]
    }
   ],
   "source": [
    "# Distribution Shapes (skewness and kurtosis)\n",
    "\n",
    "# https://www.datacamp.com/tutorial/understanding-skewness-and-kurtosis\n",
    "\n",
    "# What is skewness and kurtosis?\n",
    "# Skewness measures the asymmetry of the data distribution. A skewness value > 0 indicates a right-skewed distribution, while a value < 0 indicates a left-skewed distribution.\n",
    "# Kurtosis measures the \"tailedness\" of the data distribution. A kurtosis value > 3 indicates a distribution with heavier tails than a normal distribution, while a value < 3 indicates lighter tails.  \n",
    "\n",
    "\n",
    "skewness = df.select_dtypes(include=['float64', 'int64']).skew()\n",
    "kurtosis = df.select_dtypes(include=['float64', 'int64']).kurtosis()\n",
    "\n",
    "print(f\"Skewness: {skewness}\")\n",
    "print(f\"Kurtosis: {kurtosis}\")\n"
   ]
  },
  {
   "cell_type": "code",
   "execution_count": 29,
   "id": "9e67483e",
   "metadata": {},
   "outputs": [
    {
     "data": {
      "image/png": "[encoded data removed]",
      "text/plain": [
       "<Figure size 1000x600 with 1 Axes>"
      ]
     },
     "metadata": {},
     "output_type": "display_data"
    },
    {
     "data": {
      "image/png": "[encoded data removed]",
      "text/plain": [
       "<Figure size 1000x600 with 1 Axes>"
      ]
     },
     "metadata": {},
     "output_type": "display_data"
    },
    {
     "data": {
      "image/png": "[encoded data removed]",
      "text/plain": [
       "<Figure size 1000x600 with 1 Axes>"
      ]
     },
     "metadata": {},
     "output_type": "display_data"
    },
    {
     "data": {
      "image/png": "[encoded data removed]",
      "text/plain": [
       "<Figure size 1000x600 with 1 Axes>"
      ]
     },
     "metadata": {},
     "output_type": "display_data"
    }
   ],
   "source": [
    "# Plot the kde plots to visualize the distribution with mean, median and mode markers\n",
    "# Also mention the kind of distribution (normal, left-skewed, right-skewed, etc.)\n",
    "\n",
    "import matplotlib.pyplot as plt\n",
    "import seaborn as sns\n",
    "\n",
    "\n",
    "for col in df.select_dtypes(include=['float64', 'int64']).columns:\n",
    "    plt.figure(figsize=(10, 6))\n",
    "    sns.kdeplot(df[col], fill=True)\n",
    "    plt.axvline(mean_purchase[col], color='r', linestyle='--', label='Mean')\n",
    "    plt.axvline(median_purchase[col], color='g', linestyle='-', label='Median')\n",
    "    plt.axvline(mode_purchase[col], color='b', linestyle=':', label='Mode')\n",
    "    plt.title(f'Distribution of {col}')\n",
    "    plt.xlabel(col)\n",
    "    plt.ylabel('Density')\n",
    "    if skewness[col] > 0:\n",
    "        skew_type = \"Right-Skewed\"\n",
    "    elif skewness[col] < 0:\n",
    "        skew_type = \"Left-Skewed\"\n",
    "    else:\n",
    "        skew_type = \"Symmetric\"\n",
    "    plt.text(0.05, 0.95, f'Skew: {skewness[col]:.2f} ({skew_type})\\nKurtosis: {kurtosis[col]:.2f}', \n",
    "             transform=plt.gca().transAxes, fontsize=10, verticalalignment='top',\n",
    "             bbox=dict(boxstyle=\"round,pad=0.3\", facecolor='lightblue', alpha=0.7))\n",
    "\n",
    "    # transform=plt.gca().transAxes to place text in axes coordinates\n",
    "    # It works by transforming the coordinates of the text box from data coordinates to axes coordinates, allowing for consistent placement regardless of the data range.\n",
    "    plt.legend()\n",
    "    plt.show()\n"
   ]
  },
  {
   "cell_type": "markdown",
   "id": "1fa061df",
   "metadata": {},
   "source": [
    "# Hypothesis Testing"
   ]
  },
  {
   "cell_type": "markdown",
   "id": "1773cd2a",
   "metadata": {},
   "source": [
    "## Hypothesis Testing\n",
    "\n",
    "Hypothesis testing is a statistical method used to make inferences or draw conclusions about a population based on a sample of data. It involves formulating a null hypothesis (H₀) and an alternative hypothesis (H₁), collecting data, and using statistical tests to determine whether to reject or fail to reject the null hypothesis.\n",
    "\n",
    "### Key Concepts\n",
    "\n",
    "**Null Hypothesis (H₀):**\n",
    "- A statement that there is no effect or no difference between groups or variables\n",
    "- Serves as a starting point for statistical testing\n",
    "- Typically assumed to be true until evidence suggests otherwise\n",
    "\n",
    "**Alternative Hypothesis (H₁):**\n",
    "- A statement that contradicts the null hypothesis\n",
    "- Suggests that there is an effect or a difference between groups or variables\n",
    "- Represents the research hypothesis that the researcher aims to support through data analysis\n",
    "\n",
    "### Example Hypothesis Test\n",
    "\n",
    "**Null Hypothesis (H₀):** The average purchase amount for customers with a subscription is equal to the average purchase amount for customers without a subscription.\n",
    "\n",
    "**Alternative Hypothesis (H₁):** The average purchase amount for customers with a subscription is different from the average purchase amount for customers without a subscription.\n",
    "\n",
    "### Statistical Significance\n",
    "- **p-value**: Probability of observing the test results under the assumption that the null hypothesis is correct\n",
    "- **Significance level (α)**: Threshold for determining statistical significance (commonly 0.05)\n",
    "- **Decision rule**: If p-value < α, reject H₀; otherwise, fail to reject H₀"
   ]
  },
  {
   "cell_type": "markdown",
   "id": "1549fef3",
   "metadata": {},
   "source": [
    "## T-Test Theory and Explanation\n",
    "\n",
    "The **t-test** is a statistical hypothesis test used to determine if there is a significant difference between the means of two groups. It's one of the most commonly used statistical tests in data analysis and research.\n",
    "\n",
    "### What is a T-Test?\n",
    "\n",
    "A t-test compares the means of two groups to determine whether they are statistically different from each other. It uses the t-distribution, which is similar to the normal distribution but accounts for the uncertainty that comes with smaller sample sizes.\n",
    "\n",
    "### Types of T-Tests\n",
    "\n",
    "**1. One-Sample T-Test:**\n",
    "- Compares a sample mean to a known population mean\n",
    "- Example: Is the average age of our customers significantly different from 30 years?\n",
    "\n",
    "**2. Independent Two-Sample T-Test (Unpaired):**\n",
    "- Compares the means of two independent groups\n",
    "- Example: Is there a difference in purchase amounts between subscribers and non-subscribers?\n",
    "\n",
    "**3. Paired T-Test (Dependent):**\n",
    "- Compares means from the same subjects at different times\n",
    "- Example: Customer satisfaction before and after a service improvement\n",
    "\n",
    "### Key Components of T-Test\n",
    "\n",
    "**T-Statistic Formula:**\n",
    "```\n",
    "t = (mean₁ - mean₂) / (pooled standard error)\n",
    "```\n",
    "\n",
    "**Degrees of Freedom (df):**\n",
    "- For independent t-test: df = n₁ + n₂ - 2\n",
    "- Where n₁ and n₂ are the sample sizes of the two groups\n",
    "\n",
    "**P-Value:**\n",
    "- Probability of observing the test results under the null hypothesis\n",
    "- If p-value < α (significance level), reject the null hypothesis\n",
    "\n",
    "### Assumptions of T-Test\n",
    "\n",
    "1. **Independence:** Observations must be independent of each other\n",
    "2. **Normality:** Data should be approximately normally distributed\n",
    "3. **Equal Variances:** Both groups should have similar variances (for independent t-test)\n",
    "4. **Continuous Data:** The dependent variable should be continuous\n",
    "\n",
    "### Interpretation\n",
    "\n",
    "**Statistical Significance:**\n",
    "- **p-value < 0.05:** Statistically significant difference (reject H₀)\n",
    "- **p-value ≥ 0.05:** No statistically significant difference (fail to reject H₀)\n",
    "\n",
    "**Effect Size:**\n",
    "- A large t-statistic (positive or negative) indicates a larger difference between groups\n",
    "- The magnitude tells us about practical significance, not just statistical significance\n",
    "\n",
    "### Example from Our Analysis\n",
    "\n",
    "In our customer dataset analysis:\n",
    "- **Groups:** Customers with subscription vs. without subscription\n",
    "- **Variable:** Purchase Amount (USD)\n",
    "- **T-statistic:** 0.0019 (very small)\n",
    "- **P-value:** 0.9985 (very high)\n",
    "- **Conclusion:** No statistically significant difference in purchase amounts between the two groups\n",
    "\n",
    "### When to Use T-Test vs Other Tests\n",
    "\n",
    "**Use T-Test when:**\n",
    "- Comparing means of continuous variables\n",
    "- Sample size is relatively small (< 30) or population standard deviation is unknown\n",
    "- Data meets the assumptions listed above\n",
    "\n",
    "**Consider alternatives when:**\n",
    "- Data is not normally distributed → Use Mann-Whitney U test\n",
    "- Comparing more than two groups → Use ANOVA\n",
    "- Large sample sizes → Z-test might be appropriate"
   ]
  },
  {
   "cell_type": "code",
   "execution_count": null,
   "id": "7899ae3c",
   "metadata": {},
   "outputs": [
    {
     "name": "stdout",
     "output_type": "stream",
     "text": [
      "T-statistic: 0.001879455851750296, P-value: 0.9985013261814317\n",
      "Fail to reject the null hypothesis.\n"
     ]
    }
   ],
   "source": [
    "# Hypothesis Testing Example\n",
    "\n",
    "# Null Hypothesis (H0): There is no significant difference in average purchase amount between customers with and without a subscription.\n",
    "# Alternative Hypothesis (H1): There is a significant difference in average purchase amount between customers with and without a subscription.\n",
    "\n",
    "from scipy import stats\n",
    "# Separate the data into two groups\n",
    "group_with_subscription = df[df['Subscription Status'] == 'Yes']['Purchase Amount (USD)']\n",
    "group_without_subscription = df[df['Subscription Status'] == 'No']['Purchase Amount (USD)']\n",
    "\n",
    "# Perform independent t-test\n",
    "t_stat, p_value = stats.ttest_ind(group_with_subscription, group_without_subscription)\n",
    "print(f\"T-statistic: {t_stat}, P-value: {p_value}\")\n",
    "\n",
    "# Significance level\n",
    "alpha = 0.05\n",
    "if p_value < alpha:\n",
    "    print(\"Reject the null hypothesis.\")\n",
    "    # This suggests that there could be a significant difference in average purchase amounts between the two groups.\n",
    "else:\n",
    "    print(\"Fail to reject the null hypothesis.\")\n",
    "    # This suggests that there is no significant difference in average purchase amounts between the two groups.\n"
   ]
  }
 ],
 "metadata": {
  "kernelspec": {
   "display_name": "Python 3",
   "language": "python",
   "name": "python3"
  },
  "language_info": {
   "codemirror_mode": {
    "name": "ipython",
    "version": 3
   },
   "file_extension": ".py",
   "mimetype": "text/x-python",
   "name": "python",
   "nbconvert_exporter": "python",
   "pygments_lexer": "ipython3",
   "version": "3.13.5"
  }
 },
 "nbformat": 4,
 "nbformat_minor": 5
}
