{
 "cells": [
  {
   "cell_type": "markdown",
   "id": "cc2ca6d9",
   "metadata": {
    "vscode": {
     "languageId": "groovy"
    }
   },
   "source": [
    "# EXPLORATORY DATA ANALYSIS (EDA) - OVERVIEW & PANDAS FUNCTIONS\n",
    "\n",
    "EDA is a critical step in the data science process that helps us understand our dataset \n",
    "before applying machine learning algorithms or statistical models.\n",
    "\n",
    "KEY OBJECTIVES OF EDA:\n",
    "1. Understand the structure and characteristics of the data\n",
    "2. Identify missing values, outliers, and data quality issues\n",
    "3. Discover patterns, trends, and relationships in the data\n",
    "4. Generate hypotheses for further analysis\n",
    "5. Inform data preprocessing and feature engineering decisions\n",
    "\n",
    "ESSENTIAL PANDAS FUNCTIONS FOR EDA:\n",
    "\n",
    "1. DATA OVERVIEW:\n",
    "    - df.head() / df.head(n)     → View first n rows (default 5)\n",
    "    - df.tail() / df.tail(n)     → View last n rows (default 5)\n",
    "    - df.sample(n)               → View n random rows\n",
    "    - df.shape                   → Get dimensions (rows, columns)\n",
    "    - df.columns                 → List all column names\n",
    "    - df.info()                  → Data types, memory usage, non-null counts\n",
    "    - df.dtypes                  → Data types of each column\n",
    "\n",
    "2. STATISTICAL SUMMARY:\n",
    "    - df.describe()              → Summary statistics for numerical columns\n",
    "    - df.describe(include='all') → Summary statistics for all columns\n",
    "    - df.nunique()               → Count unique values per column\n",
    "    - df.value_counts()          → Frequency count of unique values\n",
    "\n",
    "3. DATA QUALITY ASSESSMENT:\n",
    "    - df.isnull().sum()          → Count missing values per column\n",
    "    - df.isna().sum()            → Alternative to isnull()\n",
    "    - df.duplicated().sum()      → Count duplicate rows\n",
    "    - df.drop_duplicates()       → Remove duplicate rows\n",
    "\n",
    "4. DATA EXPLORATION:\n",
    "    - df.groupby().agg()         → Group data and apply aggregations\n",
    "    - df.corr()                  → Correlation matrix for numerical columns\n",
    "    - df.crosstab()              → Cross-tabulation for categorical variables\n",
    "    - df.pivot_table()           → Create pivot tables\n",
    "\n",
    "5. DATA VISUALIZATION (with pandas plotting):\n",
    "    - df.plot()                  → Basic line plot\n",
    "    - df.hist()                  → Histograms for all numerical columns\n",
    "    - df.boxplot()               → Box plots for outlier detection\n",
    "    - df.plot.scatter()          → Scatter plots for relationships\n",
    "\n",
    "CURRENT DATASET INSIGHTS:\n",
    "- Dataset contains 525 rows and 18 columns\n",
    "- Multiple data types: numerical (Age, Purchase Amount, etc.) and categorical (Gender, Category, etc.)\n",
    "- Significant missing values across most columns (ranging from 8-48 missing values per column)\n",
    "- Mixed case inconsistencies in Gender column ('Male', 'female', 'Female')\n",
    "- Some critical columns like Customer ID have missing values (39 missing)\n",
    "\"\"\""
   ]
  },
  {
   "cell_type": "code",
   "execution_count": 1,
   "id": "35edd7a5",
   "metadata": {},
   "outputs": [],
   "source": [
    "import pandas as pd\n",
    "import numpy as np\n",
    "\n",
    "# Load the dataset\n",
    "df: pd.DataFrame = pd.read_csv('customer_purchase_dataset.csv')"
   ]
  },
  {
   "cell_type": "code",
   "execution_count": 2,
   "id": "b3cb9f6a",
   "metadata": {},
   "outputs": [
    {
     "data": {
      "text/html": [
       "<div>\n",
       "<style scoped>\n",
       "    .dataframe tbody tr th:only-of-type {\n",
       "        vertical-align: middle;\n",
       "    }\n",
       "\n",
       "    .dataframe tbody tr th {\n",
       "        vertical-align: top;\n",
       "    }\n",
       "\n",
       "    .dataframe thead th {\n",
       "        text-align: right;\n",
       "    }\n",
       "</style>\n",
       "<table border=\"1\" class=\"dataframe\">\n",
       "  <thead>\n",
       "    <tr style=\"text-align: right;\">\n",
       "      <th></th>\n",
       "      <th>Customer ID</th>\n",
       "      <th>Age</th>\n",
       "      <th>Annual Income (USD)</th>\n",
       "      <th>Gender</th>\n",
       "      <th>Item Purchased</th>\n",
       "      <th>Category</th>\n",
       "      <th>Purchase Amount (USD)</th>\n",
       "      <th>Location</th>\n",
       "      <th>Size</th>\n",
       "      <th>Color</th>\n",
       "      <th>Season</th>\n",
       "      <th>Review Rating</th>\n",
       "      <th>Subscription Status</th>\n",
       "      <th>Shipping Type</th>\n",
       "      <th>Discount Applied</th>\n",
       "      <th>Promo Code Used</th>\n",
       "      <th>Previous Purchases</th>\n",
       "      <th>Payment Method</th>\n",
       "      <th>Frequency of Purchases</th>\n",
       "    </tr>\n",
       "  </thead>\n",
       "  <tbody>\n",
       "    <tr>\n",
       "      <th>0</th>\n",
       "      <td>CUST0001</td>\n",
       "      <td>56.0</td>\n",
       "      <td>37449.15</td>\n",
       "      <td>Male</td>\n",
       "      <td>Dress</td>\n",
       "      <td>Clothing</td>\n",
       "      <td>57.64</td>\n",
       "      <td>Chicago</td>\n",
       "      <td>XL</td>\n",
       "      <td>Yellow</td>\n",
       "      <td>Fall</td>\n",
       "      <td>5.0</td>\n",
       "      <td>Yes</td>\n",
       "      <td>Standard</td>\n",
       "      <td>Yes</td>\n",
       "      <td>Yes</td>\n",
       "      <td>7.0</td>\n",
       "      <td>Credit Card</td>\n",
       "      <td>Monthly</td>\n",
       "    </tr>\n",
       "    <tr>\n",
       "      <th>1</th>\n",
       "      <td>CUST0002</td>\n",
       "      <td>46.0</td>\n",
       "      <td>86202.12</td>\n",
       "      <td>Female</td>\n",
       "      <td>Shoes</td>\n",
       "      <td>Footwear</td>\n",
       "      <td>57.69</td>\n",
       "      <td>Houston</td>\n",
       "      <td>XL</td>\n",
       "      <td>Blue</td>\n",
       "      <td>Spring</td>\n",
       "      <td>5.0</td>\n",
       "      <td>No</td>\n",
       "      <td>Express</td>\n",
       "      <td>No</td>\n",
       "      <td>Yes</td>\n",
       "      <td>12.0</td>\n",
       "      <td>Credit Card</td>\n",
       "      <td>Fortnightly</td>\n",
       "    </tr>\n",
       "    <tr>\n",
       "      <th>2</th>\n",
       "      <td>CUST0003</td>\n",
       "      <td>32.0</td>\n",
       "      <td>58895.84</td>\n",
       "      <td>Female</td>\n",
       "      <td>Shoes</td>\n",
       "      <td>Footwear</td>\n",
       "      <td>178.59</td>\n",
       "      <td>Miami</td>\n",
       "      <td>XL</td>\n",
       "      <td>White</td>\n",
       "      <td>Summer</td>\n",
       "      <td>4.0</td>\n",
       "      <td>No</td>\n",
       "      <td>Standard</td>\n",
       "      <td>Yes</td>\n",
       "      <td>Yes</td>\n",
       "      <td>7.0</td>\n",
       "      <td>Credit Card</td>\n",
       "      <td>Weekly</td>\n",
       "    </tr>\n",
       "    <tr>\n",
       "      <th>3</th>\n",
       "      <td>CUST0004</td>\n",
       "      <td>60.0</td>\n",
       "      <td>51913.67</td>\n",
       "      <td>Male</td>\n",
       "      <td>NaN</td>\n",
       "      <td>Clothing</td>\n",
       "      <td>170.97</td>\n",
       "      <td>Houston</td>\n",
       "      <td>L</td>\n",
       "      <td>White</td>\n",
       "      <td>Summer</td>\n",
       "      <td>4.0</td>\n",
       "      <td>Yes</td>\n",
       "      <td>Express</td>\n",
       "      <td>No</td>\n",
       "      <td>No</td>\n",
       "      <td>11.0</td>\n",
       "      <td>Credit Card</td>\n",
       "      <td>Monthly</td>\n",
       "    </tr>\n",
       "    <tr>\n",
       "      <th>4</th>\n",
       "      <td>CUST0005</td>\n",
       "      <td>25.0</td>\n",
       "      <td>64578.89</td>\n",
       "      <td>male</td>\n",
       "      <td>Bag</td>\n",
       "      <td>Accessories</td>\n",
       "      <td>393.08</td>\n",
       "      <td>Miami</td>\n",
       "      <td>S</td>\n",
       "      <td>Black</td>\n",
       "      <td>Fall</td>\n",
       "      <td>5.0</td>\n",
       "      <td>No</td>\n",
       "      <td>Express</td>\n",
       "      <td>Yes</td>\n",
       "      <td>Yes</td>\n",
       "      <td>6.0</td>\n",
       "      <td>Credit Card</td>\n",
       "      <td>Weekly</td>\n",
       "    </tr>\n",
       "  </tbody>\n",
       "</table>\n",
       "</div>"
      ],
      "text/plain": [
       "  Customer ID   Age  Annual Income (USD)  Gender Item Purchased     Category  \\\n",
       "0    CUST0001  56.0             37449.15    Male          Dress     Clothing   \n",
       "1    CUST0002  46.0             86202.12  Female          Shoes     Footwear   \n",
       "2    CUST0003  32.0             58895.84  Female          Shoes     Footwear   \n",
       "3    CUST0004  60.0             51913.67    Male            NaN     Clothing   \n",
       "4    CUST0005  25.0             64578.89    male            Bag  Accessories   \n",
       "\n",
       "   Purchase Amount (USD)   Location Size   Color  Season Review Rating  \\\n",
       "0                  57.64    Chicago   XL  Yellow    Fall           5.0   \n",
       "1                  57.69    Houston   XL    Blue  Spring           5.0   \n",
       "2                 178.59      Miami   XL   White  Summer           4.0   \n",
       "3                 170.97  Houston      L   White  Summer           4.0   \n",
       "4                 393.08      Miami    S   Black    Fall           5.0   \n",
       "\n",
       "  Subscription Status Shipping Type Discount Applied Promo Code Used  \\\n",
       "0                 Yes      Standard              Yes             Yes   \n",
       "1                  No       Express               No             Yes   \n",
       "2                  No      Standard              Yes             Yes   \n",
       "3                 Yes       Express               No              No   \n",
       "4                  No       Express              Yes             Yes   \n",
       "\n",
       "   Previous Purchases Payment Method Frequency of Purchases  \n",
       "0                 7.0    Credit Card                Monthly  \n",
       "1                12.0    Credit Card            Fortnightly  \n",
       "2                 7.0    Credit Card                 Weekly  \n",
       "3                11.0    Credit Card                Monthly  \n",
       "4                 6.0    Credit Card                 Weekly  "
      ]
     },
     "execution_count": 2,
     "metadata": {},
     "output_type": "execute_result"
    }
   ],
   "source": [
    "# View first 5 rows\n",
    "df.head()"
   ]
  },
  {
   "cell_type": "code",
   "execution_count": 3,
   "id": "54e2a571",
   "metadata": {},
   "outputs": [
    {
     "data": {
      "text/html": [
       "<div>\n",
       "<style scoped>\n",
       "    .dataframe tbody tr th:only-of-type {\n",
       "        vertical-align: middle;\n",
       "    }\n",
       "\n",
       "    .dataframe tbody tr th {\n",
       "        vertical-align: top;\n",
       "    }\n",
       "\n",
       "    .dataframe thead th {\n",
       "        text-align: right;\n",
       "    }\n",
       "</style>\n",
       "<table border=\"1\" class=\"dataframe\">\n",
       "  <thead>\n",
       "    <tr style=\"text-align: right;\">\n",
       "      <th></th>\n",
       "      <th>Customer ID</th>\n",
       "      <th>Age</th>\n",
       "      <th>Annual Income (USD)</th>\n",
       "      <th>Gender</th>\n",
       "      <th>Item Purchased</th>\n",
       "      <th>Category</th>\n",
       "      <th>Purchase Amount (USD)</th>\n",
       "      <th>Location</th>\n",
       "      <th>Size</th>\n",
       "      <th>Color</th>\n",
       "      <th>Season</th>\n",
       "      <th>Review Rating</th>\n",
       "      <th>Subscription Status</th>\n",
       "      <th>Shipping Type</th>\n",
       "      <th>Discount Applied</th>\n",
       "      <th>Promo Code Used</th>\n",
       "      <th>Previous Purchases</th>\n",
       "      <th>Payment Method</th>\n",
       "      <th>Frequency of Purchases</th>\n",
       "    </tr>\n",
       "  </thead>\n",
       "  <tbody>\n",
       "    <tr>\n",
       "      <th>290</th>\n",
       "      <td>CUST0291</td>\n",
       "      <td>57.0</td>\n",
       "      <td>75341.01</td>\n",
       "      <td>Female</td>\n",
       "      <td>Dress</td>\n",
       "      <td>Clothing</td>\n",
       "      <td>224.63</td>\n",
       "      <td>Miami</td>\n",
       "      <td>S</td>\n",
       "      <td>White</td>\n",
       "      <td>Fall</td>\n",
       "      <td>5.0</td>\n",
       "      <td>No</td>\n",
       "      <td>NaN</td>\n",
       "      <td>No</td>\n",
       "      <td>No</td>\n",
       "      <td>13.0</td>\n",
       "      <td>Credit Card</td>\n",
       "      <td>Fortnightly</td>\n",
       "    </tr>\n",
       "    <tr>\n",
       "      <th>1034</th>\n",
       "      <td>CUST0581</td>\n",
       "      <td>29.0</td>\n",
       "      <td>64191.61</td>\n",
       "      <td>Female</td>\n",
       "      <td>Pants</td>\n",
       "      <td>Clothing</td>\n",
       "      <td>74.29</td>\n",
       "      <td>Los Angeles</td>\n",
       "      <td>L</td>\n",
       "      <td>Black</td>\n",
       "      <td>Winter</td>\n",
       "      <td>5.0</td>\n",
       "      <td>No</td>\n",
       "      <td>Express</td>\n",
       "      <td>No</td>\n",
       "      <td>Yes</td>\n",
       "      <td>6.0</td>\n",
       "      <td>PayPal</td>\n",
       "      <td>Fortnightly</td>\n",
       "    </tr>\n",
       "    <tr>\n",
       "      <th>344</th>\n",
       "      <td>CUST0345</td>\n",
       "      <td>45.0</td>\n",
       "      <td>80576.32</td>\n",
       "      <td>Female</td>\n",
       "      <td>Jacket</td>\n",
       "      <td>Clothing</td>\n",
       "      <td>291.18</td>\n",
       "      <td>New York</td>\n",
       "      <td>L</td>\n",
       "      <td>Black</td>\n",
       "      <td>Winter</td>\n",
       "      <td>5.0</td>\n",
       "      <td>Yes</td>\n",
       "      <td>Express</td>\n",
       "      <td>Yes</td>\n",
       "      <td>No</td>\n",
       "      <td>11.0</td>\n",
       "      <td>Credit Card</td>\n",
       "      <td>Weekly</td>\n",
       "    </tr>\n",
       "    <tr>\n",
       "      <th>876</th>\n",
       "      <td>CUST0877</td>\n",
       "      <td>62.0</td>\n",
       "      <td>93714.08</td>\n",
       "      <td>Female</td>\n",
       "      <td>Shirt</td>\n",
       "      <td>Clothing</td>\n",
       "      <td>120.03</td>\n",
       "      <td>Miami</td>\n",
       "      <td>L</td>\n",
       "      <td>Red</td>\n",
       "      <td>Fall</td>\n",
       "      <td>5.0</td>\n",
       "      <td>Yes</td>\n",
       "      <td>Standard</td>\n",
       "      <td>No</td>\n",
       "      <td>No</td>\n",
       "      <td>16.0</td>\n",
       "      <td>PayPal</td>\n",
       "      <td>Weekly</td>\n",
       "    </tr>\n",
       "    <tr>\n",
       "      <th>836</th>\n",
       "      <td>CUST0837</td>\n",
       "      <td>30.0</td>\n",
       "      <td>56793.71</td>\n",
       "      <td>Male</td>\n",
       "      <td>Dress</td>\n",
       "      <td>Clothing</td>\n",
       "      <td>97.37</td>\n",
       "      <td>Miami</td>\n",
       "      <td>M</td>\n",
       "      <td>Green</td>\n",
       "      <td>Fall</td>\n",
       "      <td>5.0</td>\n",
       "      <td>No</td>\n",
       "      <td>Standard</td>\n",
       "      <td>No</td>\n",
       "      <td>No</td>\n",
       "      <td>2.0</td>\n",
       "      <td>Credit Card</td>\n",
       "      <td>Monthly</td>\n",
       "    </tr>\n",
       "  </tbody>\n",
       "</table>\n",
       "</div>"
      ],
      "text/plain": [
       "     Customer ID   Age  Annual Income (USD)  Gender Item Purchased  Category  \\\n",
       "290     CUST0291  57.0             75341.01  Female          Dress  Clothing   \n",
       "1034    CUST0581  29.0             64191.61  Female          Pants  Clothing   \n",
       "344     CUST0345  45.0             80576.32  Female         Jacket  Clothing   \n",
       "876     CUST0877  62.0             93714.08  Female          Shirt  Clothing   \n",
       "836     CUST0837  30.0             56793.71    Male          Dress  Clothing   \n",
       "\n",
       "      Purchase Amount (USD)     Location Size  Color  Season Review Rating  \\\n",
       "290                  224.63        Miami    S  White    Fall           5.0   \n",
       "1034                  74.29  Los Angeles    L  Black  Winter           5.0   \n",
       "344                  291.18     New York    L  Black  Winter           5.0   \n",
       "876                  120.03        Miami    L    Red    Fall           5.0   \n",
       "836                   97.37        Miami    M  Green    Fall           5.0   \n",
       "\n",
       "     Subscription Status Shipping Type Discount Applied Promo Code Used  \\\n",
       "290                   No           NaN               No              No   \n",
       "1034                  No       Express               No             Yes   \n",
       "344                  Yes       Express              Yes              No   \n",
       "876                  Yes      Standard               No              No   \n",
       "836                   No      Standard               No              No   \n",
       "\n",
       "      Previous Purchases Payment Method Frequency of Purchases  \n",
       "290                 13.0    Credit Card            Fortnightly  \n",
       "1034                 6.0         PayPal            Fortnightly  \n",
       "344                 11.0    Credit Card                 Weekly  \n",
       "876                 16.0         PayPal                 Weekly  \n",
       "836                  2.0    Credit Card                Monthly  "
      ]
     },
     "execution_count": 3,
     "metadata": {},
     "output_type": "execute_result"
    }
   ],
   "source": [
    "# View random 5 rows\n",
    "df.sample(5)"
   ]
  },
  {
   "cell_type": "code",
   "execution_count": 4,
   "id": "dcc00bf5",
   "metadata": {},
   "outputs": [
    {
     "data": {
      "text/html": [
       "<div>\n",
       "<style scoped>\n",
       "    .dataframe tbody tr th:only-of-type {\n",
       "        vertical-align: middle;\n",
       "    }\n",
       "\n",
       "    .dataframe tbody tr th {\n",
       "        vertical-align: top;\n",
       "    }\n",
       "\n",
       "    .dataframe thead th {\n",
       "        text-align: right;\n",
       "    }\n",
       "</style>\n",
       "<table border=\"1\" class=\"dataframe\">\n",
       "  <thead>\n",
       "    <tr style=\"text-align: right;\">\n",
       "      <th></th>\n",
       "      <th>Customer ID</th>\n",
       "      <th>Age</th>\n",
       "      <th>Annual Income (USD)</th>\n",
       "      <th>Gender</th>\n",
       "      <th>Item Purchased</th>\n",
       "      <th>Category</th>\n",
       "      <th>Purchase Amount (USD)</th>\n",
       "      <th>Location</th>\n",
       "      <th>Size</th>\n",
       "      <th>Color</th>\n",
       "      <th>Season</th>\n",
       "      <th>Review Rating</th>\n",
       "      <th>Subscription Status</th>\n",
       "      <th>Shipping Type</th>\n",
       "      <th>Discount Applied</th>\n",
       "      <th>Promo Code Used</th>\n",
       "      <th>Previous Purchases</th>\n",
       "      <th>Payment Method</th>\n",
       "      <th>Frequency of Purchases</th>\n",
       "    </tr>\n",
       "  </thead>\n",
       "  <tbody>\n",
       "    <tr>\n",
       "      <th>1045</th>\n",
       "      <td>CUST0471</td>\n",
       "      <td>31.0</td>\n",
       "      <td>81965.30</td>\n",
       "      <td>Male</td>\n",
       "      <td>Jacket</td>\n",
       "      <td>Clothing</td>\n",
       "      <td>435.69</td>\n",
       "      <td>Miami</td>\n",
       "      <td>S</td>\n",
       "      <td>White</td>\n",
       "      <td>Winter</td>\n",
       "      <td>Five</td>\n",
       "      <td>Yes</td>\n",
       "      <td>Same-Day</td>\n",
       "      <td>No</td>\n",
       "      <td>Yes</td>\n",
       "      <td>6.0</td>\n",
       "      <td>PayPal</td>\n",
       "      <td>Fortnightly</td>\n",
       "    </tr>\n",
       "    <tr>\n",
       "      <th>1046</th>\n",
       "      <td>CUST0981</td>\n",
       "      <td>45.0</td>\n",
       "      <td>102409.69</td>\n",
       "      <td>Female</td>\n",
       "      <td>Shoes</td>\n",
       "      <td>Footwear</td>\n",
       "      <td>249.36</td>\n",
       "      <td>Houston</td>\n",
       "      <td>M</td>\n",
       "      <td>Blue</td>\n",
       "      <td>Fall</td>\n",
       "      <td>5.0</td>\n",
       "      <td>No</td>\n",
       "      <td>Standard</td>\n",
       "      <td>Yes</td>\n",
       "      <td>Yes</td>\n",
       "      <td>8.0</td>\n",
       "      <td>Debit Card</td>\n",
       "      <td>Weekly</td>\n",
       "    </tr>\n",
       "    <tr>\n",
       "      <th>1047</th>\n",
       "      <td>CUST0801</td>\n",
       "      <td>32.0</td>\n",
       "      <td>40909.97</td>\n",
       "      <td>Male</td>\n",
       "      <td>Jacket</td>\n",
       "      <td>Clothing</td>\n",
       "      <td>74.54</td>\n",
       "      <td>Los Angeles</td>\n",
       "      <td>S</td>\n",
       "      <td>Yellow</td>\n",
       "      <td>Spring</td>\n",
       "      <td>5.0</td>\n",
       "      <td>Yes</td>\n",
       "      <td>Same-Day</td>\n",
       "      <td>Yes</td>\n",
       "      <td>No</td>\n",
       "      <td>1.0</td>\n",
       "      <td>Debit Card</td>\n",
       "      <td>Weekly</td>\n",
       "    </tr>\n",
       "    <tr>\n",
       "      <th>1048</th>\n",
       "      <td>CUST0689</td>\n",
       "      <td>31.0</td>\n",
       "      <td>50575.75</td>\n",
       "      <td>female</td>\n",
       "      <td>Shoes</td>\n",
       "      <td>Footwear</td>\n",
       "      <td>47.16</td>\n",
       "      <td>Houston</td>\n",
       "      <td>L</td>\n",
       "      <td>Black</td>\n",
       "      <td>Winter</td>\n",
       "      <td>5.0</td>\n",
       "      <td>Yes</td>\n",
       "      <td>Express</td>\n",
       "      <td>No</td>\n",
       "      <td>Yes</td>\n",
       "      <td>2.0</td>\n",
       "      <td>Debit Card</td>\n",
       "      <td>Monthly</td>\n",
       "    </tr>\n",
       "    <tr>\n",
       "      <th>1049</th>\n",
       "      <td>CUST0314</td>\n",
       "      <td>25.0</td>\n",
       "      <td>51790.17</td>\n",
       "      <td>Male</td>\n",
       "      <td>Shoes</td>\n",
       "      <td>Footwear</td>\n",
       "      <td>254.90</td>\n",
       "      <td>Miami</td>\n",
       "      <td>S</td>\n",
       "      <td>Green</td>\n",
       "      <td>Spring</td>\n",
       "      <td>4.0</td>\n",
       "      <td>No</td>\n",
       "      <td>Same-Day</td>\n",
       "      <td>No</td>\n",
       "      <td>No</td>\n",
       "      <td>1.0</td>\n",
       "      <td>Apple Pay</td>\n",
       "      <td>Fortnightly</td>\n",
       "    </tr>\n",
       "  </tbody>\n",
       "</table>\n",
       "</div>"
      ],
      "text/plain": [
       "     Customer ID   Age  Annual Income (USD)  Gender Item Purchased  Category  \\\n",
       "1045    CUST0471  31.0             81965.30    Male         Jacket  Clothing   \n",
       "1046    CUST0981  45.0            102409.69  Female          Shoes  Footwear   \n",
       "1047    CUST0801  32.0             40909.97    Male         Jacket  Clothing   \n",
       "1048    CUST0689  31.0             50575.75  female          Shoes  Footwear   \n",
       "1049    CUST0314  25.0             51790.17    Male          Shoes  Footwear   \n",
       "\n",
       "      Purchase Amount (USD)     Location Size   Color  Season Review Rating  \\\n",
       "1045                 435.69        Miami    S   White  Winter          Five   \n",
       "1046                 249.36      Houston    M    Blue    Fall           5.0   \n",
       "1047                  74.54  Los Angeles    S  Yellow  Spring           5.0   \n",
       "1048                  47.16      Houston    L   Black  Winter           5.0   \n",
       "1049                 254.90        Miami    S   Green  Spring           4.0   \n",
       "\n",
       "     Subscription Status Shipping Type Discount Applied Promo Code Used  \\\n",
       "1045                 Yes      Same-Day               No             Yes   \n",
       "1046                  No      Standard              Yes             Yes   \n",
       "1047                 Yes      Same-Day              Yes              No   \n",
       "1048                 Yes       Express               No             Yes   \n",
       "1049                  No      Same-Day               No              No   \n",
       "\n",
       "      Previous Purchases Payment Method Frequency of Purchases  \n",
       "1045                 6.0         PayPal            Fortnightly  \n",
       "1046                 8.0     Debit Card                 Weekly  \n",
       "1047                 1.0     Debit Card                 Weekly  \n",
       "1048                 2.0     Debit Card                Monthly  \n",
       "1049                 1.0      Apple Pay            Fortnightly  "
      ]
     },
     "execution_count": 4,
     "metadata": {},
     "output_type": "execute_result"
    }
   ],
   "source": [
    "# View last 5 rows\n",
    "df.tail(5) "
   ]
  },
  {
   "cell_type": "code",
   "execution_count": 5,
   "id": "579ab30c",
   "metadata": {},
   "outputs": [
    {
     "data": {
      "text/plain": [
       "(1050, 19)"
      ]
     },
     "execution_count": 5,
     "metadata": {},
     "output_type": "execute_result"
    }
   ],
   "source": [
    "# Row and column count\n",
    "df.shape"
   ]
  },
  {
   "cell_type": "code",
   "execution_count": 6,
   "id": "1545d974",
   "metadata": {},
   "outputs": [
    {
     "data": {
      "text/plain": [
       "Index(['Customer ID', 'Age', 'Annual Income (USD)', 'Gender', 'Item Purchased',\n",
       "       'Category', 'Purchase Amount (USD)', 'Location', 'Size', 'Color',\n",
       "       'Season', 'Review Rating', 'Subscription Status', 'Shipping Type',\n",
       "       'Discount Applied', 'Promo Code Used', 'Previous Purchases',\n",
       "       'Payment Method', 'Frequency of Purchases'],\n",
       "      dtype='object')"
      ]
     },
     "execution_count": 6,
     "metadata": {},
     "output_type": "execute_result"
    }
   ],
   "source": [
    "# Show columns\n",
    "df.columns"
   ]
  },
  {
   "cell_type": "code",
   "execution_count": 7,
   "id": "2d693105",
   "metadata": {},
   "outputs": [
    {
     "name": "stdout",
     "output_type": "stream",
     "text": [
      "<class 'pandas.core.frame.DataFrame'>\n",
      "RangeIndex: 1050 entries, 0 to 1049\n",
      "Data columns (total 19 columns):\n",
      " #   Column                  Non-Null Count  Dtype  \n",
      "---  ------                  --------------  -----  \n",
      " 0   Customer ID             1036 non-null   object \n",
      " 1   Age                     1035 non-null   float64\n",
      " 2   Annual Income (USD)     1044 non-null   float64\n",
      " 3   Gender                  1046 non-null   object \n",
      " 4   Item Purchased          1032 non-null   object \n",
      " 5   Category                1037 non-null   object \n",
      " 6   Purchase Amount (USD)   1046 non-null   float64\n",
      " 7   Location                1044 non-null   object \n",
      " 8   Size                    1048 non-null   object \n",
      " 9   Color                   1034 non-null   object \n",
      " 10  Season                  1037 non-null   object \n",
      " 11  Review Rating           1039 non-null   object \n",
      " 12  Subscription Status     1033 non-null   object \n",
      " 13  Shipping Type           1034 non-null   object \n",
      " 14  Discount Applied        1033 non-null   object \n",
      " 15  Promo Code Used         1042 non-null   object \n",
      " 16  Previous Purchases      1029 non-null   float64\n",
      " 17  Payment Method          1045 non-null   object \n",
      " 18  Frequency of Purchases  1046 non-null   object \n",
      "dtypes: float64(4), object(15)\n",
      "memory usage: 156.0+ KB\n"
     ]
    }
   ],
   "source": [
    "# Information about the dataset\n",
    "df.info()"
   ]
  },
  {
   "cell_type": "code",
   "execution_count": 8,
   "id": "5183036e",
   "metadata": {},
   "outputs": [
    {
     "data": {
      "text/html": [
       "<div>\n",
       "<style scoped>\n",
       "    .dataframe tbody tr th:only-of-type {\n",
       "        vertical-align: middle;\n",
       "    }\n",
       "\n",
       "    .dataframe tbody tr th {\n",
       "        vertical-align: top;\n",
       "    }\n",
       "\n",
       "    .dataframe thead th {\n",
       "        text-align: right;\n",
       "    }\n",
       "</style>\n",
       "<table border=\"1\" class=\"dataframe\">\n",
       "  <thead>\n",
       "    <tr style=\"text-align: right;\">\n",
       "      <th></th>\n",
       "      <th>Age</th>\n",
       "      <th>Annual Income (USD)</th>\n",
       "      <th>Purchase Amount (USD)</th>\n",
       "      <th>Previous Purchases</th>\n",
       "    </tr>\n",
       "  </thead>\n",
       "  <tbody>\n",
       "    <tr>\n",
       "      <th>count</th>\n",
       "      <td>1035.000000</td>\n",
       "      <td>1044.000000</td>\n",
       "      <td>1046.000000</td>\n",
       "      <td>1029.000000</td>\n",
       "    </tr>\n",
       "    <tr>\n",
       "      <th>mean</th>\n",
       "      <td>41.633816</td>\n",
       "      <td>67879.510776</td>\n",
       "      <td>170.868996</td>\n",
       "      <td>7.527697</td>\n",
       "    </tr>\n",
       "    <tr>\n",
       "      <th>std</th>\n",
       "      <td>13.781600</td>\n",
       "      <td>25094.918124</td>\n",
       "      <td>161.783229</td>\n",
       "      <td>4.108980</td>\n",
       "    </tr>\n",
       "    <tr>\n",
       "      <th>min</th>\n",
       "      <td>18.000000</td>\n",
       "      <td>20000.000000</td>\n",
       "      <td>-491.500000</td>\n",
       "      <td>0.000000</td>\n",
       "    </tr>\n",
       "    <tr>\n",
       "      <th>25%</th>\n",
       "      <td>30.000000</td>\n",
       "      <td>50126.332500</td>\n",
       "      <td>68.490000</td>\n",
       "      <td>4.000000</td>\n",
       "    </tr>\n",
       "    <tr>\n",
       "      <th>50%</th>\n",
       "      <td>42.000000</td>\n",
       "      <td>67287.690000</td>\n",
       "      <td>131.190000</td>\n",
       "      <td>8.000000</td>\n",
       "    </tr>\n",
       "    <tr>\n",
       "      <th>75%</th>\n",
       "      <td>53.000000</td>\n",
       "      <td>84149.520000</td>\n",
       "      <td>228.957500</td>\n",
       "      <td>11.000000</td>\n",
       "    </tr>\n",
       "    <tr>\n",
       "      <th>max</th>\n",
       "      <td>65.000000</td>\n",
       "      <td>149492.730000</td>\n",
       "      <td>994.920000</td>\n",
       "      <td>17.000000</td>\n",
       "    </tr>\n",
       "  </tbody>\n",
       "</table>\n",
       "</div>"
      ],
      "text/plain": [
       "               Age  Annual Income (USD)  Purchase Amount (USD)  \\\n",
       "count  1035.000000          1044.000000            1046.000000   \n",
       "mean     41.633816         67879.510776             170.868996   \n",
       "std      13.781600         25094.918124             161.783229   \n",
       "min      18.000000         20000.000000            -491.500000   \n",
       "25%      30.000000         50126.332500              68.490000   \n",
       "50%      42.000000         67287.690000             131.190000   \n",
       "75%      53.000000         84149.520000             228.957500   \n",
       "max      65.000000        149492.730000             994.920000   \n",
       "\n",
       "       Previous Purchases  \n",
       "count         1029.000000  \n",
       "mean             7.527697  \n",
       "std              4.108980  \n",
       "min              0.000000  \n",
       "25%              4.000000  \n",
       "50%              8.000000  \n",
       "75%             11.000000  \n",
       "max             17.000000  "
      ]
     },
     "execution_count": 8,
     "metadata": {},
     "output_type": "execute_result"
    }
   ],
   "source": [
    "# Summary statistics\n",
    "df.describe()\n",
    "# df.describe(include='all')\n",
    "\n",
    "# include = 'all' to include categorical columns as well otherwise only numerical columns are considered"
   ]
  },
  {
   "cell_type": "code",
   "execution_count": 9,
   "id": "b3e243be",
   "metadata": {},
   "outputs": [
    {
     "data": {
      "text/plain": [
       "Customer ID               14\n",
       "Age                       15\n",
       "Annual Income (USD)        6\n",
       "Gender                     4\n",
       "Item Purchased            18\n",
       "Category                  13\n",
       "Purchase Amount (USD)      4\n",
       "Location                   6\n",
       "Size                       2\n",
       "Color                     16\n",
       "Season                    13\n",
       "Review Rating             11\n",
       "Subscription Status       17\n",
       "Shipping Type             16\n",
       "Discount Applied          17\n",
       "Promo Code Used            8\n",
       "Previous Purchases        21\n",
       "Payment Method             5\n",
       "Frequency of Purchases     4\n",
       "dtype: int64"
      ]
     },
     "execution_count": 9,
     "metadata": {},
     "output_type": "execute_result"
    }
   ],
   "source": [
    "# Checking for null values\n",
    "df.isnull().sum()"
   ]
  },
  {
   "cell_type": "code",
   "execution_count": 10,
   "id": "baaf1080",
   "metadata": {},
   "outputs": [
    {
     "data": {
      "text/plain": [
       "np.int64(50)"
      ]
     },
     "execution_count": 10,
     "metadata": {},
     "output_type": "execute_result"
    }
   ],
   "source": [
    "# Checking for duplicate rows\n",
    "df.duplicated().sum()"
   ]
  },
  {
   "cell_type": "markdown",
   "id": "fa1bb864",
   "metadata": {},
   "source": [
    "# Data Cleaning"
   ]
  },
  {
   "cell_type": "code",
   "execution_count": 11,
   "id": "bb8efa7d",
   "metadata": {},
   "outputs": [],
   "source": [
    "# Drop duplicate rows\n",
    "df.drop_duplicates(inplace=True)"
   ]
  },
  {
   "cell_type": "code",
   "execution_count": 12,
   "id": "50418aba",
   "metadata": {},
   "outputs": [
    {
     "data": {
      "text/plain": [
       "np.int64(0)"
      ]
     },
     "execution_count": 12,
     "metadata": {},
     "output_type": "execute_result"
    }
   ],
   "source": [
    "df.duplicated().sum()"
   ]
  },
  {
   "cell_type": "code",
   "execution_count": 13,
   "id": "fbb1e2c1",
   "metadata": {},
   "outputs": [
    {
     "data": {
      "text/plain": [
       "(839, 19)"
      ]
     },
     "execution_count": 13,
     "metadata": {},
     "output_type": "execute_result"
    }
   ],
   "source": [
    "# Remove all records with any column having null values\n",
    "df.dropna(inplace=True)\n",
    "df.isnull().sum()\n",
    "df.shape"
   ]
  },
  {
   "cell_type": "code",
   "execution_count": 14,
   "id": "b2f6bc4e",
   "metadata": {},
   "outputs": [
    {
     "name": "stdout",
     "output_type": "stream",
     "text": [
      "Column: Customer ID\n",
      "Customer ID\n",
      "CUST0001    1\n",
      "CUST0002    1\n",
      "CUST0003    1\n",
      "CUST0005    1\n",
      "CUST0006    1\n",
      "           ..\n",
      "CUST0994    1\n",
      "CUST0995    1\n",
      "CUST0996    1\n",
      "CUST0998    1\n",
      "CUST1000    1\n",
      "Name: count, Length: 839, dtype: int64\n",
      "\n",
      "\n",
      "Column: Gender\n",
      "Gender\n",
      "Male      416\n",
      "Female    396\n",
      "male       14\n",
      "female     13\n",
      "Name: count, dtype: int64\n",
      "\n",
      "\n",
      "Column: Item Purchased\n",
      "Item Purchased\n",
      "Pants     175\n",
      "Dress     166\n",
      "Shirt     166\n",
      "Jacket    139\n",
      "Shoes     115\n",
      "Bag        78\n",
      "Name: count, dtype: int64\n",
      "\n",
      "\n",
      "Column: Category\n",
      "Category\n",
      "Clothing       635\n",
      "Footwear       112\n",
      "Accessories     77\n",
      "Unknown         15\n",
      "Name: count, dtype: int64\n",
      "\n",
      "\n",
      "Column: Location\n",
      "Location\n",
      "Los Angeles      194\n",
      "Miami            173\n",
      "New York         167\n",
      "Houston          151\n",
      "Chicago          130\n",
      "New York           9\n",
      "Los Angeles        6\n",
      "Miami              4\n",
      "Chicago            3\n",
      "Houston            2\n",
      "Name: count, dtype: int64\n",
      "\n",
      "\n",
      "Column: Size\n",
      "Size\n",
      "S     225\n",
      "M     215\n",
      "L     210\n",
      "XL    189\n",
      "Name: count, dtype: int64\n",
      "\n",
      "\n",
      "Column: Color\n",
      "Color\n",
      "Blue      155\n",
      "Yellow    141\n",
      "Green     140\n",
      "Red       137\n",
      "Black     136\n",
      "White     130\n",
      "Name: count, dtype: int64\n",
      "\n",
      "\n",
      "Column: Season\n",
      "Season\n",
      "Spring    225\n",
      "Summer    218\n",
      "Fall      201\n",
      "Winter    195\n",
      "Name: count, dtype: int64\n",
      "\n",
      "\n",
      "Column: Review Rating\n",
      "Review Rating\n",
      "5.0     565\n",
      "4.0     255\n",
      "Five     17\n",
      "3.0       2\n",
      "Name: count, dtype: int64\n",
      "\n",
      "\n",
      "Column: Subscription Status\n",
      "Subscription Status\n",
      "No      416\n",
      "Yes     406\n",
      "Yess     17\n",
      "Name: count, dtype: int64\n",
      "\n",
      "\n",
      "Column: Shipping Type\n",
      "Shipping Type\n",
      "Standard    293\n",
      "Same-Day    285\n",
      "Express     261\n",
      "Name: count, dtype: int64\n",
      "\n",
      "\n",
      "Column: Discount Applied\n",
      "Discount Applied\n",
      "No     439\n",
      "Yes    400\n",
      "Name: count, dtype: int64\n",
      "\n",
      "\n",
      "Column: Promo Code Used\n",
      "Promo Code Used\n",
      "No     434\n",
      "Yes    405\n",
      "Name: count, dtype: int64\n",
      "\n",
      "\n",
      "Column: Payment Method\n",
      "Payment Method\n",
      "Credit Card    345\n",
      "Debit Card     216\n",
      "PayPal         140\n",
      "Apple Pay       74\n",
      "Google Pay      64\n",
      "Name: count, dtype: int64\n",
      "\n",
      "\n",
      "Column: Frequency of Purchases\n",
      "Frequency of Purchases\n",
      "Monthly        282\n",
      "Weekly         280\n",
      "Fortnightly    277\n",
      "Name: count, dtype: int64\n",
      "\n",
      "\n"
     ]
    }
   ],
   "source": [
    "# Categorical Data Analysis\n",
    "for col in df.select_dtypes(include='object').columns:\n",
    "    print(f\"Column: {col}\")\n",
    "    print(df[col].value_counts())\n",
    "    print(\"\\n\")"
   ]
  },
  {
   "cell_type": "code",
   "execution_count": 15,
   "id": "46a51ffb",
   "metadata": {},
   "outputs": [],
   "source": [
    "# Ensure same casing for all categorical columns\n",
    "for col in df.select_dtypes(include='object').columns:\n",
    "    df[col] = df[col].str.title()\n",
    "    # print(df[col].value_counts())"
   ]
  },
  {
   "cell_type": "code",
   "execution_count": 16,
   "id": "cda5d4d7",
   "metadata": {},
   "outputs": [],
   "source": [
    "# Strip leading/trailing spaces\n",
    "for col in df.select_dtypes(include='object').columns:\n",
    "    df[col] = df[col].str.strip()\n",
    "    # print(df[col].value_counts())"
   ]
  },
  {
   "cell_type": "code",
   "execution_count": 17,
   "id": "4b9ee4bf",
   "metadata": {},
   "outputs": [
    {
     "data": {
      "text/plain": [
       "Subscription Status\n",
       "Yes    423\n",
       "No     416\n",
       "Name: count, dtype: int64"
      ]
     },
     "execution_count": 17,
     "metadata": {},
     "output_type": "execute_result"
    }
   ],
   "source": [
    "# Remove typo in Yess for Yes in 'Subscription Status' column\n",
    "df['Subscription Status'] = df['Subscription Status'].replace(\"Yess\", \"Yes\")\n",
    "df['Subscription Status'].value_counts()"
   ]
  },
  {
   "cell_type": "code",
   "execution_count": 18,
   "id": "1a7cdc40",
   "metadata": {},
   "outputs": [
    {
     "data": {
      "text/plain": [
       "dtype('O')"
      ]
     },
     "execution_count": 18,
     "metadata": {},
     "output_type": "execute_result"
    }
   ],
   "source": [
    "df['Review Rating'].dtype"
   ]
  },
  {
   "cell_type": "code",
   "execution_count": 19,
   "id": "5df69356",
   "metadata": {},
   "outputs": [
    {
     "data": {
      "text/plain": [
       "dtype('float64')"
      ]
     },
     "execution_count": 19,
     "metadata": {},
     "output_type": "execute_result"
    }
   ],
   "source": [
    "df['Review Rating'] = df['Review Rating'].replace(\"Five\", 5)\n",
    "\n",
    "# Convert to float\n",
    "df['Review Rating'] = pd.to_numeric(df['Review Rating'], errors='coerce')\n",
    "df['Review Rating'].dtype"
   ]
  },
  {
   "cell_type": "code",
   "execution_count": 20,
   "id": "70074b91",
   "metadata": {},
   "outputs": [
    {
     "data": {
      "text/plain": [
       "count    839.000000\n",
       "mean     169.483826\n",
       "std      163.737749\n",
       "min     -491.500000\n",
       "25%       68.935000\n",
       "50%      130.430000\n",
       "75%      228.205000\n",
       "max      994.920000\n",
       "Name: Purchase Amount (USD), dtype: float64"
      ]
     },
     "execution_count": 20,
     "metadata": {},
     "output_type": "execute_result"
    }
   ],
   "source": [
    "df['Purchase Amount (USD)'].describe()"
   ]
  },
  {
   "cell_type": "code",
   "execution_count": 21,
   "id": "9f069279",
   "metadata": {},
   "outputs": [
    {
     "data": {
      "text/plain": [
       "count    823.000000\n",
       "mean     178.156440\n",
       "std      152.122377\n",
       "min       15.000000\n",
       "25%       71.765000\n",
       "50%      133.460000\n",
       "75%      233.825000\n",
       "max      994.920000\n",
       "Name: Purchase Amount (USD), dtype: float64"
      ]
     },
     "execution_count": 21,
     "metadata": {},
     "output_type": "execute_result"
    }
   ],
   "source": [
    "# Remove purchase amounts with negative values\n",
    "df = df[df['Purchase Amount (USD)'] >= 0]\n",
    "df['Purchase Amount (USD)'].describe()"
   ]
  },
  {
   "cell_type": "code",
   "execution_count": 22,
   "id": "104f45bd",
   "metadata": {},
   "outputs": [],
   "source": [
    "# Store cleaned dataset back to .csv file\n",
    "df.to_csv('customer_purchase_dataset_cleaned.csv', index=False)"
   ]
  },
  {
   "cell_type": "markdown",
   "id": "2f72ad6d",
   "metadata": {},
   "source": [
    "# Descriptive statistics after cleaning"
   ]
  },
  {
   "cell_type": "code",
   "execution_count": 23,
   "id": "d16ec4c9",
   "metadata": {},
   "outputs": [
    {
     "name": "stdout",
     "output_type": "stream",
     "text": [
      "Mean: Age                         41.603888\n",
      "Annual Income (USD)      68204.110510\n",
      "Purchase Amount (USD)      178.156440\n",
      "Review Rating                4.688943\n",
      "Previous Purchases           7.566221\n",
      "dtype: float64\n",
      "Median: Age                         42.00\n",
      "Annual Income (USD)      67587.71\n",
      "Purchase Amount (USD)      133.46\n",
      "Review Rating                5.00\n",
      "Previous Purchases           8.00\n",
      "dtype: float64\n",
      "Mode: Age                         43.00\n",
      "Annual Income (USD)      20000.00\n",
      "Purchase Amount (USD)       18.92\n",
      "Review Rating                5.00\n",
      "Previous Purchases           9.00\n",
      "Name: 0, dtype: float64\n"
     ]
    }
   ],
   "source": [
    "# Measures of Central Tendency\n",
    "mean_purchase = df.select_dtypes(include=['float64', 'int64']).mean()\n",
    "median_purchase = df.select_dtypes(include=['float64', 'int64']).median()\n",
    "mode_purchase = df.select_dtypes(include=['float64', 'int64']).mode().iloc[0]\n",
    "\n",
    "print(f\"Mean: {mean_purchase}\")\n",
    "print(f\"Median: {median_purchase}\")\n",
    "print(f\"Mode: {mode_purchase}\")"
   ]
  },
  {
   "cell_type": "code",
   "execution_count": 24,
   "id": "06e1c715",
   "metadata": {},
   "outputs": [
    {
     "name": "stdout",
     "output_type": "stream",
     "text": [
      "Standard Deviation: Age                         13.849068\n",
      "Annual Income (USD)      25099.557242\n",
      "Purchase Amount (USD)      152.122377\n",
      "Review Rating                0.468431\n",
      "Previous Purchases           4.120765\n",
      "dtype: float64\n",
      "Variance: Age                      1.917967e+02\n",
      "Annual Income (USD)      6.299878e+08\n",
      "Purchase Amount (USD)    2.314122e+04\n",
      "Review Rating            2.194275e-01\n",
      "Previous Purchases       1.698071e+01\n",
      "dtype: float64\n",
      "Range: Age                          47.00\n",
      "Annual Income (USD)      129492.73\n",
      "Purchase Amount (USD)       979.92\n",
      "Review Rating                 2.00\n",
      "Previous Purchases           17.00\n",
      "dtype: float64\n",
      "IQR: Age                         23.50\n",
      "Annual Income (USD)      34262.75\n",
      "Purchase Amount (USD)      162.06\n",
      "Review Rating                1.00\n",
      "Previous Purchases           7.00\n",
      "dtype: float64\n"
     ]
    }
   ],
   "source": [
    "# Measures of spread\n",
    "\n",
    "std_dev = df.select_dtypes(include=['float64', 'int64']).std()\n",
    "variance = df.select_dtypes(include=['float64', 'int64']).var()\n",
    "range_v = df.select_dtypes(include=['float64', 'int64']).max() - df.select_dtypes(include=['float64', 'int64']).min()\n",
    "Q1 = df.select_dtypes(include=['float64', 'int64']).quantile(0.25)\n",
    "Q3 = df.select_dtypes(include=['float64', 'int64']).quantile(0.75)\n",
    "IQR = Q3 - Q1\n",
    "\n",
    "print(f\"Standard Deviation: {std_dev}\")\n",
    "print(f\"Variance: {variance}\")\n",
    "print(f\"Range: {range_v}\")\n",
    "print(f\"IQR: {IQR}\")"
   ]
  },
  {
   "cell_type": "markdown",
   "id": "28e692b4",
   "metadata": {},
   "source": [
    "## Data Visualization and Plotting\n",
    "\n",
    "Data visualization is a crucial component of exploratory data analysis that helps us understand patterns, distributions, and relationships in our dataset through graphical representations.\n",
    "\n",
    "### Why Plotting is Important in EDA:\n",
    "1. **Pattern Recognition**: Visual patterns are easier to identify than numerical summaries\n",
    "2. **Outlier Detection**: Extreme values stand out clearly in plots\n",
    "3. **Distribution Understanding**: Shape, skewness, and spread become apparent\n",
    "4. **Relationship Discovery**: Correlations and associations between variables\n",
    "5. **Data Quality Assessment**: Missing values and inconsistencies are visible\n",
    "\n",
    "### Common Plot Types for Different Data Types:\n",
    "\n",
    "**Numerical Data:**\n",
    "- **Histograms**: Show distribution shape and frequency\n",
    "- **Box Plots**: Display quartiles, median, and outliers\n",
    "- **Density Plots (KDE)**: Smooth distribution curves\n",
    "- **Scatter Plots**: Relationships between two numerical variables\n",
    "- **Line Plots**: Time series or ordered data trends\n",
    "\n",
    "**Categorical Data:**\n",
    "- **Bar Charts**: Frequency of categories\n",
    "- **Pie Charts**: Proportions of categories\n",
    "- **Count Plots**: Similar to bar charts with seaborn\n",
    "\n",
    "**Mixed Data Types:**\n",
    "- **Violin Plots**: Combine box plots with density plots\n",
    "- **Heatmaps**: Correlation matrices or cross-tabulations\n",
    "- **Pair Plots**: Multiple scatter plots for all variable combinations\n",
    "\n",
    "### Key Plotting Libraries:\n",
    "- **Matplotlib**: Foundation plotting library with fine control\n",
    "- **Seaborn**: Statistical plotting with attractive defaults\n",
    "- **Pandas Plotting**: Quick plots directly from DataFrames\n",
    "- **Plotly**: Interactive visualizations\n",
    "\n",
    "### Statistical Information in Plots:\n",
    "Our current dataset analysis shows:\n",
    "- **Mean vs Median**: Close values suggest relatively normal distributions\n",
    "- **Skewness**: Most variables show slight right-skew (positive values)\n",
    "- **IQR**: Interquartile ranges help identify outliers in box plots\n",
    "- **Standard Deviation**: Indicates spread around the mean\n",
    "\n",
    "The following cells will demonstrate various plotting techniques to visualize our customer purchase dataset effectively."
   ]
  },
  {
   "cell_type": "code",
   "execution_count": 25,
   "id": "b9a0d377",
   "metadata": {},
   "outputs": [
    {
     "data": {
      "image/png": "[encoded data removed]",
      "text/plain": [
       "<Figure size 800x500 with 1 Axes>"
      ]
     },
     "metadata": {},
     "output_type": "display_data"
    }
   ],
   "source": [
    "# Simple bar chart for Gender column\n",
    "import matplotlib.pyplot as plt\n",
    "import seaborn as sns\n",
    "\n",
    "plt.figure(figsize=(8, 5))\n",
    "plt.bar(df['Gender'].value_counts().index, df['Gender'].value_counts().values)\n",
    "plt.title('Gender Distribution')\n",
    "plt.xlabel('Gender')\n",
    "plt.ylabel('Count')\n",
    "plt.show()\n"
   ]
  },
  {
   "cell_type": "code",
   "execution_count": 26,
   "id": "301097ee",
   "metadata": {},
   "outputs": [
    {
     "data": {
      "image/png": "[encoded data removed]",
      "text/plain": [
       "<Figure size 1200x500 with 2 Axes>"
      ]
     },
     "metadata": {},
     "output_type": "display_data"
    }
   ],
   "source": [
    "# Simple line graph - Age trend (sorted by age)\n",
    "plt.figure(figsize=(12, 5))\n",
    "\n",
    "# Subplot 1: Line graph\n",
    "plt.subplot(1, 2, 1)\n",
    "df_sorted = df.sort_values('Age')\n",
    "plt.plot(df_sorted['Age'], df_sorted['Purchase Amount (USD)'], linewidth=0.8, alpha=0.7)\n",
    "plt.title('Purchase Amount Trend by Age')\n",
    "plt.xlabel('Age')\n",
    "plt.ylabel('Purchase Amount (USD)')\n",
    "plt.grid(True, alpha=0.3)\n",
    "\n",
    "# Subplot 2: Scatter plot\n",
    "plt.subplot(1, 2, 2)\n",
    "plt.scatter(df['Age'], df['Purchase Amount (USD)'], alpha=0.6, s=30)\n",
    "plt.title('Age vs Purchase Amount (Scatter)')\n",
    "plt.xlabel('Age')\n",
    "plt.ylabel('Purchase Amount (USD)')\n",
    "plt.grid(True, alpha=0.3)\n",
    "\n",
    "plt.tight_layout()\n",
    "plt.show()"
   ]
  },
  {
   "cell_type": "code",
   "execution_count": 27,
   "id": "20478c76",
   "metadata": {},
   "outputs": [
    {
     "data": {
      "image/png": "[encoded data removed]",
      "text/plain": [
       "<Figure size 1200x800 with 4 Axes>"
      ]
     },
     "metadata": {},
     "output_type": "display_data"
    }
   ],
   "source": [
    "import matplotlib.pyplot as plt\n",
    "import seaborn as sns\n",
    "\n",
    "# Set basic style\n",
    "plt.style.use('default')\n",
    "\n",
    "# Create simple plots\n",
    "fig, axes = plt.subplots(2, 2, figsize=(12, 8))\n",
    "fig.suptitle('Simple Data Visualizations', fontsize=14)\n",
    "\n",
    "# 1. Age histogram\n",
    "axes[0, 0].hist(df['Age'], bins=15, alpha=0.7, color='skyblue')\n",
    "axes[0, 0].set_title('Age Distribution')\n",
    "axes[0, 0].set_xlabel('Age')\n",
    "axes[0, 0].set_ylabel('Count')\n",
    "\n",
    "# 2. Purchase amount by gender\n",
    "df.boxplot(column='Purchase Amount (USD)', by='Gender', ax=axes[0, 1])\n",
    "axes[0, 1].set_title('Purchase Amount by Gender')\n",
    "\n",
    "# 3. Category counts\n",
    "category_counts = df['Category'].value_counts()\n",
    "axes[1, 0].bar(category_counts.index, category_counts.values)\n",
    "axes[1, 0].set_title('Product Categories')\n",
    "axes[1, 0].set_xlabel('Category')\n",
    "axes[1, 0].set_ylabel('Count')\n",
    "\n",
    "# 4. Age vs Purchase Amount\n",
    "axes[1, 1].scatter(df['Age'], df['Purchase Amount (USD)'], alpha=0.6)\n",
    "axes[1, 1].set_title('Age vs Purchase Amount')\n",
    "axes[1, 1].set_xlabel('Age')\n",
    "axes[1, 1].set_ylabel('Purchase Amount (USD)')\n",
    "\n",
    "plt.tight_layout()\n",
    "plt.show()\n"
   ]
  },
  {
   "cell_type": "code",
   "execution_count": 28,
   "id": "90b43373",
   "metadata": {},
   "outputs": [
    {
     "data": {
      "application/vnd.plotly.v1+json": {
       "config": {
        "plotlyServerURL": "https://plot.ly"
       },
       "data": [
        {
         "bingroup": "x",
         "hovertemplate": "Age=%{x}<br>count=%{y}<extra></extra>",
         "legendgroup": "",
         "marker": {
          "color": "#636efa",
          "pattern": {
           "shape": ""
          }
         },
         "name": "",
         "nbinsx": 15,
         "orientation": "v",
         "showlegend": false,
         "type": "histogram",
         "x": {
          "bdata": "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",
          "dtype": "f8"
         },
         "xaxis": "x",
         "yaxis": "y"
        }
       ],
       "layout": {
        "barmode": "relative",
        "legend": {
         "tracegroupgap": 0
        },
        "template": {
         "data": {
          "bar": [
           {
            "error_x": {
             "color": "#2a3f5f"
            },
            "error_y": {
             "color": "#2a3f5f"
            },
            "marker": {
             "line": {
              "color": "#E5ECF6",
              "width": 0.5
             },
             "pattern": {
              "fillmode": "overlay",
              "size": 10,
              "solidity": 0.2
             }
            },
            "type": "bar"
           }
          ],
          "barpolar": [
           {
            "marker": {
             "line": {
              "color": "#E5ECF6",
              "width": 0.5
             },
             "pattern": {
              "fillmode": "overlay",
              "size": 10,
              "solidity": 0.2
             }
            },
            "type": "barpolar"
           }
          ],
          "carpet": [
           {
            "aaxis": {
             "endlinecolor": "#2a3f5f",
             "gridcolor": "white",
             "linecolor": "white",
             "minorgridcolor": "white",
             "startlinecolor": "#2a3f5f"
            },
            "baxis": {
             "endlinecolor": "#2a3f5f",
             "gridcolor": "white",
             "linecolor": "white",
             "minorgridcolor": "white",
             "startlinecolor": "#2a3f5f"
            },
            "type": "carpet"
           }
          ],
          "choropleth": [
           {
            "colorbar": {
             "outlinewidth": 0,
             "ticks": ""
            },
            "type": "choropleth"
           }
          ],
          "contour": [
           {
            "colorbar": {
             "outlinewidth": 0,
             "ticks": ""
            },
            "colorscale": [
             [
              0,
              "#0d0887"
             ],
             [
              0.1111111111111111,
              "#46039f"
             ],
             [
              0.2222222222222222,
              "#7201a8"
             ],
             [
              0.3333333333333333,
              "#9c179e"
             ],
             [
              0.4444444444444444,
              "#bd3786"
             ],
             [
              0.5555555555555556,
              "#d8576b"
             ],
             [
              0.6666666666666666,
              "#ed7953"
             ],
             [
              0.7777777777777778,
              "#fb9f3a"
             ],
             [
              0.8888888888888888,
              "#fdca26"
             ],
             [
              1,
              "#f0f921"
             ]
            ],
            "type": "contour"
           }
          ],
          "contourcarpet": [
           {
            "colorbar": {
             "outlinewidth": 0,
             "ticks": ""
            },
            "type": "contourcarpet"
           }
          ],
          "heatmap": [
           {
            "colorbar": {
             "outlinewidth": 0,
             "ticks": ""
            },
            "colorscale": [
             [
              0,
              "#0d0887"
             ],
             [
              0.1111111111111111,
              "#46039f"
             ],
             [
              0.2222222222222222,
              "#7201a8"
             ],
             [
              0.3333333333333333,
              "#9c179e"
             ],
             [
              0.4444444444444444,
              "#bd3786"
             ],
             [
              0.5555555555555556,
              "#d8576b"
             ],
             [
              0.6666666666666666,
              "#ed7953"
             ],
             [
              0.7777777777777778,
              "#fb9f3a"
             ],
             [
              0.8888888888888888,
              "#fdca26"
             ],
             [
              1,
              "#f0f921"
             ]
            ],
            "type": "heatmap"
           }
          ],
          "histogram": [
           {
            "marker": {
             "pattern": {
              "fillmode": "overlay",
              "size": 10,
              "solidity": 0.2
             }
            },
            "type": "histogram"
           }
          ],
          "histogram2d": [
           {
            "colorbar": {
             "outlinewidth": 0,
             "ticks": ""
            },
            "colorscale": [
             [
              0,
              "#0d0887"
             ],
             [
              0.1111111111111111,
              "#46039f"
             ],
             [
              0.2222222222222222,
              "#7201a8"
             ],
             [
              0.3333333333333333,
              "#9c179e"
             ],
             [
              0.4444444444444444,
              "#bd3786"
             ],
             [
              0.5555555555555556,
              "#d8576b"
             ],
             [
              0.6666666666666666,
              "#ed7953"
             ],
             [
              0.7777777777777778,
              "#fb9f3a"
             ],
             [
              0.8888888888888888,
              "#fdca26"
             ],
             [
              1,
              "#f0f921"
             ]
            ],
            "type": "histogram2d"
           }
          ],
          "histogram2dcontour": [
           {
            "colorbar": {
             "outlinewidth": 0,
             "ticks": ""
            },
            "colorscale": [
             [
              0,
              "#0d0887"
             ],
             [
              0.1111111111111111,
              "#46039f"
             ],
             [
              0.2222222222222222,
              "#7201a8"
             ],
             [
              0.3333333333333333,
              "#9c179e"
             ],
             [
              0.4444444444444444,
              "#bd3786"
             ],
             [
              0.5555555555555556,
              "#d8576b"
             ],
             [
              0.6666666666666666,
              "#ed7953"
             ],
             [
              0.7777777777777778,
              "#fb9f3a"
             ],
             [
              0.8888888888888888,
              "#fdca26"
             ],
             [
              1,
              "#f0f921"
             ]
            ],
            "type": "histogram2dcontour"
           }
          ],
          "mesh3d": [
           {
            "colorbar": {
             "outlinewidth": 0,
             "ticks": ""
            },
            "type": "mesh3d"
           }
          ],
          "parcoords": [
           {
            "line": {
             "colorbar": {
              "outlinewidth": 0,
              "ticks": ""
             }
            },
            "type": "parcoords"
           }
          ],
          "pie": [
           {
            "automargin": true,
            "type": "pie"
           }
          ],
          "scatter": [
           {
            "fillpattern": {
             "fillmode": "overlay",
             "size": 10,
             "solidity": 0.2
            },
            "type": "scatter"
           }
          ],
          "scatter3d": [
           {
            "line": {
             "colorbar": {
              "outlinewidth": 0,
              "ticks": ""
             }
            },
            "marker": {
             "colorbar": {
              "outlinewidth": 0,
              "ticks": ""
             }
            },
            "type": "scatter3d"
           }
          ],
          "scattercarpet": [
           {
            "marker": {
             "colorbar": {
              "outlinewidth": 0,
              "ticks": ""
             }
            },
            "type": "scattercarpet"
           }
          ],
          "scattergeo": [
           {
            "marker": {
             "colorbar": {
              "outlinewidth": 0,
              "ticks": ""
             }
            },
            "type": "scattergeo"
           }
          ],
          "scattergl": [
           {
            "marker": {
             "colorbar": {
              "outlinewidth": 0,
              "ticks": ""
             }
            },
            "type": "scattergl"
           }
          ],
          "scattermap": [
           {
            "marker": {
             "colorbar": {
              "outlinewidth": 0,
              "ticks": ""
             }
            },
            "type": "scattermap"
           }
          ],
          "scattermapbox": [
           {
            "marker": {
             "colorbar": {
              "outlinewidth": 0,
              "ticks": ""
             }
            },
            "type": "scattermapbox"
           }
          ],
          "scatterpolar": [
           {
            "marker": {
             "colorbar": {
              "outlinewidth": 0,
              "ticks": ""
             }
            },
            "type": "scatterpolar"
           }
          ],
          "scatterpolargl": [
           {
            "marker": {
             "colorbar": {
              "outlinewidth": 0,
              "ticks": ""
             }
            },
            "type": "scatterpolargl"
           }
          ],
          "scatterternary": [
           {
            "marker": {
             "colorbar": {
              "outlinewidth": 0,
              "ticks": ""
             }
            },
            "type": "scatterternary"
           }
          ],
          "surface": [
           {
            "colorbar": {
             "outlinewidth": 0,
             "ticks": ""
            },
            "colorscale": [
             [
              0,
              "#0d0887"
             ],
             [
              0.1111111111111111,
              "#46039f"
             ],
             [
              0.2222222222222222,
              "#7201a8"
             ],
             [
              0.3333333333333333,
              "#9c179e"
             ],
             [
              0.4444444444444444,
              "#bd3786"
             ],
             [
              0.5555555555555556,
              "#d8576b"
             ],
             [
              0.6666666666666666,
              "#ed7953"
             ],
             [
              0.7777777777777778,
              "#fb9f3a"
             ],
             [
              0.8888888888888888,
              "#fdca26"
             ],
             [
              1,
              "#f0f921"
             ]
            ],
            "type": "surface"
           }
          ],
          "table": [
           {
            "cells": {
             "fill": {
              "color": "#EBF0F8"
             },
             "line": {
              "color": "white"
             }
            },
            "header": {
             "fill": {
              "color": "#C8D4E3"
             },
             "line": {
              "color": "white"
             }
            },
            "type": "table"
           }
          ]
         },
         "layout": {
          "annotationdefaults": {
           "arrowcolor": "#2a3f5f",
           "arrowhead": 0,
           "arrowwidth": 1
          },
          "autotypenumbers": "strict",
          "coloraxis": {
           "colorbar": {
            "outlinewidth": 0,
            "ticks": ""
           }
          },
          "colorscale": {
           "diverging": [
            [
             0,
             "#8e0152"
            ],
            [
             0.1,
             "#c51b7d"
            ],
            [
             0.2,
             "#de77ae"
            ],
            [
             0.3,
             "#f1b6da"
            ],
            [
             0.4,
             "#fde0ef"
            ],
            [
             0.5,
             "#f7f7f7"
            ],
            [
             0.6,
             "#e6f5d0"
            ],
            [
             0.7,
             "#b8e186"
            ],
            [
             0.8,
             "#7fbc41"
            ],
            [
             0.9,
             "#4d9221"
            ],
            [
             1,
             "#276419"
            ]
           ],
           "sequential": [
            [
             0,
             "#0d0887"
            ],
            [
             0.1111111111111111,
             "#46039f"
            ],
            [
             0.2222222222222222,
             "#7201a8"
            ],
            [
             0.3333333333333333,
             "#9c179e"
            ],
            [
             0.4444444444444444,
             "#bd3786"
            ],
            [
             0.5555555555555556,
             "#d8576b"
            ],
            [
             0.6666666666666666,
             "#ed7953"
            ],
            [
             0.7777777777777778,
             "#fb9f3a"
            ],
            [
             0.8888888888888888,
             "#fdca26"
            ],
            [
             1,
             "#f0f921"
            ]
           ],
           "sequentialminus": [
            [
             0,
             "#0d0887"
            ],
            [
             0.1111111111111111,
             "#46039f"
            ],
            [
             0.2222222222222222,
             "#7201a8"
            ],
            [
             0.3333333333333333,
             "#9c179e"
            ],
            [
             0.4444444444444444,
             "#bd3786"
            ],
            [
             0.5555555555555556,
             "#d8576b"
            ],
            [
             0.6666666666666666,
             "#ed7953"
            ],
            [
             0.7777777777777778,
             "#fb9f3a"
            ],
            [
             0.8888888888888888,
             "#fdca26"
            ],
            [
             1,
             "#f0f921"
            ]
           ]
          },
          "colorway": [
           "#636efa",
           "#EF553B",
           "#00cc96",
           "#ab63fa",
           "#FFA15A",
           "#19d3f3",
           "#FF6692",
           "#B6E880",
           "#FF97FF",
           "#FECB52"
          ],
          "font": {
           "color": "#2a3f5f"
          },
          "geo": {
           "bgcolor": "white",
           "lakecolor": "white",
           "landcolor": "#E5ECF6",
           "showlakes": true,
           "showland": true,
           "subunitcolor": "white"
          },
          "hoverlabel": {
           "align": "left"
          },
          "hovermode": "closest",
          "mapbox": {
           "style": "light"
          },
          "paper_bgcolor": "white",
          "plot_bgcolor": "#E5ECF6",
          "polar": {
           "angularaxis": {
            "gridcolor": "white",
            "linecolor": "white",
            "ticks": ""
           },
           "bgcolor": "#E5ECF6",
           "radialaxis": {
            "gridcolor": "white",
            "linecolor": "white",
            "ticks": ""
           }
          },
          "scene": {
           "xaxis": {
            "backgroundcolor": "#E5ECF6",
            "gridcolor": "white",
            "gridwidth": 2,
            "linecolor": "white",
            "showbackground": true,
            "ticks": "",
            "zerolinecolor": "white"
           },
           "yaxis": {
            "backgroundcolor": "#E5ECF6",
            "gridcolor": "white",
            "gridwidth": 2,
            "linecolor": "white",
            "showbackground": true,
            "ticks": "",
            "zerolinecolor": "white"
           },
           "zaxis": {
            "backgroundcolor": "#E5ECF6",
            "gridcolor": "white",
            "gridwidth": 2,
            "linecolor": "white",
            "showbackground": true,
            "ticks": "",
            "zerolinecolor": "white"
           }
          },
          "shapedefaults": {
           "line": {
            "color": "#2a3f5f"
           }
          },
          "ternary": {
           "aaxis": {
            "gridcolor": "white",
            "linecolor": "white",
            "ticks": ""
           },
           "baxis": {
            "gridcolor": "white",
            "linecolor": "white",
            "ticks": ""
           },
           "bgcolor": "#E5ECF6",
           "caxis": {
            "gridcolor": "white",
            "linecolor": "white",
            "ticks": ""
           }
          },
          "title": {
           "x": 0.05
          },
          "xaxis": {
           "automargin": true,
           "gridcolor": "white",
           "linecolor": "white",
           "ticks": "",
           "title": {
            "standoff": 15
           },
           "zerolinecolor": "white",
           "zerolinewidth": 2
          },
          "yaxis": {
           "automargin": true,
           "gridcolor": "white",
           "linecolor": "white",
           "ticks": "",
           "title": {
            "standoff": 15
           },
           "zerolinecolor": "white",
           "zerolinewidth": 2
          }
         }
        },
        "title": {
         "text": "Age Distribution"
        },
        "xaxis": {
         "anchor": "y",
         "domain": [
          0,
          1
         ],
         "title": {
          "text": "Age"
         }
        },
        "yaxis": {
         "anchor": "x",
         "domain": [
          0,
          1
         ],
         "title": {
          "text": "count"
         }
        }
       }
      }
     },
     "metadata": {},
     "output_type": "display_data"
    },
    {
     "data": {
      "application/vnd.plotly.v1+json": {
       "config": {
        "plotlyServerURL": "https://plot.ly"
       },
       "data": [
        {
         "hovertemplate": "Age=%{x}<br>Purchase Amount (USD)=%{y}<extra></extra>",
         "legendgroup": "",
         "line": {
          "color": "#636efa",
          "dash": "solid"
         },
         "marker": {
          "symbol": "circle"
         },
         "mode": "lines",
         "name": "",
         "orientation": "v",
         "showlegend": false,
         "type": "scatter",
         "x": {
          "bdata": "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",
          "dtype": "f8"
         },
         "xaxis": "x",
         "y": {
          "bdata": "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",
          "dtype": "f8"
         },
         "yaxis": "y"
        }
       ],
       "layout": {
        "legend": {
         "tracegroupgap": 0
        },
        "template": {
         "data": {
          "bar": [
           {
            "error_x": {
             "color": "#2a3f5f"
            },
            "error_y": {
             "color": "#2a3f5f"
            },
            "marker": {
             "line": {
              "color": "#E5ECF6",
              "width": 0.5
             },
             "pattern": {
              "fillmode": "overlay",
              "size": 10,
              "solidity": 0.2
             }
            },
            "type": "bar"
           }
          ],
          "barpolar": [
           {
            "marker": {
             "line": {
              "color": "#E5ECF6",
              "width": 0.5
             },
             "pattern": {
              "fillmode": "overlay",
              "size": 10,
              "solidity": 0.2
             }
            },
            "type": "barpolar"
           }
          ],
          "carpet": [
           {
            "aaxis": {
             "endlinecolor": "#2a3f5f",
             "gridcolor": "white",
             "linecolor": "white",
             "minorgridcolor": "white",
             "startlinecolor": "#2a3f5f"
            },
            "baxis": {
             "endlinecolor": "#2a3f5f",
             "gridcolor": "white",
             "linecolor": "white",
             "minorgridcolor": "white",
             "startlinecolor": "#2a3f5f"
            },
            "type": "carpet"
           }
          ],
          "choropleth": [
           {
            "colorbar": {
             "outlinewidth": 0,
             "ticks": ""
            },
            "type": "choropleth"
           }
          ],
          "contour": [
           {
            "colorbar": {
             "outlinewidth": 0,
             "ticks": ""
            },
            "colorscale": [
             [
              0,
              "#0d0887"
             ],
             [
              0.1111111111111111,
              "#46039f"
             ],
             [
              0.2222222222222222,
              "#7201a8"
             ],
             [
              0.3333333333333333,
              "#9c179e"
             ],
             [
              0.4444444444444444,
              "#bd3786"
             ],
             [
              0.5555555555555556,
              "#d8576b"
             ],
             [
              0.6666666666666666,
              "#ed7953"
             ],
             [
              0.7777777777777778,
              "#fb9f3a"
             ],
             [
              0.8888888888888888,
              "#fdca26"
             ],
             [
              1,
              "#f0f921"
             ]
            ],
            "type": "contour"
           }
          ],
          "contourcarpet": [
           {
            "colorbar": {
             "outlinewidth": 0,
             "ticks": ""
            },
            "type": "contourcarpet"
           }
          ],
          "heatmap": [
           {
            "colorbar": {
             "outlinewidth": 0,
             "ticks": ""
            },
            "colorscale": [
             [
              0,
              "#0d0887"
             ],
             [
              0.1111111111111111,
              "#46039f"
             ],
             [
              0.2222222222222222,
              "#7201a8"
             ],
             [
              0.3333333333333333,
              "#9c179e"
             ],
             [
              0.4444444444444444,
              "#bd3786"
             ],
             [
              0.5555555555555556,
              "#d8576b"
             ],
             [
              0.6666666666666666,
              "#ed7953"
             ],
             [
              0.7777777777777778,
              "#fb9f3a"
             ],
             [
              0.8888888888888888,
              "#fdca26"
             ],
             [
              1,
              "#f0f921"
             ]
            ],
            "type": "heatmap"
           }
          ],
          "histogram": [
           {
            "marker": {
             "pattern": {
              "fillmode": "overlay",
              "size": 10,
              "solidity": 0.2
             }
            },
            "type": "histogram"
           }
          ],
          "histogram2d": [
           {
            "colorbar": {
             "outlinewidth": 0,
             "ticks": ""
            },
            "colorscale": [
             [
              0,
              "#0d0887"
             ],
             [
              0.1111111111111111,
              "#46039f"
             ],
             [
              0.2222222222222222,
              "#7201a8"
             ],
             [
              0.3333333333333333,
              "#9c179e"
             ],
             [
              0.4444444444444444,
              "#bd3786"
             ],
             [
              0.5555555555555556,
              "#d8576b"
             ],
             [
              0.6666666666666666,
              "#ed7953"
             ],
             [
              0.7777777777777778,
              "#fb9f3a"
             ],
             [
              0.8888888888888888,
              "#fdca26"
             ],
             [
              1,
              "#f0f921"
             ]
            ],
            "type": "histogram2d"
           }
          ],
          "histogram2dcontour": [
           {
            "colorbar": {
             "outlinewidth": 0,
             "ticks": ""
            },
            "colorscale": [
             [
              0,
              "#0d0887"
             ],
             [
              0.1111111111111111,
              "#46039f"
             ],
             [
              0.2222222222222222,
              "#7201a8"
             ],
             [
              0.3333333333333333,
              "#9c179e"
             ],
             [
              0.4444444444444444,
              "#bd3786"
             ],
             [
              0.5555555555555556,
              "#d8576b"
             ],
             [
              0.6666666666666666,
              "#ed7953"
             ],
             [
              0.7777777777777778,
              "#fb9f3a"
             ],
             [
              0.8888888888888888,
              "#fdca26"
             ],
             [
              1,
              "#f0f921"
             ]
            ],
            "type": "histogram2dcontour"
           }
          ],
          "mesh3d": [
           {
            "colorbar": {
             "outlinewidth": 0,
             "ticks": ""
            },
            "type": "mesh3d"
           }
          ],
          "parcoords": [
           {
            "line": {
             "colorbar": {
              "outlinewidth": 0,
              "ticks": ""
             }
            },
            "type": "parcoords"
           }
          ],
          "pie": [
           {
            "automargin": true,
            "type": "pie"
           }
          ],
          "scatter": [
           {
            "fillpattern": {
             "fillmode": "overlay",
             "size": 10,
             "solidity": 0.2
            },
            "type": "scatter"
           }
          ],
          "scatter3d": [
           {
            "line": {
             "colorbar": {
              "outlinewidth": 0,
              "ticks": ""
             }
            },
            "marker": {
             "colorbar": {
              "outlinewidth": 0,
              "ticks": ""
             }
            },
            "type": "scatter3d"
           }
          ],
          "scattercarpet": [
           {
            "marker": {
             "colorbar": {
              "outlinewidth": 0,
              "ticks": ""
             }
            },
            "type": "scattercarpet"
           }
          ],
          "scattergeo": [
           {
            "marker": {
             "colorbar": {
              "outlinewidth": 0,
              "ticks": ""
             }
            },
            "type": "scattergeo"
           }
          ],
          "scattergl": [
           {
            "marker": {
             "colorbar": {
              "outlinewidth": 0,
              "ticks": ""
             }
            },
            "type": "scattergl"
           }
          ],
          "scattermap": [
           {
            "marker": {
             "colorbar": {
              "outlinewidth": 0,
              "ticks": ""
             }
            },
            "type": "scattermap"
           }
          ],
          "scattermapbox": [
           {
            "marker": {
             "colorbar": {
              "outlinewidth": 0,
              "ticks": ""
             }
            },
            "type": "scattermapbox"
           }
          ],
          "scatterpolar": [
           {
            "marker": {
             "colorbar": {
              "outlinewidth": 0,
              "ticks": ""
             }
            },
            "type": "scatterpolar"
           }
          ],
          "scatterpolargl": [
           {
            "marker": {
             "colorbar": {
              "outlinewidth": 0,
              "ticks": ""
             }
            },
            "type": "scatterpolargl"
           }
          ],
          "scatterternary": [
           {
            "marker": {
             "colorbar": {
              "outlinewidth": 0,
              "ticks": ""
             }
            },
            "type": "scatterternary"
           }
          ],
          "surface": [
           {
            "colorbar": {
             "outlinewidth": 0,
             "ticks": ""
            },
            "colorscale": [
             [
              0,
              "#0d0887"
             ],
             [
              0.1111111111111111,
              "#46039f"
             ],
             [
              0.2222222222222222,
              "#7201a8"
             ],
             [
              0.3333333333333333,
              "#9c179e"
             ],
             [
              0.4444444444444444,
              "#bd3786"
             ],
             [
              0.5555555555555556,
              "#d8576b"
             ],
             [
              0.6666666666666666,
              "#ed7953"
             ],
             [
              0.7777777777777778,
              "#fb9f3a"
             ],
             [
              0.8888888888888888,
              "#fdca26"
             ],
             [
              1,
              "#f0f921"
             ]
            ],
            "type": "surface"
           }
          ],
          "table": [
           {
            "cells": {
             "fill": {
              "color": "#EBF0F8"
             },
             "line": {
              "color": "white"
             }
            },
            "header": {
             "fill": {
              "color": "#C8D4E3"
             },
             "line": {
              "color": "white"
             }
            },
            "type": "table"
           }
          ]
         },
         "layout": {
          "annotationdefaults": {
           "arrowcolor": "#2a3f5f",
           "arrowhead": 0,
           "arrowwidth": 1
          },
          "autotypenumbers": "strict",
          "coloraxis": {
           "colorbar": {
            "outlinewidth": 0,
            "ticks": ""
           }
          },
          "colorscale": {
           "diverging": [
            [
             0,
             "#8e0152"
            ],
            [
             0.1,
             "#c51b7d"
            ],
            [
             0.2,
             "#de77ae"
            ],
            [
             0.3,
             "#f1b6da"
            ],
            [
             0.4,
             "#fde0ef"
            ],
            [
             0.5,
             "#f7f7f7"
            ],
            [
             0.6,
             "#e6f5d0"
            ],
            [
             0.7,
             "#b8e186"
            ],
            [
             0.8,
             "#7fbc41"
            ],
            [
             0.9,
             "#4d9221"
            ],
            [
             1,
             "#276419"
            ]
           ],
           "sequential": [
            [
             0,
             "#0d0887"
            ],
            [
             0.1111111111111111,
             "#46039f"
            ],
            [
             0.2222222222222222,
             "#7201a8"
            ],
            [
             0.3333333333333333,
             "#9c179e"
            ],
            [
             0.4444444444444444,
             "#bd3786"
            ],
            [
             0.5555555555555556,
             "#d8576b"
            ],
            [
             0.6666666666666666,
             "#ed7953"
            ],
            [
             0.7777777777777778,
             "#fb9f3a"
            ],
            [
             0.8888888888888888,
             "#fdca26"
            ],
            [
             1,
             "#f0f921"
            ]
           ],
           "sequentialminus": [
            [
             0,
             "#0d0887"
            ],
            [
             0.1111111111111111,
             "#46039f"
            ],
            [
             0.2222222222222222,
             "#7201a8"
            ],
            [
             0.3333333333333333,
             "#9c179e"
            ],
            [
             0.4444444444444444,
             "#bd3786"
            ],
            [
             0.5555555555555556,
             "#d8576b"
            ],
            [
             0.6666666666666666,
             "#ed7953"
            ],
            [
             0.7777777777777778,
             "#fb9f3a"
            ],
            [
             0.8888888888888888,
             "#fdca26"
            ],
            [
             1,
             "#f0f921"
            ]
           ]
          },
          "colorway": [
           "#636efa",
           "#EF553B",
           "#00cc96",
           "#ab63fa",
           "#FFA15A",
           "#19d3f3",
           "#FF6692",
           "#B6E880",
           "#FF97FF",
           "#FECB52"
          ],
          "font": {
           "color": "#2a3f5f"
          },
          "geo": {
           "bgcolor": "white",
           "lakecolor": "white",
           "landcolor": "#E5ECF6",
           "showlakes": true,
           "showland": true,
           "subunitcolor": "white"
          },
          "hoverlabel": {
           "align": "left"
          },
          "hovermode": "closest",
          "mapbox": {
           "style": "light"
          },
          "paper_bgcolor": "white",
          "plot_bgcolor": "#E5ECF6",
          "polar": {
           "angularaxis": {
            "gridcolor": "white",
            "linecolor": "white",
            "ticks": ""
           },
           "bgcolor": "#E5ECF6",
           "radialaxis": {
            "gridcolor": "white",
            "linecolor": "white",
            "ticks": ""
           }
          },
          "scene": {
           "xaxis": {
            "backgroundcolor": "#E5ECF6",
            "gridcolor": "white",
            "gridwidth": 2,
            "linecolor": "white",
            "showbackground": true,
            "ticks": "",
            "zerolinecolor": "white"
           },
           "yaxis": {
            "backgroundcolor": "#E5ECF6",
            "gridcolor": "white",
            "gridwidth": 2,
            "linecolor": "white",
            "showbackground": true,
            "ticks": "",
            "zerolinecolor": "white"
           },
           "zaxis": {
            "backgroundcolor": "#E5ECF6",
            "gridcolor": "white",
            "gridwidth": 2,
            "linecolor": "white",
            "showbackground": true,
            "ticks": "",
            "zerolinecolor": "white"
           }
          },
          "shapedefaults": {
           "line": {
            "color": "#2a3f5f"
           }
          },
          "ternary": {
           "aaxis": {
            "gridcolor": "white",
            "linecolor": "white",
            "ticks": ""
           },
           "baxis": {
            "gridcolor": "white",
            "linecolor": "white",
            "ticks": ""
           },
           "bgcolor": "#E5ECF6",
           "caxis": {
            "gridcolor": "white",
            "linecolor": "white",
            "ticks": ""
           }
          },
          "title": {
           "x": 0.05
          },
          "xaxis": {
           "automargin": true,
           "gridcolor": "white",
           "linecolor": "white",
           "ticks": "",
           "title": {
            "standoff": 15
           },
           "zerolinecolor": "white",
           "zerolinewidth": 2
          },
          "yaxis": {
           "automargin": true,
           "gridcolor": "white",
           "linecolor": "white",
           "ticks": "",
           "title": {
            "standoff": 15
           },
           "zerolinecolor": "white",
           "zerolinewidth": 2
          }
         }
        },
        "title": {
         "text": "Purchase Amount Trend by Age"
        },
        "xaxis": {
         "anchor": "y",
         "domain": [
          0,
          1
         ],
         "title": {
          "text": "Age"
         }
        },
        "yaxis": {
         "anchor": "x",
         "domain": [
          0,
          1
         ],
         "title": {
          "text": "Purchase Amount (USD)"
         }
        }
       }
      }
     },
     "metadata": {},
     "output_type": "display_data"
    }
   ],
   "source": [
    "# Some plots using plotly\n",
    "\n",
    "import plotly.express as px\n",
    "import plotly.graph_objects as go\n",
    "# Histogram of Age\n",
    "fig = px.histogram(df, x='Age', nbins=15, title='Age Distribution')\n",
    "fig.show()\n",
    "\n",
    "# Line plot of Purchase Amount over Age\n",
    "fig = px.line(df.sort_values('Age'), x='Age', y='Purchase Amount (USD)', title='Purchase Amount Trend by Age')\n",
    "fig.show()\n"
   ]
  },
  {
   "cell_type": "code",
   "execution_count": 29,
   "id": "bf1e4203",
   "metadata": {},
   "outputs": [
    {
     "name": "stdout",
     "output_type": "stream",
     "text": [
      "Skewness: Age                     -0.045072\n",
      "Annual Income (USD)      0.304392\n",
      "Purchase Amount (USD)    1.910593\n",
      "Review Rating           -0.888824\n",
      "Previous Purchases      -0.138442\n",
      "dtype: float64\n",
      "Kurtosis: Age                     -1.153374\n",
      "Annual Income (USD)     -0.228735\n",
      "Purchase Amount (USD)    4.700692\n",
      "Review Rating           -1.016266\n",
      "Previous Purchases      -0.786226\n",
      "dtype: float64\n"
     ]
    }
   ],
   "source": [
    "# Distribution Shapes (skewness and kurtosis)\n",
    "\n",
    "# https://www.datacamp.com/tutorial/understanding-skewness-and-kurtosis\n",
    "\n",
    "# What is skewness and kurtosis?\n",
    "# Skewness measures the asymmetry of the data distribution. A skewness value > 0 indicates a right-skewed distribution, while a value < 0 indicates a left-skewed distribution.\n",
    "# Kurtosis measures the \"tailedness\" of the data distribution. A kurtosis value > 3 indicates a distribution with heavier tails than a normal distribution, while a value < 3 indicates lighter tails.  \n",
    "\n",
    "\n",
    "skewness = df.select_dtypes(include=['float64', 'int64']).skew()\n",
    "kurtosis = df.select_dtypes(include=['float64', 'int64']).kurtosis()\n",
    "\n",
    "print(f\"Skewness: {skewness}\")\n",
    "print(f\"Kurtosis: {kurtosis}\")\n"
   ]
  },
  {
   "cell_type": "code",
   "execution_count": 30,
   "id": "9e67483e",
   "metadata": {},
   "outputs": [
    {
     "data": {
      "image/png": "[encoded data removed]",
      "text/plain": [
       "<Figure size 1000x600 with 1 Axes>"
      ]
     },
     "metadata": {},
     "output_type": "display_data"
    },
    {
     "data": {
      "image/png": "[encoded data removed]",
      "text/plain": [
       "<Figure size 1000x600 with 1 Axes>"
      ]
     },
     "metadata": {},
     "output_type": "display_data"
    },
    {
     "data": {
      "image/png": "[encoded data removed]",
      "text/plain": [
       "<Figure size 1000x600 with 1 Axes>"
      ]
     },
     "metadata": {},
     "output_type": "display_data"
    },
    {
     "data": {
      "image/png": "[encoded data removed]",
      "text/plain": [
       "<Figure size 1000x600 with 1 Axes>"
      ]
     },
     "metadata": {},
     "output_type": "display_data"
    },
    {
     "data": {
      "image/png": "[encoded data removed]",
      "text/plain": [
       "<Figure size 1000x600 with 1 Axes>"
      ]
     },
     "metadata": {},
     "output_type": "display_data"
    }
   ],
   "source": [
    "# Plot the kde plots to visualize the distribution with mean, median and mode markers\n",
    "# Also mention the kind of distribution (normal, left-skewed, right-skewed, etc.)\n",
    "\n",
    "import matplotlib.pyplot as plt\n",
    "import seaborn as sns\n",
    "\n",
    "\n",
    "for col in df.select_dtypes(include=['float64', 'int64']).columns:\n",
    "    plt.figure(figsize=(10, 6))\n",
    "    sns.kdeplot(df[col], fill=True)\n",
    "    plt.axvline(mean_purchase[col], color='r', linestyle='--', label='Mean')\n",
    "    plt.axvline(median_purchase[col], color='g', linestyle='-', label='Median')\n",
    "    plt.axvline(mode_purchase[col], color='b', linestyle=':', label='Mode')\n",
    "    plt.title(f'Distribution of {col}')\n",
    "    plt.xlabel(col)\n",
    "    plt.ylabel('Density')\n",
    "    if skewness[col] > 0:\n",
    "        skew_type = \"Right-Skewed\"\n",
    "    elif skewness[col] < 0:\n",
    "        skew_type = \"Left-Skewed\"\n",
    "    else:\n",
    "        skew_type = \"Symmetric\"\n",
    "    plt.text(0.05, 0.95, f'Skew: {skewness[col]:.2f} ({skew_type})\\nKurtosis: {kurtosis[col]:.2f}', \n",
    "             transform=plt.gca().transAxes, fontsize=10, verticalalignment='top',\n",
    "             bbox=dict(boxstyle=\"round,pad=0.3\", facecolor='lightblue', alpha=0.7))\n",
    "\n",
    "    # transform=plt.gca().transAxes to place text in axes coordinates\n",
    "    # It works by transforming the coordinates of the text box from data coordinates to axes coordinates, allowing for consistent placement regardless of the data range.\n",
    "    plt.legend()\n",
    "    plt.show()\n"
   ]
  },
  {
   "cell_type": "markdown",
   "id": "1fa061df",
   "metadata": {},
   "source": [
    "# Hypothesis Testing"
   ]
  },
  {
   "cell_type": "markdown",
   "id": "1773cd2a",
   "metadata": {},
   "source": [
    "## Hypothesis Testing\n",
    "\n",
    "Hypothesis testing is a statistical method used to make inferences or draw conclusions about a population based on a sample of data. It involves formulating a null hypothesis (H₀) and an alternative hypothesis (H₁), collecting data, and using statistical tests to determine whether to reject or fail to reject the null hypothesis.\n",
    "\n",
    "### Key Concepts\n",
    "\n",
    "**Null Hypothesis (H₀):**\n",
    "- A statement that there is no effect or no difference between groups or variables\n",
    "- Serves as a starting point for statistical testing\n",
    "- Typically assumed to be true until evidence suggests otherwise\n",
    "\n",
    "**Alternative Hypothesis (H₁):**\n",
    "- A statement that contradicts the null hypothesis\n",
    "- Suggests that there is an effect or a difference between groups or variables\n",
    "- Represents the research hypothesis that the researcher aims to support through data analysis\n",
    "\n",
    "### Example Hypothesis Test\n",
    "\n",
    "**Null Hypothesis (H₀):** The average purchase amount for customers with a subscription is equal to the average purchase amount for customers without a subscription.\n",
    "\n",
    "**Alternative Hypothesis (H₁):** The average purchase amount for customers with a subscription is different from the average purchase amount for customers without a subscription.\n",
    "\n",
    "### Statistical Significance\n",
    "- **p-value**: Probability of observing the test results under the assumption that the null hypothesis is correct\n",
    "- **Significance level (α)**: Threshold for determining statistical significance (commonly 0.05)\n",
    "- **Decision rule**: If p-value < α, reject H₀; otherwise, fail to reject H₀"
   ]
  },
  {
   "cell_type": "markdown",
   "id": "1549fef3",
   "metadata": {},
   "source": [
    "## T-Test Theory and Explanation\n",
    "\n",
    "The **t-test** is a statistical hypothesis test used to determine if there is a significant difference between the means of two groups. It's one of the most commonly used statistical tests in data analysis and research.\n",
    "\n",
    "### What is a T-Test?\n",
    "\n",
    "A t-test compares the means of two groups to determine whether they are statistically different from each other. It uses the t-distribution, which is similar to the normal distribution but accounts for the uncertainty that comes with smaller sample sizes.\n",
    "\n",
    "### Types of T-Tests\n",
    "\n",
    "**1. One-Sample T-Test:**\n",
    "- Compares a sample mean to a known population mean\n",
    "- Example: Is the average age of our customers significantly different from 30 years?\n",
    "\n",
    "**2. Independent Two-Sample T-Test (Unpaired):**\n",
    "- Compares the means of two independent groups\n",
    "- Example: Is there a difference in purchase amounts between subscribers and non-subscribers?\n",
    "\n",
    "**3. Paired T-Test (Dependent):**\n",
    "- Compares means from the same subjects at different times\n",
    "- Example: Customer satisfaction before and after a service improvement\n",
    "\n",
    "### Key Components of T-Test\n",
    "\n",
    "**T-Statistic Formula:**\n",
    "```\n",
    "t = (mean₁ - mean₂) / (pooled standard error)\n",
    "```\n",
    "\n",
    "**Degrees of Freedom (df):**\n",
    "- For independent t-test: df = n₁ + n₂ - 2\n",
    "- Where n₁ and n₂ are the sample sizes of the two groups\n",
    "\n",
    "**P-Value:**\n",
    "- Probability of observing the test results under the null hypothesis\n",
    "- If p-value < α (significance level), reject the null hypothesis\n",
    "\n",
    "### Assumptions of T-Test\n",
    "\n",
    "1. **Independence:** Observations must be independent of each other\n",
    "2. **Normality:** Data should be approximately normally distributed\n",
    "3. **Equal Variances:** Both groups should have similar variances (for independent t-test)\n",
    "4. **Continuous Data:** The dependent variable should be continuous\n",
    "\n",
    "### Interpretation\n",
    "\n",
    "**Statistical Significance:**\n",
    "- **p-value < 0.05:** Statistically significant difference (reject H₀)\n",
    "- **p-value ≥ 0.05:** No statistically significant difference (fail to reject H₀)\n",
    "\n",
    "**Effect Size:**\n",
    "- A large t-statistic (positive or negative) indicates a larger difference between groups\n",
    "- The magnitude tells us about practical significance, not just statistical significance\n",
    "\n",
    "### Example from Our Analysis\n",
    "\n",
    "In our customer dataset analysis:\n",
    "- **Groups:** Customers with subscription vs. without subscription\n",
    "- **Variable:** Purchase Amount (USD)\n",
    "- **T-statistic:** 0.0019 (very small)\n",
    "- **P-value:** 0.9985 (very high)\n",
    "- **Conclusion:** No statistically significant difference in purchase amounts between the two groups\n",
    "\n",
    "### When to Use T-Test vs Other Tests\n",
    "\n",
    "**Use T-Test when:**\n",
    "- Comparing means of continuous variables\n",
    "- Sample size is relatively small (< 30) or population standard deviation is unknown\n",
    "- Data meets the assumptions listed above\n",
    "\n",
    "**Consider alternatives when:**\n",
    "- Data is not normally distributed → Use Mann-Whitney U test\n",
    "- Comparing more than two groups → Use ANOVA\n",
    "- Large sample sizes → Z-test might be appropriate"
   ]
  },
  {
   "cell_type": "code",
   "execution_count": 31,
   "id": "7899ae3c",
   "metadata": {},
   "outputs": [
    {
     "name": "stdout",
     "output_type": "stream",
     "text": [
      "T-statistic: 0.9777345116378475, P-value: 0.3284936553794021\n",
      "Fail to reject the null hypothesis.\n"
     ]
    }
   ],
   "source": [
    "# Hypothesis Testing Example\n",
    "\n",
    "# Null Hypothesis (H0): There is no significant difference in average purchase amount between customers with and without a subscription.\n",
    "# Alternative Hypothesis (H1): There is a significant difference in average purchase amount between customers with and without a subscription.\n",
    "\n",
    "from scipy import stats\n",
    "# Separate the data into two groups\n",
    "group_with_subscription = df[df['Subscription Status'] == 'Yes']['Purchase Amount (USD)']\n",
    "group_without_subscription = df[df['Subscription Status'] == 'No']['Purchase Amount (USD)']\n",
    "\n",
    "# Perform independent t-test\n",
    "t_stat, p_value = stats.ttest_ind(group_with_subscription, group_without_subscription)\n",
    "print(f\"T-statistic: {t_stat}, P-value: {p_value}\")\n",
    "\n",
    "# Significance level\n",
    "alpha = 0.05\n",
    "if p_value < alpha:\n",
    "    print(\"Reject the null hypothesis.\")\n",
    "    # This suggests that there could be a significant difference in average purchase amounts between the two groups.\n",
    "else:\n",
    "    print(\"Fail to reject the null hypothesis.\")\n",
    "    # This suggests that there is no significant difference in average purchase amounts between the two groups.\n"
   ]
  }
 ],
 "metadata": {
  "kernelspec": {
   "display_name": "Python 3",
   "language": "python",
   "name": "python3"
  },
  "language_info": {
   "codemirror_mode": {
    "name": "ipython",
    "version": 3
   },
   "file_extension": ".py",
   "mimetype": "text/x-python",
   "name": "python",
   "nbconvert_exporter": "python",
   "pygments_lexer": "ipython3",
   "version": "3.13.5"
  }
 },
 "nbformat": 4,
 "nbformat_minor": 5
}
