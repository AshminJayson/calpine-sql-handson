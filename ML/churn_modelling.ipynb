{
 "cells": [
  {
   "cell_type": "code",
   "execution_count": null,
   "id": "ee3c3d77",
   "metadata": {},
   "outputs": [],
   "source": [
    "# Load Churn_Modeling.csv into a pandas DataFrame\n",
    "\n",
    "import pandas as pd\n",
    "\n",
    "df = pd.read_csv('Churn_Modelling.csv')"
   ]
  },
  {
   "cell_type": "code",
   "execution_count": null,
   "id": "4a28e33e",
   "metadata": {},
   "outputs": [],
   "source": [
    "df.head()"
   ]
  },
  {
   "cell_type": "code",
   "execution_count": null,
   "id": "db0856d8",
   "metadata": {},
   "outputs": [],
   "source": [
    "df.info()"
   ]
  },
  {
   "cell_type": "code",
   "execution_count": null,
   "id": "958ba4d3",
   "metadata": {},
   "outputs": [],
   "source": [
    "df.describe()"
   ]
  },
  {
   "cell_type": "code",
   "execution_count": null,
   "id": "6d7c6167",
   "metadata": {},
   "outputs": [],
   "source": [
    "df = df.drop(['RowNumber', 'CustomerId', 'Surname'], axis=1)"
   ]
  },
  {
   "cell_type": "code",
   "execution_count": null,
   "id": "185633f1",
   "metadata": {},
   "outputs": [],
   "source": [
    "df.describe()"
   ]
  },
  {
   "cell_type": "code",
   "execution_count": null,
   "id": "8a2fbd07",
   "metadata": {},
   "outputs": [],
   "source": [
    "# Convert negative EstimatedSalary values to positive\n",
    "\n",
    "df['EstimatedSalary'] = df['EstimatedSalary'].abs()"
   ]
  },
  {
   "cell_type": "code",
   "execution_count": null,
   "id": "167dbdf4",
   "metadata": {},
   "outputs": [],
   "source": [
    "df.isnull().sum()"
   ]
  },
  {
   "cell_type": "code",
   "execution_count": null,
   "id": "452da4ce",
   "metadata": {},
   "outputs": [],
   "source": [
    "df = df.dropna()"
   ]
  },
  {
   "cell_type": "code",
   "execution_count": null,
   "id": "272e8f6d",
   "metadata": {},
   "outputs": [],
   "source": [
    "df.describe()"
   ]
  },
  {
   "cell_type": "code",
   "execution_count": null,
   "id": "a3018646",
   "metadata": {},
   "outputs": [],
   "source": [
    "# Cap credit score at 900\n",
    "df['CreditScore'] = df['CreditScore'].clip(upper=900)"
   ]
  },
  {
   "cell_type": "code",
   "execution_count": null,
   "id": "c9d1d9dd",
   "metadata": {},
   "outputs": [],
   "source": [
    "df.describe()"
   ]
  },
  {
   "cell_type": "code",
   "execution_count": null,
   "id": "6a08a81b",
   "metadata": {},
   "outputs": [],
   "source": [
    "# Convert categorical Geography to numerical using label encoding\n",
    "from sklearn.preprocessing import LabelEncoder\n",
    "le = LabelEncoder()\n",
    "df['Geography'] = le.fit_transform(df['Geography'])\n",
    "df['Gender'] = le.fit_transform(df['Gender'])\n",
    "df.head()\n"
   ]
  },
  {
   "cell_type": "code",
   "execution_count": null,
   "id": "a8c2cf57",
   "metadata": {},
   "outputs": [],
   "source": [
    "# Plot feature importance\n",
    "import matplotlib.pyplot as plt\n",
    "import seaborn as sns\n",
    "feature_importance = df.corr()['Exited'].abs().sort_values(ascending=False)\n",
    "plt.figure(figsize=(10,6))\n",
    "sns.barplot(x=feature_importance.index, y=feature_importance.values)\n",
    "plt.xticks(rotation=45)\n",
    "plt.title('Feature Importance for Churn Prediction')\n",
    "plt.show()"
   ]
  },
  {
   "cell_type": "code",
   "execution_count": null,
   "id": "1921cc46",
   "metadata": {},
   "outputs": [],
   "source": [
    "# Create decision tree model to predict churn\n",
    "from sklearn.model_selection import train_test_split\n",
    "from sklearn.tree import DecisionTreeClassifier\n",
    "from sklearn.metrics import classification_report, confusion_matrix\n",
    "X = df.drop(['HasCrCard', 'EstimatedSalary', 'Tenure', 'Exited', 'CreditScore', 'Geography'], axis=1)\n",
    "y = df['Exited']\n",
    "X_train, X_test, y_train, y_test = train_test_split(X, y, test_size=0.2, random_state=42)\n",
    "model = DecisionTreeClassifier(random_state=42, max_depth=5)\n",
    "model.fit(X_train, y_train)\n",
    "y_pred = model.predict(X_test)\n",
    "print(confusion_matrix(y_test, y_pred))\n",
    "print(classification_report(y_test, y_pred))"
   ]
  },
  {
   "cell_type": "code",
   "execution_count": null,
   "id": "2ac551e4",
   "metadata": {},
   "outputs": [],
   "source": [
    "# Plot the decision tree\n",
    "from sklearn.tree import plot_tree\n",
    "plt.figure(figsize=(200,100))\n",
    "plot_tree(model, filled=True, feature_names=X.columns, class_names=['Stay', 'Exit'])\n",
    "plt.show()"
   ]
  },
  {
   "cell_type": "code",
   "execution_count": null,
   "id": "9082ef6c",
   "metadata": {},
   "outputs": [],
   "source": [
    "# Hyper parameter tuning using GridSearchCV\n",
    "\n",
    "from sklearn.model_selection import GridSearchCV\n",
    "param_grid = {\n",
    "    'max_depth': [None, 3, 5, 7, 10],\n",
    "}\n",
    "grid_search = GridSearchCV(estimator=model, param_grid=param_grid, cv=5, n_jobs=-1, verbose=2)\n",
    "grid_search.fit(X_train, y_train)\n",
    "best_model = grid_search.best_estimator_\n",
    "y_pred_best = best_model.predict(X_test)\n",
    "print(confusion_matrix(y_test, y_pred_best))\n",
    "print(classification_report(y_test, y_pred_best))\n",
    "print(\"Best Hyperparameters:\", grid_search.best_estimator_)\n"
   ]
  },
  {
   "cell_type": "code",
   "execution_count": null,
   "id": "62d0a6ad",
   "metadata": {},
   "outputs": [],
   "source": [
    "# Random Forest Classifier for churn prediction\n",
    "from sklearn.ensemble import RandomForestClassifier\n",
    "rf_model = RandomForestClassifier(random_state=42, n_estimators=100)\n",
    "rf_model.fit(X_train, y_train)\n",
    "y_pred_rf = rf_model.predict(X_test)\n",
    "print(confusion_matrix(y_test, y_pred_rf))\n",
    "print(classification_report(y_test, y_pred_rf))"
   ]
  },
  {
   "cell_type": "code",
   "execution_count": null,
   "id": "7dd53e8c",
   "metadata": {},
   "outputs": [],
   "source": [
    "# Grid Search for Random Forest\n",
    "param_grid_rf = {\n",
    "    'n_estimators': [50, 100, 200],\n",
    "    'max_depth': [None, 5, 10, 20]\n",
    "}\n",
    "grid_search_rf = GridSearchCV(estimator=rf_model, param_grid=param_grid_rf, cv=5, n_jobs=-1, verbose=2)\n",
    "grid_search_rf.fit(X_train, y_train)\n",
    "best_rf_model = grid_search_rf.best_estimator_\n",
    "y_pred_best_rf = best_rf_model.predict(X_test)\n",
    "print(confusion_matrix(y_test, y_pred_best_rf))\n",
    "print(classification_report(y_test, y_pred_best_rf))"
   ]
  },
  {
   "cell_type": "code",
   "execution_count": null,
   "id": "83d6ecfb",
   "metadata": {},
   "outputs": [],
   "source": [
    "# Logistic regression model to predict Outcome and evaluate accuracy\n",
    "from sklearn.linear_model import LogisticRegression\n",
    "log_model = LogisticRegression(max_iter=1000)\n",
    "log_model.fit(X_train, y_train)\n",
    "y_pred_log = log_model.predict(X_test)\n",
    "print(confusion_matrix(y_test, y_pred_log))\n",
    "print(classification_report(y_test, y_pred_log))"
   ]
  },
  {
   "cell_type": "code",
   "execution_count": null,
   "id": "854dabbc",
   "metadata": {},
   "outputs": [],
   "source": [
    "# Grid Search for Logistic Regression\n",
    "param_grid_log = {\n",
    "    'C': [0.01, 0.1, 1, 10\n",
    "    ],\n",
    "    'solver': ['liblinear', 'saga']\n",
    "}\n",
    "\n",
    "grid_search_log = GridSearchCV(estimator=log_model, param_grid=param_grid_log, cv=5, n_jobs=-1, verbose=2)\n",
    "grid_search_log.fit(X_train, y_train)\n",
    "best_log_model = grid_search_log.best_estimator_\n",
    "y_pred_best_log = best_log_model.predict(X_test)\n",
    "print(confusion_matrix(y_test, y_pred_best_log))\n",
    "print(classification_report(y_test, y_pred_best_log))"
   ]
  },
  {
   "cell_type": "code",
   "execution_count": null,
   "id": "ecba971b",
   "metadata": {},
   "outputs": [],
   "source": [
    "# Plot feature coefficients for logistic regression\n",
    "plt.figure(figsize=(10, 6))\n",
    "coefficients = best_log_model.coef_[0]\n",
    "feature_names = X.columns\n",
    "plt.barh(feature_names, coefficients)\n",
    "plt.xlabel('Coefficient Value')\n",
    "plt.title('Logistic Regression Feature Coefficients')\n",
    "plt.tight_layout()\n",
    "plt.show()\n",
    "\n",
    "# Alternative: Plot prediction probabilities distribution\n",
    "y_prob = best_log_model.predict_proba(X_test)[:, 1]\n",
    "plt.figure(figsize=(10, 6))\n",
    "plt.hist(y_prob[y_test == 0], alpha=0.7, label='Stay', bins=30)\n",
    "plt.hist(y_prob[y_test == 1], alpha=0.7, label='Exit', bins=30)\n",
    "plt.xlabel('Predicted Probability of Churn')\n",
    "plt.ylabel('Frequency')\n",
    "plt.title('Distribution of Predicted Probabilities')\n",
    "plt.legend()\n",
    "plt.show()\n"
   ]
  },
  {
   "cell_type": "code",
   "execution_count": null,
   "id": "d3edf3dd",
   "metadata": {},
   "outputs": [],
   "source": [
    "# Save the best model using joblib\n",
    "import joblib\n",
    "joblib.dump(best_log_model, 'best_logistic_regression_model.joblib')"
   ]
  }
 ],
 "metadata": {
  "kernelspec": {
   "display_name": "Python 3",
   "language": "python",
   "name": "python3"
  },
  "language_info": {
   "codemirror_mode": {
    "name": "ipython",
    "version": 3
   },
   "file_extension": ".py",
   "mimetype": "text/x-python",
   "name": "python",
   "nbconvert_exporter": "python",
   "pygments_lexer": "ipython3",
   "version": "3.13.5"
  }
 },
 "nbformat": 4,
 "nbformat_minor": 5
}
